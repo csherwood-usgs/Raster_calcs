{
 "cells": [
  {
   "cell_type": "code",
   "execution_count": 18,
   "metadata": {},
   "outputs": [
    {
     "name": "stdout",
     "output_type": "stream",
     "text": [
      "[[1 2 3]\n",
      " [1 2 3]\n",
      " [1 2 3]]\n",
      "slope: 1.0 aspect: -90.0 PrC: 0.0 PlC: -0.0\n",
      "dydz: [[0. 0. 0.]\n",
      " [0. 0. 0.]\n",
      " [0. 0. 0.]]\n",
      "dxdz: [[1. 1. 1.]\n",
      " [1. 1. 1.]\n",
      " [1. 1. 1.]]\n",
      "slope:  1.0\n",
      "slope2: [[45. 45. 45.]\n",
      " [45. 45. 45.]\n",
      " [45. 45. 45.]]\n",
      "slope_mag: [[45. 45. 45.]\n",
      " [45. 45. 45.]\n",
      " [45. 45. 45.]]\n",
      "aspect:  -90.0\n",
      "aspect2: [[-90. -90. -90.]\n",
      " [-90. -90. -90.]\n",
      " [-90. -90. -90.]]\n",
      "[[1 1]\n",
      " [1 1]\n",
      " [1 1]]\n"
     ]
    }
   ],
   "source": [
    "import numpy as np\n",
    "from operator import add\n",
    "\n",
    "def slope_aspect(a,d=1.):\n",
    "    # this seems to get aspect wrong. It might be an array indexing problem.\n",
    "    i=1\n",
    "    j=1\n",
    "    Z1=a[i+1,j-1]\n",
    "    Z2=a[i+1,j]\n",
    "    Z3=a[i+1,j+1]\n",
    "    Z4=a[i,j-1]\n",
    "    Z5=a[i,j]\n",
    "    Z6=a[i,j+1]\n",
    "    Z7=a[i-1,j-1]\n",
    "    Z8=a[i-1,j]\n",
    "    Z9=a[i-1,j+1]\n",
    "#     print(Z1,Z2,Z3)\n",
    "#     print(Z4,Z5,Z6)\n",
    "#     print(Z7,Z8,Z9)\n",
    "    \n",
    "    A = ((Z1 + Z3 + Z7 + Z9)/4. - (Z2 + Z4 + Z6 + Z8)/2. + Z5)/d**4\n",
    "    B = ((Z1 + Z3 - Z7 - Z9)/4. - (Z2 - Z8)/2.)/d**3\n",
    "    C = ((-Z1 + Z3 - Z7 + Z9)/4. + (Z4 - Z6)/2.)/d**3\n",
    "    D = ((Z4 + Z6)/2. - Z5)/d**2\n",
    "    E = ((Z2 + Z8)/2. - Z5)/d**2\n",
    "    F = (-Z1 + Z3 + Z7 - Z9)/(4.*d**2)\n",
    "    G = (-Z4 + Z6)/(2.*d)\n",
    "    H = (Z2 - Z8)/(2.*d)\n",
    "    I = Z5\n",
    "    \n",
    "    slope = np.sqrt(G**2 + H**2)\n",
    "    aspect = np.rad2deg(np.arctan2(-H, -G))+90. # +90 is CRS kludge\n",
    "    PrC =  2.*(D*G**2 + E*H**2 + F*G*H)/(G**2 + H**2)\n",
    "    PlC = -2.*(D*H**2 + E*G**2 - F*G*H)/(G**2 + H**2)\n",
    "    print(\"slope:\",slope,'aspect:',aspect,\"PrC:\",PrC,\"PlC:\",PlC)\n",
    "    \n",
    "    dydz, dxdz = np.gradient(a)\n",
    "    print(\"dydz:\",dydz)\n",
    "    print(\"dxdz:\",dxdz)\n",
    "    slope_mag = np.sqrt(dxdz**2 + dydz**2)\n",
    "    slope2 = np.degrees( np.pi/2. - np.arctan(slope_mag))\n",
    "    aspect2 = np.rad2deg( np.arctan2(-dxdz, dydz) )\n",
    "    print(\"slope: \", slope)\n",
    "    print(\"slope2:\", slope2)\n",
    "    print(\"slope_mag:\", slope2)\n",
    "\n",
    "    print(\"aspect: \",aspect)\n",
    "    print(\"aspect2:\",aspect2)\n",
    "\n",
    "\n",
    "\n",
    "    \n",
    "#a = np.array([[3,3,3],[5,5,5],[7,7,7]])\n",
    "a = np.array([[1,2,3],[1,2,3],[1,2,3]])\n",
    "#a = np.array([[1,1,1],[1,0,1],[1,1,1]])\n",
    "print(a)\n",
    "slope_aspect(a)\n",
    "print(np.diff(a))"
   ]
  },
  {
   "cell_type": "code",
   "execution_count": null,
   "metadata": {},
   "outputs": [],
   "source": []
  }
 ],
 "metadata": {
  "kernelspec": {
   "display_name": "Python 3",
   "language": "python",
   "name": "python3"
  },
  "language_info": {
   "codemirror_mode": {
    "name": "ipython",
    "version": 3
   },
   "file_extension": ".py",
   "mimetype": "text/x-python",
   "name": "python",
   "nbconvert_exporter": "python",
   "pygments_lexer": "ipython3",
   "version": "3.7.1"
  }
 },
 "nbformat": 4,
 "nbformat_minor": 2
}
