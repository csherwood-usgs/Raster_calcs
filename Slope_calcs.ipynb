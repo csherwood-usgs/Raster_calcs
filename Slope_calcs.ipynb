{
 "cells": [
  {
   "cell_type": "markdown",
   "metadata": {
    "deletable": true,
    "editable": true
   },
   "source": [
    "http://desktop.arcgis.com/en/arcmap/10.3/tools/spatial-analyst-toolbox/how-slope-works.htm\n",
    "https://www.usna.edu/Users/oceano/pguth/md_help/html/demb1f3n.htm\n",
    "http://hydrology.usu.edu/taudem/taudem5/help/D8FlowDirections.html"
   ]
  },
  {
   "cell_type": "code",
   "execution_count": 4,
   "metadata": {
    "collapsed": false,
    "deletable": true,
    "editable": true
   },
   "outputs": [
    {
     "name": "stdout",
     "output_type": "stream",
     "text": [
      "(3, 3)\n",
      "[[ 50.  45.  50.]\n",
      " [ 30.  30.  30.]\n",
      " [  8.  10.  10.]]\n"
     ]
    }
   ],
   "source": [
    "# raster slope calculation\n",
    "import numpy as np\n",
    "ta = np.array([[50.,45.,50.],[30.,30.,30.],[8.,10.,10.]])\n",
    "print(np.shape(ta))\n",
    "print(ta)"
   ]
  },
  {
   "cell_type": "code",
   "execution_count": 13,
   "metadata": {
    "collapsed": false,
    "deletable": true,
    "editable": true
   },
   "outputs": [
    {
     "name": "stdout",
     "output_type": "stream",
     "text": [
      "0.05 -3.8\n",
      "3.80032893313\n"
     ]
    }
   ],
   "source": [
    "i=1\n",
    "j=1\n",
    "dx = 5;\n",
    "dy = 5;\n",
    "dzdx=((ta[i-1,j+1]+2.*ta[i,j+1]+ta[i+1,j+1])-(ta[i-1,j-1]+2.*ta[i,j-1]+ta[i+1,j-1]))/(8.*dx)\n",
    "dzdy=((ta[i+1,j-1]+2.*ta[i+1,j]+ta[i+1,j+1])-(ta[i-1,j-1]+2.*ta[i-1,j]+ta[i-1,j+1]))/(8.*dy)\n",
    "riseorun = (dzdx**2.+dzdy**2.)**(0.5)\n",
    "print(dzdx, dzdy)\n",
    "print(riseorun)"
   ]
  },
  {
   "cell_type": "code",
   "execution_count": 10,
   "metadata": {
    "collapsed": false,
    "deletable": true,
    "editable": true
   },
   "outputs": [],
   "source": [
    "i= np.array((1,2,3,4,5,6,7,8))"
   ]
  },
  {
   "cell_type": "code",
   "execution_count": 11,
   "metadata": {
    "collapsed": false
   },
   "outputs": [
    {
     "name": "stdout",
     "output_type": "stream",
     "text": [
      "[1 2 3 4 5 6 7 8]\n"
     ]
    }
   ],
   "source": [
    "print(i)"
   ]
  },
  {
   "cell_type": "code",
   "execution_count": null,
   "metadata": {
    "collapsed": true
   },
   "outputs": [],
   "source": []
  }
 ],
 "metadata": {
  "kernelspec": {
   "display_name": "Python [conda env:IOOS3]",
   "language": "python",
   "name": "conda-env-IOOS3-py"
  },
  "language_info": {
   "codemirror_mode": {
    "name": "ipython",
    "version": 3
   },
   "file_extension": ".py",
   "mimetype": "text/x-python",
   "name": "python",
   "nbconvert_exporter": "python",
   "pygments_lexer": "ipython3",
   "version": "3.6.0"
  }
 },
 "nbformat": 4,
 "nbformat_minor": 2
}
