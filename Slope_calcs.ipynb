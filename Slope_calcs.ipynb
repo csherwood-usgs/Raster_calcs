{
 "cells": [
  {
   "cell_type": "markdown",
   "metadata": {},
   "source": [
    "http://desktop.arcgis.com/en/arcmap/10.3/tools/spatial-analyst-toolbox/how-slope-works.htm"
   ]
  },
  {
   "cell_type": "code",
   "execution_count": 4,
   "metadata": {
    "collapsed": false
   },
   "outputs": [
    {
     "name": "stdout",
     "output_type": "stream",
     "text": [
      "(3, 3)\n",
      "[[50 45 50]\n",
      " [30 30 30]\n",
      " [ 8 10 10]]\n"
     ]
    }
   ],
   "source": [
    "# raster slope calculation\n",
    "import numpy as np\n",
    "ta = np.array([[50.,45.,50.],[30.,30.,30.],[8.,10.,10.]])\n",
    "print(np.shape(ta))\n",
    "print(ta)"
   ]
  },
  {
   "cell_type": "code",
   "execution_count": 13,
   "metadata": {
    "collapsed": false
   },
   "outputs": [
    {
     "name": "stdout",
     "output_type": "stream",
     "text": [
      "0.05 -3.8\n",
      "3.80032893313\n"
     ]
    }
   ],
   "source": [
    "i=1\n",
    "j=1\n",
    "dx = 5;\n",
    "dy = 5;\n",
    "dzdx=((ta[i-1,j+1]+2.*ta[i,j+1]+ta[i+1,j+1])-(ta[i-1,j-1]+2.*ta[i,j-1]+ta[i+1,j-1]))/(8.*dx)\n",
    "dzdy=((ta[i+1,j-1]+2.*ta[i+1,j]+ta[i+1,j+1])-(ta[i-1,j-1]+2.*ta[i-1,j]+ta[i-1,j+1]))/(8.*dy)\n",
    "riseorun = (dzdx**2.+dzdy**2.)**(0.5)\n",
    "print(dzdx, dzdy)\n",
    "print(riseorun)"
   ]
  },
  {
   "cell_type": "code",
   "execution_count": null,
   "metadata": {
    "collapsed": true
   },
   "outputs": [],
   "source": []
  }
 ],
 "metadata": {
  "kernelspec": {
   "display_name": "Python [conda env:IOOS3]",
   "language": "python",
   "name": "conda-env-IOOS3-py"
  },
  "language_info": {
   "codemirror_mode": {
    "name": "ipython",
    "version": 3
   },
   "file_extension": ".py",
   "mimetype": "text/x-python",
   "name": "python",
   "nbconvert_exporter": "python",
   "pygments_lexer": "ipython3",
   "version": "3.6.0"
  }
 },
 "nbformat": 4,
 "nbformat_minor": 2
}
