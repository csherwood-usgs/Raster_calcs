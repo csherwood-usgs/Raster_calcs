{
 "cells": [
  {
   "cell_type": "markdown",
   "metadata": {},
   "source": [
    "## Sandwich_maps_local_coords_v2\n",
    "\n",
    "Read DEMS and convert to rotated alongshore/cross-shore coordinate systems.\n",
    "Modified to include some of the masked channels.\n",
    "\n",
    "This produces the 1-m gridded 3D elevation map saved as an .nc file.\n",
    "\n",
    "This version differs from the original because x is now the alongshore coordinate (positive to SE), and y is the alonshore ccoordinate (positive to NE). This happens after the maps have been interpolated.\n",
    "\n"
   ]
  },
  {
   "cell_type": "code",
   "execution_count": 1,
   "metadata": {},
   "outputs": [
    {
     "name": "stderr",
     "output_type": "stream",
     "text": [
      "C:\\Users\\csherwood\\AppData\\Local\\Continuum\\miniconda3\\envs\\IOOS\\lib\\site-packages\\xarray\\core\\merge.py:17: FutureWarning: The Panel class is removed from pandas. Accessing it from the top-level namespace will also be removed in the next version\n",
      "  PANDAS_TYPES = (pd.Series, pd.DataFrame, pd.Panel)\n"
     ]
    }
   ],
   "source": [
    "import numpy as np\n",
    "from IPython.display import display, HTML\n",
    "import matplotlib.pyplot as plt\n",
    "from scipy import interpolate, signal\n",
    "\n",
    "import xarray as xr\n",
    "%matplotlib inline"
   ]
  },
  {
   "cell_type": "code",
   "execution_count": 2,
   "metadata": {},
   "outputs": [],
   "source": [
    "fdir = \"D:/crs/proj/2015_Sandwich/2017_Karen_Sandwich_maps/\"\n",
    "\n",
    "#fdir = \"C:/crs/proj/2017_Karen_Sandwich_maps\"\n",
    "\n",
    "fnames = (\\\n",
    "\"2016-01-22_SandwichTNB_PT_DEM_10cm_trimmed.tif\",\\\n",
    "\"2016-01-25_SandwichTNB_DEM_10cm_trimmed.tif\",\\\n",
    "\"2016-02-11_SandwichTNB_DEM_10cm_trimmed.tif\",\\\n",
    "\"2016-03-30_SandwichTNB_AS_DEM_10cm_trimmed.tif\",\\\n",
    "\"2016-09-21_SandwichTNB_DEM_10cm_trimmed.tif\",\\\n",
    "\"2017-01-09_SandwichTNB_DEM_10cm_trimmed.tif\",\\\n",
    "\"2017-01-25_SandwichTNB_DEM_10cm_trimmed_channel_mask.tif\",\\\n",
    "\"2017-02-14_SandwichTNB_DEM_10cm_trimmed_channel_mask.tif\",\\\n",
    "\"2017-03-16_SandwichTNB_DEM_10cm_trimmed.tif\",\\\n",
    "\"2017-04-28_SandwichTNB_DEM_10cm_trimmed.tif\",\\\n",
    "\"2017-05-04_SandwichTNB_DEM_10cm_trimmed.tif\",\\\n",
    "\"2017-09-18_SandwichTNB_DEM_10cm_trimmed.tif\",\\\n",
    "#\"2018-01-03_SandwichTNB_DEM_10cm_trimmed.tif\",\\ # needs to be padded...not very good control\n",
    "\"2018-01-10_SandwichTNB_DEM_10cm_trimmed.tif\",\\\n",
    "#\"DEM_10cm_selfcal_lokicampos_mid_denseNAD83UTM19.tif\",\\\n",
    "\"2018-03-09_SandwichTNB_PT_v2_DEM_10cm_trimmed.tif\")\n",
    "\n",
    "# list of dates for use as titles / column headers\n",
    "titles = ([\\\n",
    "         \"22-Jan-2016\",\\\n",
    "         \"25-Jan-2016\",\\\n",
    "         \"11-Feb-2016\",\\\n",
    "         \"30-Mar-2016\",\\\n",
    "         \"21-Sep-2016\",\\\n",
    "         \"09-Jan-2017\",\\\n",
    "         \"25-Jan-2017\",\\\n",
    "         \"14-Feb-2017\",\\\n",
    "         \"16-Mar-2017\",\\\n",
    "         \"28-Apr-2017\",\\\n",
    "         \"04-May_2017\",\\\n",
    "         \"18-Sep-2017\",\\\n",
    "#         \"03-Jan-2017\",\\\n",
    "         \"10-Jan-2018\",\\\n",
    "         \"09-Mar-2018\"])\n",
    "\n",
    "nf=len(fnames)"
   ]
  },
  {
   "cell_type": "code",
   "execution_count": 3,
   "metadata": {},
   "outputs": [],
   "source": [
    "def box2UTMh(x, y, x0, y0, theta):\n",
    "    '''\n",
    "    2D rotation and translation of x, y\n",
    "    Input:\n",
    "        x, y - row vectors of original coordinates (must be same size)\n",
    "        x0, y0 - Offset (location of x, y = (0,0) in new coordinate system)\n",
    "        theta - Angle of rotation (degrees, CCW from x-axis == Cartesian coorinates)\n",
    "    Returns:\n",
    "        xr, yr - rotated, offset coordinates\n",
    "    '''\n",
    "    thetar = np.radians(theta)\n",
    "    c, s = np.cos(thetar), np.sin(thetar)\n",
    "\n",
    "    # homogenous rotation matrix\n",
    "    Rh = np.array(((c, -s,  0.),\\\n",
    "                   (s,  c,  0.),\\\n",
    "                   (0., 0., 1.)))\n",
    "    # homogenous translation matrix\n",
    "    Th = np.array(((1., 0., x0),\\\n",
    "                   (0., 1., y0),\\\n",
    "                   (0., 0., 1.)))\n",
    "    \n",
    "    # homogenous input x,y\n",
    "    xyh = np.vstack((x,y,np.ones_like(x)))\n",
    "\n",
    "    # perform rotation and translation\n",
    "    xyrh=np.matmul(np.matmul(Th,Rh),xyh)\n",
    "    xr = xyrh[0,:]\n",
    "    yr = xyrh[1,:]\n",
    "    return xr, yr"
   ]
  },
  {
   "cell_type": "markdown",
   "metadata": {},
   "source": [
    "### Make small box with local alongshore/cross-shore coordinates that will be our region of interest (ROI)"
   ]
  },
  {
   "cell_type": "code",
   "execution_count": 4,
   "metadata": {},
   "outputs": [
    {
     "name": "stdout",
     "output_type": "stream",
     "text": [
      "xrot:\n",
      "(280, 1300)\n",
      "[[5.0000e-01 1.5000e+00 2.5000e+00 ... 1.2975e+03 1.2985e+03 1.2995e+03]\n",
      " [5.0000e-01 1.5000e+00 2.5000e+00 ... 1.2975e+03 1.2985e+03 1.2995e+03]\n",
      " [5.0000e-01 1.5000e+00 2.5000e+00 ... 1.2975e+03 1.2985e+03 1.2995e+03]\n",
      " ...\n",
      " [5.0000e-01 1.5000e+00 2.5000e+00 ... 1.2975e+03 1.2985e+03 1.2995e+03]\n",
      " [5.0000e-01 1.5000e+00 2.5000e+00 ... 1.2975e+03 1.2985e+03 1.2995e+03]\n",
      " [5.0000e-01 1.5000e+00 2.5000e+00 ... 1.2975e+03 1.2985e+03 1.2995e+03]]\n",
      "yrot:\n",
      "(280, 1300)\n",
      "[[  0.5   0.5   0.5 ...   0.5   0.5   0.5]\n",
      " [  1.5   1.5   1.5 ...   1.5   1.5   1.5]\n",
      " [  2.5   2.5   2.5 ...   2.5   2.5   2.5]\n",
      " ...\n",
      " [277.5 277.5 277.5 ... 277.5 277.5 277.5]\n",
      " [278.5 278.5 278.5 ... 278.5 278.5 278.5]\n",
      " [279.5 279.5 279.5 ... 279.5 279.5 279.5]]\n"
     ]
    }
   ],
   "source": [
    "# make a small box w/ cell centered grid with spacing dxy\n",
    "dxy = 1.\n",
    "ymax = 280. # cross-shore\n",
    "xmax = 1300.  # alongshore\n",
    "nx = int((1./dxy)*xmax)\n",
    "ny = int((1./dxy)*ymax)\n",
    "\n",
    "xcoords = np.linspace(0.5*dxy,xmax-0.5*dxy,nx)\n",
    "ycoords = np.linspace(0.5*dxy,ymax-0.5*dxy,ny)\n",
    "# Y is ascending\n",
    "xrot, yrot=np.meshgrid(xcoords, ycoords ,sparse=False, indexing='xy')\n",
    "print(\"xrot:\")\n",
    "print(xrot.shape)\n",
    "print(xrot)\n",
    "print(\"yrot:\")\n",
    "print(yrot.shape)\n",
    "print(yrot)"
   ]
  },
  {
   "cell_type": "markdown",
   "metadata": {},
   "source": [
    "### Convert ROI to UTM coordinates"
   ]
  },
  {
   "cell_type": "code",
   "execution_count": 5,
   "metadata": {},
   "outputs": [
    {
     "name": "stdout",
     "output_type": "stream",
     "text": [
      "Shape of xrot, yrot:  (280, 1300) (280, 1300)\n",
      "Shape of xu and yu:  (280, 1300) (280, 1300)\n",
      "Corners in rotated coordinates\n",
      "Upper left [  0.5 279.5]  Upper right [1299.5  279.5]\n",
      "Lower left [0.5 0.5]  Lower right [1.2995e+03 5.0000e-01]\n",
      "Corners in UTM coordinates\n",
      "Upper left [ 376418.75924416 4625460.38726746]  Upper right [ 377442.3852131  4624660.64301101]\n",
      "Lower left [ 376246.98969254 4625240.5322672 ]  Lower right [ 377270.61566148 4624440.78801075]\n",
      "Corners: \n",
      "[[ 376246.98969254 4625240.5322672 ]\n",
      " [ 377270.61566148 4624440.78801075]\n",
      " [ 377442.3852131  4624660.64301101]\n",
      " [ 376418.75924416 4625460.38726746]\n",
      " [ 376246.98969254 4625240.5322672 ]]\n"
     ]
    },
    {
     "data": {
      "image/png": "[encoded data removed]",
      "text/plain": [
       "<Figure size 864x432 with 2 Axes>"
      ]
     },
     "metadata": {
      "needs_background": "light"
     },
     "output_type": "display_data"
    }
   ],
   "source": [
    "# Define the ROI with bottom left corner and rotation of axes\n",
    "# original with origin in upper left\n",
    "e0 = 377270.; n0 = 4624440.\n",
    "rot = 52.\n",
    "\n",
    "# _v2 with oring in bottom left\n",
    "e0=376246.28785643\n",
    "n0=4625240.44609256\n",
    "rot=-38.\n",
    "\n",
    "print('Shape of xrot, yrot: ',np.shape(xrot),np.shape(xrot))\n",
    "shp = np.shape(xrot)\n",
    "xu, yu = box2UTMh(xrot.flatten(), yrot.flatten(), e0, n0, rot)\n",
    "xu=np.reshape(xu,shp)\n",
    "yu=np.reshape(yu,shp)\n",
    "print('Shape of xu and yu: ',np.shape(xu),np.shape(yu))\n",
    "\n",
    "# Corners in rotated coordinate system\n",
    "LLr = np.asarray( [xrot[0][0],yrot[0][0]] )\n",
    "LRr = np.asarray( [xrot[0][-1],yrot[0][-1]])\n",
    "URr = np.asarray([xrot[-1][-1],yrot[-1][-1]])\n",
    "ULr = np.asarray([xrot[-1][0],yrot[-1][0]])\n",
    "\n",
    "# Corners in UTM coordinates\n",
    "LLu = np.asarray( [xu[0][0],yu[0][0]] )\n",
    "LRu = np.asarray( [xu[0][-1],yu[0][-1]])\n",
    "URu = np.asarray([xu[-1][-1],yu[-1][-1]])\n",
    "ULu = np.asarray([xu[-1][0],yu[-1][0]])\n",
    "\n",
    "print('Corners in rotated coordinates')\n",
    "print('Upper left',ULr,' Upper right',URr)\n",
    "print('Lower left',LLr,' Lower right',LRr)\n",
    "print('Corners in UTM coordinates')\n",
    "print('Upper left',ULu,' Upper right',URu)\n",
    "print('Lower left',LLu,' Lower right',LRu)\n",
    "\n",
    "corners = np.asarray(  [LLu, LRu, URu, ULu, LLu ])\n",
    "# [[xu[0][0],yu[0][0]],\\\n",
    "#                        [xu[0][-1],yu[0][-1]],\\\n",
    "#                        [xu[-1][-1],yu[-1][-1]],\\\n",
    "#                        [xu[-1][0],yu[-1][0]],\\\n",
    "#                        [xu[0][0],yu[0][0]]])\n",
    "\n",
    "# write the UTM coords of the corners to an ASCII file\n",
    "print(\"Corners: \")\n",
    "print(corners)\n",
    "fn = 'sandwich_corners.csv'\n",
    "np.savetxt(fn, corners, delimiter=\",\")\n",
    "\n",
    "fig = plt.figure(figsize=(12,6))\n",
    "ax = fig.add_subplot(1,2,1)\n",
    "plt.contourf(xrot,yrot,xu,5)\n",
    "ax.set_aspect(1.)\n",
    "ax = fig.add_subplot(1,2,2)\n",
    "plt.contourf(xrot,yrot,yu,5)\n",
    "ax.set_aspect(1.)"
   ]
  },
  {
   "cell_type": "markdown",
   "metadata": {},
   "source": [
    "### Loop through the maps and interpolate onto the rotated coordinate system\n",
    "Some of the DEMS have holes w/ NaNs.\n",
    "\n",
    "Here is one option for smoothing the raw data before interpolating:\n",
    "https://stackoverflow.com/questions/18697532/gaussian-filtering-a-image-with-nan-in-python\n",
    "\n",
    "Strategy: Use a 2D convolution kernal that is sharp, but covers a 5x5 footprint. Using the"
   ]
  },
  {
   "cell_type": "code",
   "execution_count": 6,
   "metadata": {},
   "outputs": [
    {
     "name": "stdout",
     "output_type": "stream",
     "text": [
      "0 D:/crs/proj/2015_Sandwich/2017_Karen_Sandwich_maps/2016-01-22_SandwichTNB_PT_DEM_10cm_trimmed.tif\n",
      "(10226,) (11987,) (1, 10226, 11987)\n",
      "(11987,) (10226,) (10226, 11987)\n",
      "1 D:/crs/proj/2015_Sandwich/2017_Karen_Sandwich_maps/2016-01-25_SandwichTNB_DEM_10cm_trimmed.tif\n",
      "(10156,) (11420,) (1, 10156, 11420)\n",
      "(11420,) (10156,) (10156, 11420)\n",
      "2 D:/crs/proj/2015_Sandwich/2017_Karen_Sandwich_maps/2016-02-11_SandwichTNB_DEM_10cm_trimmed.tif\n",
      "(10204,) (11673,) (1, 10204, 11673)\n",
      "(11673,) (10204,) (10204, 11673)\n",
      "3 D:/crs/proj/2015_Sandwich/2017_Karen_Sandwich_maps/2016-03-30_SandwichTNB_AS_DEM_10cm_trimmed.tif\n",
      "(9858,) (11504,) (1, 9858, 11504)\n",
      "(11504,) (9858,) (9858, 11504)\n",
      "4 D:/crs/proj/2015_Sandwich/2017_Karen_Sandwich_maps/2016-09-21_SandwichTNB_DEM_10cm_trimmed.tif\n",
      "(12379,) (12221,) (1, 12379, 12221)\n",
      "(12221,) (12379,) (12379, 12221)\n",
      "5 D:/crs/proj/2015_Sandwich/2017_Karen_Sandwich_maps/2017-01-09_SandwichTNB_DEM_10cm_trimmed.tif\n",
      "(10491,) (11301,) (1, 10491, 11301)\n",
      "(11301,) (10491,) (10491, 11301)\n",
      "6 D:/crs/proj/2015_Sandwich/2017_Karen_Sandwich_maps/2017-01-25_SandwichTNB_DEM_10cm_trimmed_channel_mask.tif\n",
      "(10175,) (11191,) (1, 10175, 11191)\n",
      "(11191,) (10175,) (10175, 11191)\n",
      "7 D:/crs/proj/2015_Sandwich/2017_Karen_Sandwich_maps/2017-02-14_SandwichTNB_DEM_10cm_trimmed_channel_mask.tif\n",
      "(10544,) (10865,) (1, 10544, 10865)\n",
      "(10865,) (10544,) (10544, 10865)\n",
      "8 D:/crs/proj/2015_Sandwich/2017_Karen_Sandwich_maps/2017-03-16_SandwichTNB_DEM_10cm_trimmed.tif\n",
      "(10578,) (11474,) (1, 10578, 11474)\n",
      "(11474,) (10578,) (10578, 11474)\n",
      "9 D:/crs/proj/2015_Sandwich/2017_Karen_Sandwich_maps/2017-04-28_SandwichTNB_DEM_10cm_trimmed.tif\n",
      "(10975,) (11993,) (1, 10975, 11993)\n",
      "(11993,) (10975,) (10975, 11993)\n",
      "10 D:/crs/proj/2015_Sandwich/2017_Karen_Sandwich_maps/2017-05-04_SandwichTNB_DEM_10cm_trimmed.tif\n",
      "(11815,) (12142,) (1, 11815, 12142)\n",
      "(12142,) (11815,) (11815, 12142)\n",
      "11 D:/crs/proj/2015_Sandwich/2017_Karen_Sandwich_maps/2017-09-18_SandwichTNB_DEM_10cm_trimmed.tif\n",
      "(10236,) (11762,) (1, 10236, 11762)\n",
      "(11762,) (10236,) (10236, 11762)\n",
      "12 D:/crs/proj/2015_Sandwich/2017_Karen_Sandwich_maps/2018-01-10_SandwichTNB_DEM_10cm_trimmed.tif\n",
      "(10000,) (11425,) (1, 10000, 11425)\n",
      "(11425,) (10000,) (10000, 11425)\n",
      "13 D:/crs/proj/2015_Sandwich/2017_Karen_Sandwich_maps/2018-03-09_SandwichTNB_PT_v2_DEM_10cm_trimmed.tif\n",
      "(11721,) (13544,) (1, 11721, 13544)\n",
      "(13544,) (11721,) (11721, 13544)\n",
      "Wall time: 12min 50s\n"
     ]
    }
   ],
   "source": [
    "%%time\n",
    "dslist=[]\n",
    "ksize=3\n",
    "for i in range(nf):\n",
    "    fn = fdir+fnames[i]\n",
    "    print(i, fn)\n",
    "    \n",
    "    # open the tif with XArray as a DataArray\n",
    "    da = xr.open_rasterio(fn)\n",
    "    \n",
    "    print( np.shape(np.flipud(da['y'].values)), np.shape(da['x'].values), np.shape( np.flipud(da.values)) )\n",
    "    x = da['x'].values\n",
    "    y = np.flipud(da['y'].values)\n",
    "    \n",
    "    # Not sure how da.values got a singleton dimension, but squeeze gets rid of it.\n",
    "    # However, make sure to squeeze before flipping\n",
    "    z = np.flipud(np.squeeze(da.values))\n",
    "    print(np.shape(x),np.shape(y),np.shape(z))\n",
    "    \n",
    "    # smooth with 2D running median\n",
    "    zs = signal.medfilt2d(z, kernel_size=ksize)\n",
    "    \n",
    "    f = interpolate.RegularGridInterpolator( (y, x), zs, method='linear')   \n",
    "    \n",
    "    # Array for interpolated elevations\n",
    "    zi=np.NaN*np.ones((ny,nx))\n",
    "\n",
    "    # this is a slow iteration through all of the points, but allows us to skip ones that are outside\n",
    "    for ij in np.ndindex(zi.shape):\n",
    "        try:\n",
    "            zi[ij]=f((yu[ij],xu[ij]))\n",
    "        except:\n",
    "            zi[ij]=np.NaN\n",
    "            \n",
    "    da = xr.DataArray(zi,dims=['Cross-shore','Alongshore'],coords={'Cross-shore':ycoords, 'Alongshore': xcoords})\n",
    "    # dslist.append(da.chunk()) # this does not work...can't concatenate a method\n",
    "    da = da.chunk()\n",
    "    dslist.append(da)"
   ]
  },
  {
   "cell_type": "code",
   "execution_count": 7,
   "metadata": {},
   "outputs": [],
   "source": [
    "dsa = xr.concat(dslist, dim='map')"
   ]
  },
  {
   "cell_type": "code",
   "execution_count": 8,
   "metadata": {},
   "outputs": [
    {
     "data": {
      "text/plain": [
       "<xarray.DataArray (map: 14, Cross-shore: 280, Alongshore: 1300)>\n",
       "dask.array<shape=(14, 280, 1300), dtype=float64, chunksize=(1, 280, 1300)>\n",
       "Coordinates:\n",
       "  * Cross-shore  (Cross-shore) float64 0.5 1.5 2.5 3.5 ... 277.5 278.5 279.5\n",
       "  * Alongshore   (Alongshore) float64 0.5 1.5 2.5 ... 1.298e+03 1.3e+03\n",
       "Dimensions without coordinates: map"
      ]
     },
     "execution_count": 8,
     "metadata": {},
     "output_type": "execute_result"
    }
   ],
   "source": [
    "dsa"
   ]
  },
  {
   "cell_type": "code",
   "execution_count": 9,
   "metadata": {},
   "outputs": [],
   "source": [
    "dsa.to_netcdf('Sandwich_1m_DEM_v2.nc')"
   ]
  },
  {
   "cell_type": "code",
   "execution_count": 19,
   "metadata": {},
   "outputs": [
    {
     "data": {
      "image/png": "[encoded data removed]",
      "text/plain": [
       "<Figure size 864x360 with 14 Axes>"
      ]
     },
     "metadata": {
      "needs_background": "light"
     },
     "output_type": "display_data"
    }
   ],
   "source": [
    "# declare a plot size\n",
    "clevels = [-2,0,2,4,6,8]\n",
    "fig  = plt.figure(figsize=(12,5))\n",
    "for i in range(nf):\n",
    "# small plots of elevation\n",
    "    ax=fig.add_subplot(4,4,i+1)\n",
    "    plt.axis('off')\n",
    "    plt.contourf(xrot,yrot,np.squeeze(dsa[i,:,:].values),clevels,cmap=plt.cm.terrain)\n",
    "    plt.text(100,270,titles[i],fontsize=12)\n",
    "    ax.set_aspect(1.);"
   ]
  },
  {
   "cell_type": "code",
   "execution_count": 12,
   "metadata": {},
   "outputs": [
    {
     "name": "stdout",
     "output_type": "stream",
     "text": [
      "14\n"
     ]
    }
   ],
   "source": [
    "print(nf)"
   ]
  },
  {
   "cell_type": "code",
   "execution_count": null,
   "metadata": {},
   "outputs": [],
   "source": []
  }
 ],
 "metadata": {
  "kernelspec": {
   "display_name": "Python 3",
   "language": "python",
   "name": "python3"
  },
  "language_info": {
   "codemirror_mode": {
    "name": "ipython",
    "version": 3
   },
   "file_extension": ".py",
   "mimetype": "text/x-python",
   "name": "python",
   "nbconvert_exporter": "python",
   "pygments_lexer": "ipython3",
   "version": "3.7.3"
  }
 },
 "nbformat": 4,
 "nbformat_minor": 2
}
