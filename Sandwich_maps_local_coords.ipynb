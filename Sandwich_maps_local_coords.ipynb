{
 "cells": [
  {
   "cell_type": "markdown",
   "metadata": {},
   "source": [
    "## Sandwich_maps_local_coords\n",
    "\n",
    "Read DEMS and convert to rotated alongshore/cross-shore coordinate systems.\n",
    "\n",
    "Save as .nc files.\n",
    "\n"
   ]
  },
  {
   "cell_type": "code",
   "execution_count": 1,
   "metadata": {},
   "outputs": [],
   "source": [
    "\n",
    "import numpy as np\n",
    "#import pandas as pd\n",
    "from IPython.display import display, HTML\n",
    "import matplotlib.pyplot as plt\n",
    "from scipy import interpolate, signal\n",
    "\n",
    "import xarray as xr\n",
    "%matplotlib inline"
   ]
  },
  {
   "cell_type": "code",
   "execution_count": 2,
   "metadata": {},
   "outputs": [],
   "source": [
    "fdir = \"F:/2017_Karen_Sandwich_maps/\"\n",
    "#fdir = \"C:/crs/proj/2017_Karen_Sandwich_maps\"\n",
    "\n",
    "fnames = (\\\n",
    "\"2016-01-22_SandwichTNB_PT_DEM_10cm_trimmed.tif\",\\\n",
    "\"2016-01-25_SandwichTNB_DEM_10cm_trimmed.tif\",\\\n",
    "\"2016-02-11_SandwichTNB_DEM_10cm_trimmed.tif\",\\\n",
    "\"2016-03-30_SandwichTNB_AS_DEM_10cm_trimmed.tif\",\\\n",
    "\"2016-09-21_SandwichTNB_DEM_10cm_trimmed.tif\",\\\n",
    "\"2017-01-09_SandwichTNB_DEM_10cm_trimmed.tif\",\\\n",
    "\"2017-01-25_SandwichTNB_DEM_10cm_trimmed.tif\",\\\n",
    "\"2017-02-14_SandwichTNB_DEM_10cm_trimmed.tif\",\\\n",
    "\"2017-03-16_SandwichTNB_DEM_10cm_trimmed.tif\",\\\n",
    "\"2017-04-28_SandwichTNB_DEM_10cm_trimmed.tif\",\\\n",
    "\"2017-05-04_SandwichTNB_DEM_10cm_trimmed.tif\",\\\n",
    "\"2017-09-18_SandwichTNB_DEM_10cm_trimmed.tif\",\\\n",
    "#\"2018-01-03_SandwichTNB_DEM_10cm_trimmed.tif\",\\ # needs to be padded...not very good control\n",
    "\"2018-01-10_SandwichTNB_DEM_10cm_trimmed.tif\",\\\n",
    "\"DEM_10cm_selfcal_lokicampos_mid_denseNAD83UTM19.tif\")\n",
    "\n",
    "# list of dates for use as titles / column headers\n",
    "titles = ([\\\n",
    "         \"22-Jan-2016\",\\\n",
    "         \"25-Jan-2016\",\\\n",
    "         \"11-Feb-2016\",\\\n",
    "         \"30-Mar-2016\",\\\n",
    "         \"21-Sep-2016\",\\\n",
    "         \"09-Jan-2017\",\\\n",
    "         \"25-Jan-2017\",\\\n",
    "         \"14-Feb-2017\",\\\n",
    "         \"16-Mar-2017\",\\\n",
    "         \"28-Apr-2017\",\\\n",
    "         \"04-May_2017\",\\\n",
    "         \"18-Sep-2017\",\\\n",
    "#         \"03-Jan-2017\",\\\n",
    "         \"10-Jan-2018\",\\\n",
    "         \"09-Mar-2018\"])\n",
    "\n",
    "nf=len(fnames)"
   ]
  },
  {
   "cell_type": "code",
   "execution_count": 3,
   "metadata": {},
   "outputs": [],
   "source": [
    "def box2UTMh(x, y, x0, y0, theta):\n",
    "    '''\n",
    "    2D rotation and translation of x, y\n",
    "    Input:\n",
    "        x, y - row vectors of original coordinates (must be same size)\n",
    "        x0, y0 - Offset (location of x, y = (0,0) in new coordinate system)\n",
    "        theta - Angle of rotation (degrees, CCW from x-axis == Cartesian coorinates)\n",
    "    Returns:\n",
    "        xr, yr - rotated, offset coordinates\n",
    "    '''\n",
    "    thetar = np.radians(theta)\n",
    "    c, s = np.cos(thetar), np.sin(thetar)\n",
    "\n",
    "    # homogenous rotation matrix\n",
    "    Rh = np.array(((c, -s,  0.),\\\n",
    "                   (s,  c,  0.),\\\n",
    "                   (0., 0., 1.)))\n",
    "    # homogenous translation matrix\n",
    "    Th = np.array(((1., 0., x0),\\\n",
    "                   (0., 1., y0),\\\n",
    "                   (0., 0., 1.)))\n",
    "    \n",
    "    # homogenous input x,y\n",
    "    xyh = np.vstack((x,y,np.ones_like(x)))\n",
    "\n",
    "    # perform rotation and translation\n",
    "    xyrh=np.matmul(np.matmul(Th,Rh),xyh)\n",
    "    xr = xyrh[0,:]\n",
    "    yr = xyrh[1,:]\n",
    "    return xr, yr"
   ]
  },
  {
   "cell_type": "markdown",
   "metadata": {},
   "source": [
    "### Make small box with local alongshore/cross-shore coordinates that will be our region of interest (ROI)"
   ]
  },
  {
   "cell_type": "code",
   "execution_count": 4,
   "metadata": {},
   "outputs": [
    {
     "name": "stdout",
     "output_type": "stream",
     "text": [
      "xrot:\n",
      "(1300, 280)\n",
      "[[   0.5    1.5    2.5 ...,  277.5  278.5  279.5]\n",
      " [   0.5    1.5    2.5 ...,  277.5  278.5  279.5]\n",
      " [   0.5    1.5    2.5 ...,  277.5  278.5  279.5]\n",
      " ..., \n",
      " [   0.5    1.5    2.5 ...,  277.5  278.5  279.5]\n",
      " [   0.5    1.5    2.5 ...,  277.5  278.5  279.5]\n",
      " [   0.5    1.5    2.5 ...,  277.5  278.5  279.5]]\n",
      "yrot:\n",
      "(1300, 280)\n",
      "[[  5.00000000e-01   5.00000000e-01   5.00000000e-01 ...,   5.00000000e-01\n",
      "    5.00000000e-01   5.00000000e-01]\n",
      " [  1.50000000e+00   1.50000000e+00   1.50000000e+00 ...,   1.50000000e+00\n",
      "    1.50000000e+00   1.50000000e+00]\n",
      " [  2.50000000e+00   2.50000000e+00   2.50000000e+00 ...,   2.50000000e+00\n",
      "    2.50000000e+00   2.50000000e+00]\n",
      " ..., \n",
      " [  1.29750000e+03   1.29750000e+03   1.29750000e+03 ...,   1.29750000e+03\n",
      "    1.29750000e+03   1.29750000e+03]\n",
      " [  1.29850000e+03   1.29850000e+03   1.29850000e+03 ...,   1.29850000e+03\n",
      "    1.29850000e+03   1.29850000e+03]\n",
      " [  1.29950000e+03   1.29950000e+03   1.29950000e+03 ...,   1.29950000e+03\n",
      "    1.29950000e+03   1.29950000e+03]]\n"
     ]
    }
   ],
   "source": [
    "# make a small box w/ cell centered grid with spacing dxy\n",
    "dxy = 1.\n",
    "xmax = 280. # alongshore\n",
    "ymax = 1300.  # cross-shore\n",
    "nx = int((1./dxy)*xmax)\n",
    "ny = int((1./dxy)*ymax)\n",
    "\n",
    "# Y is ascending\n",
    "xrot, yrot=np.meshgrid(np.linspace(0.5*dxy,xmax-0.5*dxy,nx), np.linspace(0.5*dxy,ymax-0.5*dxy,ny) ,sparse=False, indexing='xy')\n",
    "print(\"xrot:\")\n",
    "print(xrot.shape)\n",
    "print(xrot)\n",
    "print(\"yrot:\")\n",
    "print(yrot.shape)\n",
    "print(yrot)"
   ]
  },
  {
   "cell_type": "markdown",
   "metadata": {},
   "source": [
    "### Convert ROI to UTM coordinates"
   ]
  },
  {
   "cell_type": "code",
   "execution_count": 5,
   "metadata": {},
   "outputs": [
    {
     "name": "stdout",
     "output_type": "stream",
     "text": [
      "Shape of xrot, yrot:  (1300, 280) (1300, 280)\n",
      "Shape of xu and yu:  (1300, 280) (1300, 280)\n"
     ]
    }
   ],
   "source": [
    "# Define the ROI with bottom left corner and rotation of axes\n",
    "e0 = 377270.; n0 = 4624440.\n",
    "rot = 52.\n",
    "\n",
    "print('Shape of xrot, yrot: ',np.shape(xrot),np.shape(xrot))\n",
    "shp = np.shape(xrot)\n",
    "xu, yu = box2UTMh(xrot.flatten(), yrot.flatten(), e0, n0, rot)\n",
    "xu=np.reshape(xu,shp)\n",
    "yu=np.reshape(yu,shp)\n",
    "print('Shape of xu and yu: ',np.shape(xu),np.shape(yu))"
   ]
  },
  {
   "cell_type": "code",
   "execution_count": 26,
   "metadata": {},
   "outputs": [
    {
     "name": "stdout",
     "output_type": "stream",
     "text": [
      "0 F:/2017_Karen_Sandwich_maps/2016-01-22_SandwichTNB_PT_DEM_10cm_trimmed.tif\n",
      "(10226,) (11987,) (1, 10226, 11987)\n",
      "(11987,) (10226,) (10226, 11987)\n",
      "1 F:/2017_Karen_Sandwich_maps/2016-01-25_SandwichTNB_DEM_10cm_trimmed.tif\n",
      "(10156,) (11420,) (1, 10156, 11420)\n",
      "(11420,) (10156,) (10156, 11420)\n"
     ]
    }
   ],
   "source": [
    "dslist=[]\n",
    "for i in range(2): #range(nf):\n",
    "    fn = fdir+fnames[i]\n",
    "    print(i, fn)\n",
    "    \n",
    "    # open the tif with XArray as a DataArray\n",
    "    da = xr.open_rasterio(fn)\n",
    "    \n",
    "    print( np.shape(np.flipud(da['y'].values)), np.shape(da['x'].values), np.shape( np.flipud(da.values)) )\n",
    "    x = da['x'].values\n",
    "    y = np.flipud(da['y'].values)\n",
    "    \n",
    "    # Not sure how da.values got a singleton dimension, but squeeze gets rid of it.\n",
    "    # However, make sure to squeeze before flipping\n",
    "    z = np.flipud(np.squeeze(da.values))\n",
    "    print(np.shape(x),np.shape(y),np.shape(z))\n",
    "    \n",
    "    # smooth with 2D running median\n",
    "    zs = signal.medfilt2d(z, kernel_size=3)\n",
    "    \n",
    "    f = interpolate.RegularGridInterpolator( (y, x), zs, method='linear')   \n",
    "    \n",
    "    # Array for interpolated elevations\n",
    "    zi=np.NaN*np.ones((ny,nx))\n",
    "\n",
    "    # this is a slow iteration through all of the points, but allows us to skip ones that are outside\n",
    "    for ij in np.ndindex(zi.shape):\n",
    "        try:\n",
    "            zi[ij]=f((yu[ij],xu[ij]))\n",
    "        except:\n",
    "            zi[ij]=np.NaN\n",
    "            \n",
    "    da = xr.DataArray(zi)\n",
    "    dslist.append(da)\n",
    "\n",
    "            # small plots of elevation\n",
    "            \n",
    "#     plt.subplot(5,3,i+1);plt.axis('off');plt.imshow(np.flipud(zi),cmap=plt.cm.terrain,vmin=-2,vmax=8)\n",
    "#     plt.title(titles[i])\n",
    "    \n",
    "# plt.savefig('small_box_time_series.png')"
   ]
  },
  {
   "cell_type": "code",
   "execution_count": 27,
   "metadata": {},
   "outputs": [],
   "source": [
    "dsa = xr.concat(dslist, dim='map')"
   ]
  },
  {
   "cell_type": "code",
   "execution_count": 20,
   "metadata": {},
   "outputs": [
    {
     "ename": "NameError",
     "evalue": "name 'dsa' is not defined",
     "output_type": "error",
     "traceback": [
      "\u001b[1;31m---------------------------------------------------------------------------\u001b[0m",
      "\u001b[1;31mNameError\u001b[0m                                 Traceback (most recent call last)",
      "\u001b[1;32m<ipython-input-20-f456bb6e3d2d>\u001b[0m in \u001b[0;36m<module>\u001b[1;34m()\u001b[0m\n\u001b[1;32m----> 1\u001b[1;33m \u001b[0mdsa\u001b[0m\u001b[1;33m\u001b[0m\u001b[0m\n\u001b[0m",
      "\u001b[1;31mNameError\u001b[0m: name 'dsa' is not defined"
     ]
    }
   ],
   "source": [
    "dsa"
   ]
  },
  {
   "cell_type": "code",
   "execution_count": null,
   "metadata": {},
   "outputs": [],
   "source": []
  }
 ],
 "metadata": {
  "kernelspec": {
   "display_name": "Python 3",
   "language": "python",
   "name": "python3"
  },
  "language_info": {
   "codemirror_mode": {
    "name": "ipython",
    "version": 3
   },
   "file_extension": ".py",
   "mimetype": "text/x-python",
   "name": "python",
   "nbconvert_exporter": "python",
   "pygments_lexer": "ipython3",
   "version": "3.6.3"
  }
 },
 "nbformat": 4,
 "nbformat_minor": 2
}
