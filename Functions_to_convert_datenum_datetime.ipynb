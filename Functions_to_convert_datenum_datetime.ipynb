{
 "cells": [
  {
   "cell_type": "markdown",
   "metadata": {},
   "source": [
    "### Functions to convert between Matlab datenum and Python datetime"
   ]
  },
  {
   "cell_type": "code",
   "execution_count": 1,
   "metadata": {},
   "outputs": [],
   "source": [
    "import numpy as np\n",
    "import datetime as dt"
   ]
  },
  {
   "cell_type": "code",
   "execution_count": 2,
   "metadata": {},
   "outputs": [],
   "source": [
    "def matlabdn2datetime( dn ):\n",
    "    \"\"\"\n",
    "    Convert array of matlab datenum floats to list of python datetime objects\n",
    "    \n",
    "    Inverse of datetime2matlabdn\n",
    "    \n",
    "    Input:\n",
    "        dn - numpy array of matlab datenum floats   \n",
    "    Returns:\n",
    "        dtm - numpy array of datetime objects\n",
    "        \n",
    "    Requires:\n",
    "        import datetime as dt\n",
    "    \n",
    "    https://stackoverflow.com/questions/13965740/converting-matlabs-datenum-format-to-python/13965852#13965852\n",
    "    \"\"\"\n",
    "    # loop through and make a list of datetime objects\n",
    "    dtm = [dt.datetime.fromordinal(int(d)-366 ) + dt.timedelta(days=d%1) for d in dn]\n",
    "    \n",
    "    # convert to numpy array\n",
    "    return np.array(dtm)\n",
    "\n",
    "def datetime2matlabdn(dtm):\n",
    "    \"\"\"\n",
    "    Convert python datetime to matlab datenum \n",
    "    \n",
    "    Inverse of matlabdn2datetime\n",
    "    \n",
    "    Input:\n",
    "        dtm - numpy array of matlab datenums (floats)   \n",
    "    Returns:\n",
    "        dtm - numpy array of python datetime objects\n",
    "        \n",
    "    Requires:\n",
    "        import datetime as dt\n",
    " \n",
    "    https://stackoverflow.com/questions/8776414/python-datetime-to-matlab-datenum\n",
    "    \"\"\"\n",
    "    dn = []\n",
    "    for dtmi in dtm:\n",
    "        ord = dtmi.toordinal()\n",
    "        mdn = dtmi + dt.timedelta(days = 366)\n",
    "        frac = (dtmi-dt.datetime(dtmi.year,dtmi.month,dtmi.day,0,0,0)).seconds / (24.0 * 60.0 * 60.0)\n",
    "        dn.append( mdn.toordinal()+frac )\n",
    "        \n",
    "    # convert to numpy array\n",
    "    return np.array(dn)"
   ]
  },
  {
   "cell_type": "markdown",
   "metadata": {},
   "source": [
    "### Test time conversion functions\n",
    "\n",
    "#### In Matlab:\n",
    "```\n",
    ">> format long\n",
    ">> datenum('1-Jan-2018 12:30')\n",
    "ans =\n",
    "     7.370615208333334e+05\n",
    "```"
   ]
  },
  {
   "cell_type": "code",
   "execution_count": 3,
   "metadata": {},
   "outputs": [
    {
     "name": "stdout",
     "output_type": "stream",
     "text": [
      "Date time object:  01/01/2018 12:30:00\n",
      "Date time object:  01/02/2018 12:00:00\n",
      "Matlab datenums:  [ 737061.52083333  737062.5       ]\n",
      "Date time object:  01/01/2018 12:30:00\n",
      "Date time object:  01/02/2018 12:00:00\n"
     ]
    }
   ],
   "source": [
    "# Make a short array of datetime objects (avoid problems with array length 1)\n",
    "dtm = np.array( [ \\\n",
    "    dt.datetime.strptime('Jan 1 2018  12:30PM', '%b %d %Y %I:%M%p'), \\\n",
    "    dt.datetime.strptime('Jan 2 2018  12:00PM', '%b %d %Y %I:%M%p') ] )\n",
    "\n",
    "# View them formatted\n",
    "print(\"Date time object: \",'{:%m/%d/%Y %H:%M:%S}'.format(dtm[0]))\n",
    "print(\"Date time object: \",'{:%m/%d/%Y %H:%M:%S}'.format(dtm[1]))\n",
    "\n",
    "# Convert to Matlab datenum\n",
    "dn = datetime2matlabdn(dtm)\n",
    "print(\"Matlab datenums: \",dn)\n",
    "\n",
    "# Convert back to datetime\n",
    "dtm2 = matlabdn2datetime( dn )\n",
    "print(\"Date time object: \",'{:%m/%d/%Y %H:%M:%S}'.format(dtm2[0]))\n",
    "print(\"Date time object: \",'{:%m/%d/%Y %H:%M:%S}'.format(dtm2[-1]))"
   ]
  }
 ],
 "metadata": {
  "kernelspec": {
   "display_name": "Python 3",
   "language": "python",
   "name": "python3"
  },
  "language_info": {
   "codemirror_mode": {
    "name": "ipython",
    "version": 3
   },
   "file_extension": ".py",
   "mimetype": "text/x-python",
   "name": "python",
   "nbconvert_exporter": "python",
   "pygments_lexer": "ipython3",
   "version": "3.6.3"
  }
 },
 "nbformat": 4,
 "nbformat_minor": 2
}
