{
 "cells": [
  {
   "cell_type": "markdown",
   "metadata": {},
   "source": [
    "# Test loading elevation maps\n",
    "\n",
    "Goal is to capture all of the data in the maps, with NaNs when missing, and have a grid rotated alongshore to facilitate erosion calcs.\n",
    "\n",
    "TODO:\n",
    "* Make a rotated grid big enough to accomodate all of the maps. What resolution?\n",
    "* Assign UTM values to for rotated grid.\n",
    "* Load each map, [smooth?], and interpolate onto rotated grid.\n",
    "* Stack all maps. Work in rotated grid coordintes.\n",
    "* Save\n",
    "    "
   ]
  },
  {
   "cell_type": "code",
   "execution_count": 2,
   "metadata": {},
   "outputs": [],
   "source": [
    "import json\n",
    "import fiona\n",
    "import numpy as np\n",
    "import pandas as pd\n",
    "import scipy.signal\n",
    "from IPython.display import display, HTML\n",
    "import rasterio # rasterio and OGR don't mix...see rasterio docs\n",
    "from rasterio import Affine\n",
    "import matplotlib.pyplot as plt\n",
    "import xarray as xr\n",
    "%matplotlib inline"
   ]
  },
  {
   "cell_type": "code",
   "execution_count": 18,
   "metadata": {},
   "outputs": [],
   "source": [
    "#fdir = \"F:/2017_Karen_Sandwich_maps\"\n",
    "fdir = \"C:/crs/proj/2017_Karen_Sandwich_maps\"\n",
    "\n",
    "fnames = (\\\n",
    "\"2016-01-22_SandwichTNB_PT_DEM_10cm_trimmed.tif\",\\\n",
    "\"2016-01-25_SandwichTNB_DEM_10cm_trimmed.tif\",\\\n",
    "\"2016-02-11_SandwichTNB_DEM_10cm_trimmed.tif\",\\\n",
    "\"2016-03-30_SandwichTNB_AS_DEM_10cm_trimmed.tif\",\\\n",
    "\"2016-09-21_SandwichTNB_DEM_10cm_trimmed.tif\",\\\n",
    "\"2017-01-09_SandwichTNB_DEM_10cm_trimmed.tif\",\\\n",
    "\"2017-01-25_SandwichTNB_DEM_10cm_trimmed.tif\",\\\n",
    "\"2017-02-14_SandwichTNB_DEM_10cm_trimmed.tif\",\\\n",
    "\"2017-03-16_SandwichTNB_DEM_10cm_trimmed.tif\",\\\n",
    "\"2017-04-28_SandwichTNB_DEM_10cm_trimmed.tif\",\\\n",
    "\"2017-05-04_SandwichTNB_DEM_10cm_trimmed.tif\",\\\n",
    "\"2017-09-18_SandwichTNB_DEM_10cm_trimmed.tif\",\\\n",
    "#\"2018-01-03_SandwichTNB_DEM_10cm_trimmed.tif\",\\ # needs to be padded...not very good control\n",
    "\"2018-01-10_SandwichTNB_DEM_10cm_trimmed.tif\",\\\n",
    "\"DEM_10cm_selfcal_lokicampos_mid_denseNAD83UTM19.tif\")\n",
    "\n",
    "dslist =[]\n",
    "# just read one for now (note...this reads in as a DataArray, not a DataSet)\n",
    "fn = fdir+\"/2016-01-22_SandwichTNB_PT_DEM_10cm_trimmed.tif\"\n",
    "# fn = fdir+\"/2016-01-25_SandwichTNB_DEM_10cm_trimmed.tif\"\n",
    "\n",
    "da = xr.open_rasterio(fn)\n",
    "#     ds = ds.sel(x=slice(e0,e1), y=slice(n0,n1))\n",
    "#     if len(dslist) == 0:\n",
    "#         xc = ds['x']-ds['x'].values.min()\n",
    "#         yc = ds['y']-ds['y'].values.min()\n",
    "#     ds['x'] = xc\n",
    "#     ds['y'] = yc\n",
    "#     dslist.append(ds)"
   ]
  },
  {
   "cell_type": "code",
   "execution_count": 19,
   "metadata": {},
   "outputs": [
    {
     "name": "stdout",
     "output_type": "stream",
     "text": [
      "376286.692999 377485.292999 4625440.78441 4624418.28441\n",
      "-32767.0 14.8271\n",
      "Frozen(OrderedDict([('band', 1), ('y', 10226), ('x', 11987)]))\n",
      "('band', 'y', 'x')\n",
      "band: Int64Index([1], dtype='int64', name='band')\n",
      "y: Float64Index([ 4625440.784410301,    4625440.6844103, 4625440.5844103005,\n",
      "                  4625440.484410301,    4625440.3844103,  4625440.284410301,\n",
      "                    4625440.1844103, 4625440.0844103005,  4625439.984410301,\n",
      "                    4625439.8844103,\n",
      "                 ...\n",
      "                    4624419.1844103, 4624419.0844103005,  4624418.984410301,\n",
      "                    4624418.8844103,  4624418.784410301,    4624418.6844103,\n",
      "                 4624418.5844103005,  4624418.484410301,    4624418.3844103,\n",
      "                  4624418.284410301],\n",
      "                dtype='float64', name='y', length=10226)\n",
      "x: Float64Index([376286.69299908396,   376286.792999084, 376286.89299908397,\n",
      "                 376286.99299908394,   376287.092999084, 376287.19299908396,\n",
      "                   376287.292999084, 376287.39299908397, 376287.49299908394,\n",
      "                   376287.592999084,\n",
      "                 ...\n",
      "                 377484.39299908397, 377484.49299908394,  377484.5929990839,\n",
      "                 377484.69299908396, 377484.79299908393, 377484.89299908397,\n",
      "                 377484.99299908394,  377485.0929990839, 377485.19299908396,\n",
      "                 377485.29299908393],\n",
      "                dtype='float64', name='x', length=11987)\n"
     ]
    },
    {
     "data": {
      "text/plain": [
       "array([[[-32767., -32767., -32767., ..., -32767., -32767., -32767.],\n",
       "        [-32767., -32767., -32767., ..., -32767., -32767., -32767.],\n",
       "        [-32767., -32767., -32767., ..., -32767., -32767., -32767.],\n",
       "        ..., \n",
       "        [-32767., -32767., -32767., ..., -32767., -32767., -32767.],\n",
       "        [-32767., -32767., -32767., ..., -32767., -32767., -32767.],\n",
       "        [-32767., -32767., -32767., ..., -32767., -32767., -32767.]]], dtype=float32)"
      ]
     },
     "execution_count": 19,
     "metadata": {},
     "output_type": "execute_result"
    }
   ],
   "source": [
    "# look to see what got loaded\n",
    "print(da['x'].values[0], da['x'].values[-1], da['y'].values[0],\\\n",
    "      da['y'].values[-1])\n",
    "# this is super slow and only successfully returns min and max\n",
    "# print(stats.describe(da.values,nan_policy='omit'))\n",
    "print(da.values.min(), da.values.max())\n",
    "print(da.sizes)\n",
    "print(da.dims)\n",
    "print(da.indexes)\n",
    "da.values"
   ]
  },
  {
   "cell_type": "markdown",
   "metadata": {},
   "source": [
    "Example from scipy.interpolate.RegularGridInterpolator documentation\n",
    "```\n",
    "def ff(x,y):\n",
    "...     return 2 * x**3 + 3 * y**2\n",
    "x = np.linspace(1, 4, 11)\n",
    "y = np.linspace(4, 7, 22)\n",
    "data = ff(*np.meshgrid(x, y, indexing='ij', sparse=True))\n",
    "print(np.shape(x),np.shape(y),np.shape(data))\n",
    "\n",
    "f = interpolate.RegularGridInterpolator( (x, y), data, method='nearest')\n",
    "```"
   ]
  },
  {
   "cell_type": "code",
   "execution_count": 20,
   "metadata": {},
   "outputs": [
    {
     "name": "stdout",
     "output_type": "stream",
     "text": [
      "shape of y, x, and da.values:  (10226,) (11987,) (1, 10226, 11987)\n",
      "Shape of x, y, and zs (11987,) (10226,) (10226, 11987)\n"
     ]
    }
   ],
   "source": [
    "from scipy import interpolate\n",
    "print(\"shape of y, x, and da.values: \",\\\n",
    "      np.shape(np.flipud(da['y'].values)), np.shape(da['x'].values),\\\n",
    "      np.shape( np.flipud(da.values)) )\n",
    "x = da['x'].values\n",
    "y = np.flipud(da['y'].values)\n",
    "\n",
    "# Not sure how da.values got a singleton dimension, but squeeze gets rid of it.\n",
    "# However, make sure to squeeze before flipping\n",
    "z = np.flipud(np.squeeze(da.values))\n",
    "\n",
    "# smooth with 2D running median\n",
    "zs = scipy.signal.medfilt2d(z, kernel_size=3)\n",
    "\n",
    "print(\"Shape of x, y, and zs\",np.shape(x),np.shape(y),np.shape(zs))\n",
    "f = interpolate.RegularGridInterpolator( (y, x), zs, method='nearest')"
   ]
  },
  {
   "cell_type": "code",
   "execution_count": 8,
   "metadata": {},
   "outputs": [
    {
     "name": "stdout",
     "output_type": "stream",
     "text": [
      "xrot:\n",
      "(251, 1701)\n",
      "[[   0.    0.    0. ...,    0.    0.    0.]\n",
      " [   1.    1.    1. ...,    1.    1.    1.]\n",
      " [   2.    2.    2. ...,    2.    2.    2.]\n",
      " ..., \n",
      " [ 248.  248.  248. ...,  248.  248.  248.]\n",
      " [ 249.  249.  249. ...,  249.  249.  249.]\n",
      " [ 250.  250.  250. ...,  250.  250.  250.]]\n",
      "yrot:\n",
      "(251, 1701)\n",
      "[[  0.00000000e+00   1.00000000e+00   2.00000000e+00 ...,   1.69800000e+03\n",
      "    1.69900000e+03   1.70000000e+03]\n",
      " [  0.00000000e+00   1.00000000e+00   2.00000000e+00 ...,   1.69800000e+03\n",
      "    1.69900000e+03   1.70000000e+03]\n",
      " [  0.00000000e+00   1.00000000e+00   2.00000000e+00 ...,   1.69800000e+03\n",
      "    1.69900000e+03   1.70000000e+03]\n",
      " ..., \n",
      " [  0.00000000e+00   1.00000000e+00   2.00000000e+00 ...,   1.69800000e+03\n",
      "    1.69900000e+03   1.70000000e+03]\n",
      " [  0.00000000e+00   1.00000000e+00   2.00000000e+00 ...,   1.69800000e+03\n",
      "    1.69900000e+03   1.70000000e+03]\n",
      " [  0.00000000e+00   1.00000000e+00   2.00000000e+00 ...,   1.69800000e+03\n",
      "    1.69900000e+03   1.70000000e+03]]\n"
     ]
    }
   ],
   "source": [
    "# make a small box w/ 0.5m grid\n",
    "dxy = 1.\n",
    "xmax = 250. # alongshore\n",
    "ymax = 1700.  # cross-shore\n",
    "nx = int((1./dxy)*xmax) + 1\n",
    "ny = int((1./dxy)*ymax) + 1\n",
    "\n",
    "# Y is decending\n",
    "#xrot, yrot=np.meshgrid(np.linspace(0.,xmax,nx), np.flip(np.linspace(0.,ymax,ny),0) ,sparse=False, indexing='xy')\n",
    "# Y is ascending\n",
    "xrot, yrot=np.meshgrid(np.linspace(0.,xmax,nx), np.linspace(0.,ymax,ny) ,sparse=False, indexing='ij')\n",
    "print(\"xrot:\")\n",
    "print(xrot.shape)\n",
    "print(xrot)\n",
    "print(\"yrot:\")\n",
    "print(yrot.shape)\n",
    "print(yrot)"
   ]
  },
  {
   "cell_type": "code",
   "execution_count": 31,
   "metadata": {},
   "outputs": [
    {
     "name": "stdout",
     "output_type": "stream",
     "text": [
      "[-0.25355339 -0.0767767  -0.96066017 -0.78388348  0.1       ] [ 1.16066017  1.33743687  1.86776695  2.04454365  1.51421356]\n",
      "[ 0.1] [ 1.51421356]\n"
     ]
    },
    {
     "data": {
      "text/plain": [
       "(-3, 3)"
      ]
     },
     "execution_count": 31,
     "metadata": {},
     "output_type": "execute_result"
    },
    {
     "data": {
      "image/png": "[encoded data removed]",
      "text/plain": [
       "<matplotlib.figure.Figure at 0x26308ffe048>"
      ]
     },
     "metadata": {},
     "output_type": "display_data"
    }
   ],
   "source": [
    "# test rotation matrix\n",
    "\n",
    "#some points\n",
    "xx = np.array((.5,.75,.5,.75, 1.)).T\n",
    "yy = np.array((1., 1., 2., 2., 1.)).T\n",
    "e0 = .1\n",
    "n0 = .1\n",
    "\n",
    "theta = 45. # degrees\n",
    "\n",
    "def box2UTMh(x, y, x0, y0, theta):\n",
    "    '''\n",
    "    2D rotation and translation of x, y\n",
    "    Input:\n",
    "        x, y - row vectors of original coordinates (must be same size)\n",
    "        x0, y0 - Offset (location of x, y = (0,0) in new coordinate system)\n",
    "        theta - Angle of rotation (degrees, CCW from x-axis == Cartesian coorinates)\n",
    "    Returns:\n",
    "        xr, yr - rotated, offset coordinates\n",
    "    '''\n",
    "    thetar = np.radians(theta)\n",
    "    c, s = np.cos(thetar), np.sin(thetar)\n",
    "\n",
    "    # homogenous rotation matrix\n",
    "    Rh = np.array(((c, -s,  0.),\\\n",
    "                   (s,  c,  0.),\\\n",
    "                   (0., 0., 1.)))\n",
    "    # homogenous translation matrix\n",
    "    Th = np.array(((1., 0., x0),\\\n",
    "                   (0., 1., y0),\\\n",
    "                   (0., 0., 1.)))\n",
    "    \n",
    "    # homogenous input x,y\n",
    "    xyh = np.vstack((x,y,np.ones_like(x)))\n",
    "\n",
    "    # perform rotation and translation\n",
    "    xyrh=np.matmul(np.matmul(Th,Rh),xyh)\n",
    "    xr = xyrh[0,:]\n",
    "    yr = xyrh[1,:]\n",
    "    return xr, yr\n",
    "\n",
    "# Test with horiz arrays\n",
    "xr, yr = box2UTMh( xx, yy, e0, n0, theta)\n",
    "print(xr,yr)\n",
    "\n",
    "# Test with single point\n",
    "xrr, yrr = box2UTMh( 1., 1., e0, n0, theta)\n",
    "print(xrr, yrr)\n",
    "\n",
    "plt.plot(figsize=(4,4))\n",
    "plt.plot(xx,yy,'ok')\n",
    "plt.plot(xr,yr,'+b')\n",
    "plt.axis('square')\n",
    "plt.xlim([-3,3])\n",
    "plt.ylim([-3,3])\n"
   ]
  },
  {
   "cell_type": "code",
   "execution_count": 14,
   "metadata": {},
   "outputs": [
    {
     "ename": "ValueError",
     "evalue": "shapes (3,3) and (1,3) not aligned: 3 (dim 1) != 1 (dim 0)",
     "output_type": "error",
     "traceback": [
      "\u001b[1;31m---------------------------------------------------------------------------\u001b[0m",
      "\u001b[1;31mValueError\u001b[0m                                Traceback (most recent call last)",
      "\u001b[1;32m<ipython-input-14-e27f7ac1b81f>\u001b[0m in \u001b[0;36m<module>\u001b[1;34m()\u001b[0m\n\u001b[0;32m     12\u001b[0m \u001b[1;33m\u001b[0m\u001b[0m\n\u001b[0;32m     13\u001b[0m \u001b[1;31m# Check using values from corners\u001b[0m\u001b[1;33m\u001b[0m\u001b[1;33m\u001b[0m\u001b[0m\n\u001b[1;32m---> 14\u001b[1;33m \u001b[0mxu_ll\u001b[0m\u001b[1;33m,\u001b[0m \u001b[0myu_ll\u001b[0m \u001b[1;33m=\u001b[0m \u001b[0mbox2UTMh\u001b[0m\u001b[1;33m(\u001b[0m \u001b[0mxrot\u001b[0m\u001b[1;33m[\u001b[0m\u001b[1;36m0\u001b[0m\u001b[1;33m,\u001b[0m\u001b[1;36m0\u001b[0m\u001b[1;33m]\u001b[0m\u001b[1;33m,\u001b[0m \u001b[0myrot\u001b[0m\u001b[1;33m[\u001b[0m\u001b[1;36m0\u001b[0m\u001b[1;33m,\u001b[0m\u001b[1;36m0\u001b[0m\u001b[1;33m]\u001b[0m\u001b[1;33m,\u001b[0m \u001b[0me0\u001b[0m\u001b[1;33m,\u001b[0m \u001b[0mn0\u001b[0m\u001b[1;33m,\u001b[0m \u001b[0mrot\u001b[0m\u001b[1;33m)\u001b[0m\u001b[1;33m\u001b[0m\u001b[0m\n\u001b[0m\u001b[0;32m     15\u001b[0m \u001b[0mxu_ul\u001b[0m\u001b[1;33m,\u001b[0m \u001b[0myu_ul\u001b[0m \u001b[1;33m=\u001b[0m \u001b[0mbox2UTMh\u001b[0m\u001b[1;33m(\u001b[0m \u001b[0mxrot\u001b[0m\u001b[1;33m[\u001b[0m\u001b[1;36m0\u001b[0m\u001b[1;33m,\u001b[0m\u001b[1;36m1700\u001b[0m\u001b[1;33m]\u001b[0m\u001b[1;33m,\u001b[0m \u001b[0myrot\u001b[0m\u001b[1;33m[\u001b[0m\u001b[1;36m0\u001b[0m\u001b[1;33m,\u001b[0m\u001b[1;36m1700\u001b[0m\u001b[1;33m]\u001b[0m\u001b[1;33m,\u001b[0m \u001b[0me0\u001b[0m\u001b[1;33m,\u001b[0m \u001b[0mn0\u001b[0m\u001b[1;33m,\u001b[0m \u001b[0mrot\u001b[0m\u001b[1;33m)\u001b[0m\u001b[1;33m\u001b[0m\u001b[0m\n\u001b[0;32m     16\u001b[0m \u001b[0mxu_lr\u001b[0m\u001b[1;33m,\u001b[0m \u001b[0myu_lr\u001b[0m \u001b[1;33m=\u001b[0m \u001b[0mbox2UTMh\u001b[0m\u001b[1;33m(\u001b[0m \u001b[0mxrot\u001b[0m\u001b[1;33m[\u001b[0m\u001b[1;36m250\u001b[0m\u001b[1;33m,\u001b[0m\u001b[1;36m0\u001b[0m\u001b[1;33m]\u001b[0m\u001b[1;33m,\u001b[0m \u001b[0myrot\u001b[0m\u001b[1;33m[\u001b[0m\u001b[1;36m250\u001b[0m\u001b[1;33m,\u001b[0m\u001b[1;36m0\u001b[0m\u001b[1;33m]\u001b[0m\u001b[1;33m,\u001b[0m \u001b[0me0\u001b[0m\u001b[1;33m,\u001b[0m \u001b[0mn0\u001b[0m\u001b[1;33m,\u001b[0m \u001b[0mrot\u001b[0m\u001b[1;33m)\u001b[0m\u001b[1;33m\u001b[0m\u001b[0m\n",
      "\u001b[1;32m<ipython-input-13-d196b746e358>\u001b[0m in \u001b[0;36mbox2UTMh\u001b[1;34m(x, y, x0, y0, theta)\u001b[0m\n\u001b[0;32m     32\u001b[0m \u001b[1;33m\u001b[0m\u001b[0m\n\u001b[0;32m     33\u001b[0m     \u001b[1;31m# perform rotation and translation\u001b[0m\u001b[1;33m\u001b[0m\u001b[1;33m\u001b[0m\u001b[0m\n\u001b[1;32m---> 34\u001b[1;33m     \u001b[0mxyrh\u001b[0m\u001b[1;33m=\u001b[0m\u001b[0mTh\u001b[0m\u001b[1;33m*\u001b[0m\u001b[0mRh\u001b[0m\u001b[1;33m*\u001b[0m\u001b[0mxyh\u001b[0m\u001b[1;33m\u001b[0m\u001b[0m\n\u001b[0m\u001b[0;32m     35\u001b[0m     \u001b[0mxr\u001b[0m \u001b[1;33m=\u001b[0m \u001b[0mxyrh\u001b[0m\u001b[1;33m[\u001b[0m\u001b[1;36m0\u001b[0m\u001b[1;33m,\u001b[0m\u001b[1;33m:\u001b[0m\u001b[1;33m]\u001b[0m\u001b[1;33m\u001b[0m\u001b[0m\n\u001b[0;32m     36\u001b[0m     \u001b[0myr\u001b[0m \u001b[1;33m=\u001b[0m \u001b[0mxyrh\u001b[0m\u001b[1;33m[\u001b[0m\u001b[1;36m1\u001b[0m\u001b[1;33m,\u001b[0m\u001b[1;33m:\u001b[0m\u001b[1;33m]\u001b[0m\u001b[1;33m\u001b[0m\u001b[0m\n",
      "\u001b[1;32m~\\AppData\\Local\\Continuum\\miniconda3\\envs\\IOOS3\\lib\\site-packages\\numpy\\matrixlib\\defmatrix.py\u001b[0m in \u001b[0;36m__mul__\u001b[1;34m(self, other)\u001b[0m\n\u001b[0;32m    341\u001b[0m         \u001b[1;32mif\u001b[0m \u001b[0misinstance\u001b[0m\u001b[1;33m(\u001b[0m\u001b[0mother\u001b[0m\u001b[1;33m,\u001b[0m \u001b[1;33m(\u001b[0m\u001b[0mN\u001b[0m\u001b[1;33m.\u001b[0m\u001b[0mndarray\u001b[0m\u001b[1;33m,\u001b[0m \u001b[0mlist\u001b[0m\u001b[1;33m,\u001b[0m \u001b[0mtuple\u001b[0m\u001b[1;33m)\u001b[0m\u001b[1;33m)\u001b[0m \u001b[1;33m:\u001b[0m\u001b[1;33m\u001b[0m\u001b[0m\n\u001b[0;32m    342\u001b[0m             \u001b[1;31m# This promotes 1-D vectors to row vectors\u001b[0m\u001b[1;33m\u001b[0m\u001b[1;33m\u001b[0m\u001b[0m\n\u001b[1;32m--> 343\u001b[1;33m             \u001b[1;32mreturn\u001b[0m \u001b[0mN\u001b[0m\u001b[1;33m.\u001b[0m\u001b[0mdot\u001b[0m\u001b[1;33m(\u001b[0m\u001b[0mself\u001b[0m\u001b[1;33m,\u001b[0m \u001b[0masmatrix\u001b[0m\u001b[1;33m(\u001b[0m\u001b[0mother\u001b[0m\u001b[1;33m)\u001b[0m\u001b[1;33m)\u001b[0m\u001b[1;33m\u001b[0m\u001b[0m\n\u001b[0m\u001b[0;32m    344\u001b[0m         \u001b[1;32mif\u001b[0m \u001b[0misscalar\u001b[0m\u001b[1;33m(\u001b[0m\u001b[0mother\u001b[0m\u001b[1;33m)\u001b[0m \u001b[1;32mor\u001b[0m \u001b[1;32mnot\u001b[0m \u001b[0mhasattr\u001b[0m\u001b[1;33m(\u001b[0m\u001b[0mother\u001b[0m\u001b[1;33m,\u001b[0m \u001b[1;34m'__rmul__'\u001b[0m\u001b[1;33m)\u001b[0m \u001b[1;33m:\u001b[0m\u001b[1;33m\u001b[0m\u001b[0m\n\u001b[0;32m    345\u001b[0m             \u001b[1;32mreturn\u001b[0m \u001b[0mN\u001b[0m\u001b[1;33m.\u001b[0m\u001b[0mdot\u001b[0m\u001b[1;33m(\u001b[0m\u001b[0mself\u001b[0m\u001b[1;33m,\u001b[0m \u001b[0mother\u001b[0m\u001b[1;33m)\u001b[0m\u001b[1;33m\u001b[0m\u001b[0m\n",
      "\u001b[1;31mValueError\u001b[0m: shapes (3,3) and (1,3) not aligned: 3 (dim 1) != 1 (dim 0)"
     ]
    }
   ],
   "source": [
    "# calculate UTM coordinates for the box, which depend on upper left hand corner and rotation\n",
    "\n",
    "# bottom left corner of big region of interest (UTM Zone 19N meters)\n",
    "e0 = 377100.; n0 = 4624400.\n",
    "rot = 30.\n",
    "def box2UTM(x, y, e0, n0, rot):\n",
    "    # for counterclockwise rotation (right-handed cartesian coords)\n",
    "    r = np.pi*(90-rot)/180.\n",
    "    xnew = x*np.cos(r) - y*np.sin(r) + e0\n",
    "    ynew = y*np.sin(r) + x*np.cos(r) + n0\n",
    "    return xnew, ynew\n",
    "\n",
    "# Check using values from corners\n",
    "xu_ll, yu_ll = box2UTMh( xrot[0,0], yrot[0,0], e0, n0, rot)\n",
    "xu_ul, yu_ul = box2UTMh( xrot[0,1700], yrot[0,1700], e0, n0, rot)\n",
    "xu_lr, yu_lr = box2UTMh( xrot[250,0], yrot[250,0], e0, n0, rot)\n",
    "xu_ur, yu_ur = box2UTMh( xrot[250,1700], yrot[250,1700], e0, n0, rot)\n",
    "\n",
    "print('Corners of rotated coord. matrix in UTM:')\n",
    "print('Lower left: ',xrot[0,0], yrot[0,0], xu_ll, yu_ll)\n",
    "print('Upper left: ',xrot[0,250], yrot[0,250], xu_ul, yu_ul)\n",
    "print('Upper right:',xrot[1700,250], yrot[1700,250],xu_ur, yu_ur)\n",
    "print('Lower right:',xrot[1700,0], yrot[1700,0], xu_lr, yu_lr)\n",
    "\n",
    "xu, yu = box2UTMh(xrot, yrot, e0, n0, rot)\n",
    "\n",
    "xub = np.array((xu_ll, xu_ul, xu_ur, xu_lr))\n",
    "yub = np.array((yu_ll, yu_ul, yu_ur, yu_lr))\n",
    "\n",
    "fid = open('box_corners.txt','w')\n",
    "for i in range(0,4):\n",
    "    fid.write('{0:}, {1:}\\n'.format( xub[i],yub[i]))\n",
    "fid.close()"
   ]
  },
  {
   "cell_type": "code",
   "execution_count": 15,
   "metadata": {},
   "outputs": [
    {
     "data": {
      "text/plain": [
       "[<matplotlib.lines.Line2D at 0x1c766668>]"
      ]
     },
     "execution_count": 15,
     "metadata": {},
     "output_type": "execute_result"
    },
    {
     "data": {
      "image/png": "[encoded data removed]",
      "text/plain": [
       "<matplotlib.figure.Figure at 0x1c74e358>"
      ]
     },
     "metadata": {},
     "output_type": "display_data"
    }
   ],
   "source": [
    "plt.plot(xub, yub,'-')"
   ]
  },
  {
   "cell_type": "code",
   "execution_count": null,
   "metadata": {},
   "outputs": [],
   "source": [
    "from scipy import interpolate\n",
    "print( np.shape(np.flipud(da['y'].values)), np.shape(da['x'].values), np.shape( np.flipud(da.values)) )\n",
    "x = da['x'].values\n",
    "y = np.flipud(da['y'].values)\n",
    "# Not sure how da.values got a singleton dimension, but squeeze gets rid of it.\n",
    "# However, make sure to squeeze before flipping\n",
    "z = np.flipud(np.squeeze(da.values))\n",
    "print(np.shape(x),np.shape(y),np.shape(z))\n",
    "f = interpolate.RegularGridInterpolator( (y, x), z, method='linear')"
   ]
  },
  {
   "cell_type": "code",
   "execution_count": null,
   "metadata": {},
   "outputs": [],
   "source": [
    "z[z<=-100.]=np.NaN\n",
    "plt.pcolormesh(x,y,z)\n",
    "plt.plot(xub,yub,'-r')\n",
    "plt.colorbar()\n",
    "np.shape(xu)"
   ]
  },
  {
   "cell_type": "markdown",
   "metadata": {},
   "source": [
    "%%time\n",
    "zi = f((yu,xu))\n",
    "zi[zi<=-100.]=np.NaN"
   ]
  },
  {
   "cell_type": "code",
   "execution_count": null,
   "metadata": {},
   "outputs": [],
   "source": [
    "%%time\n",
    "# Array for interpolated elevations\n",
    "zi=np.NaN*np.ones((ny,nx))\n",
    "\n",
    "# this is a slow iteration through all of the points, but allows us to skip ones that are outside\n",
    "for i in np.ndindex(zi.shape):\n",
    "    try:\n",
    "        zi[i]=f((yu[i],xu[i]))\n",
    "    except:\n",
    "        zi[i]=np.NaN\n",
    "     "
   ]
  },
  {
   "cell_type": "code",
   "execution_count": null,
   "metadata": {},
   "outputs": [],
   "source": [
    "plt.plot(figsize=(2,8))\n",
    "plt.pcolormesh(yrot,xrot,zi,cmap=plt.cm.terrain,vmin=-2,vmax=8)\n",
    "#plt.gca().invert_yaxis()\n",
    "#plt.axis('equal')\n",
    "plt.ylim(0,250)\n",
    "plt.colorbar()"
   ]
  },
  {
   "cell_type": "code",
   "execution_count": null,
   "metadata": {
    "collapsed": true
   },
   "outputs": [],
   "source": [
    "print(np.shape(zi))\n",
    "plt.plot(zi[0,:])\n",
    "plt.ylim(-2,8)"
   ]
  },
  {
   "cell_type": "code",
   "execution_count": null,
   "metadata": {},
   "outputs": [],
   "source": [
    "plt.plot(xu,yu,'.')"
   ]
  },
  {
   "cell_type": "code",
   "execution_count": null,
   "metadata": {},
   "outputs": [],
   "source": [
    "plt.plot(figsize=(2,8))\n",
    "\n",
    "plt.imshow(np.flipud(zi))"
   ]
  },
  {
   "cell_type": "code",
   "execution_count": null,
   "metadata": {
    "collapsed": true
   },
   "outputs": [],
   "source": []
  }
 ],
 "metadata": {
  "kernelspec": {
   "display_name": "Python 3",
   "language": "python",
   "name": "python3"
  },
  "language_info": {
   "codemirror_mode": {
    "name": "ipython",
    "version": 3
   },
   "file_extension": ".py",
   "mimetype": "text/x-python",
   "name": "python",
   "nbconvert_exporter": "python",
   "pygments_lexer": "ipython3",
   "version": "3.6.3"
  }
 },
 "nbformat": 4,
 "nbformat_minor": 2
}
