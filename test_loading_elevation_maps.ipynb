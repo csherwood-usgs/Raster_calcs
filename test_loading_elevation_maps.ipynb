{
 "cells": [
  {
   "cell_type": "markdown",
   "metadata": {},
   "source": [
    "# Test loading elevation maps\n",
    "\n",
    "Goal is to capture all of the data in the maps, with NaNs when missing, and have a grid rotated alongshore to facilitate erosion calcs.\n",
    "\n",
    "TODO:\n",
    "* Make a rotated grid big enough to accomodate all of the maps. What resolution?\n",
    "* Assign UTM values to for rotated grid.\n",
    "* Load each map, [smooth?], and interpolate onto rotated grid.\n",
    "* Stack all maps. Work in rotated grid coordintes.\n",
    "* Save\n",
    "    "
   ]
  },
  {
   "cell_type": "code",
   "execution_count": 1,
   "metadata": {},
   "outputs": [],
   "source": [
    "import json\n",
    "import fiona\n",
    "import numpy as np\n",
    "import pandas as pd\n",
    "import scipy.signal\n",
    "from IPython.display import display, HTML\n",
    "import rasterio # rasterio and OGR don't mix...see rasterio docs\n",
    "from rasterio import Affine\n",
    "import matplotlib.pyplot as plt\n",
    "import xarray as xr\n",
    "%matplotlib inline"
   ]
  },
  {
   "cell_type": "code",
   "execution_count": 2,
   "metadata": {},
   "outputs": [],
   "source": [
    "fdir = \"F:/2017_Karen_Sandwich_maps\"\n",
    "#fdir = \"C:/crs/proj/2017_Karen_Sandwich_maps\"\n",
    "\n",
    "fnames = (\\\n",
    "\"2016-01-22_SandwichTNB_PT_DEM_10cm_trimmed.tif\",\\\n",
    "\"2016-01-25_SandwichTNB_DEM_10cm_trimmed.tif\",\\\n",
    "\"2016-02-11_SandwichTNB_DEM_10cm_trimmed.tif\",\\\n",
    "\"2016-03-30_SandwichTNB_AS_DEM_10cm_trimmed.tif\",\\\n",
    "\"2016-09-21_SandwichTNB_DEM_10cm_trimmed.tif\",\\\n",
    "\"2017-01-09_SandwichTNB_DEM_10cm_trimmed.tif\",\\\n",
    "\"2017-01-25_SandwichTNB_DEM_10cm_trimmed.tif\",\\\n",
    "\"2017-02-14_SandwichTNB_DEM_10cm_trimmed.tif\",\\\n",
    "\"2017-03-16_SandwichTNB_DEM_10cm_trimmed.tif\",\\\n",
    "\"2017-04-28_SandwichTNB_DEM_10cm_trimmed.tif\",\\\n",
    "\"2017-05-04_SandwichTNB_DEM_10cm_trimmed.tif\",\\\n",
    "\"2017-09-18_SandwichTNB_DEM_10cm_trimmed.tif\",\\\n",
    "#\"2018-01-03_SandwichTNB_DEM_10cm_trimmed.tif\",\\ # needs to be padded...not very good control\n",
    "\"2018-01-10_SandwichTNB_DEM_10cm_trimmed.tif\",\\\n",
    "\"DEM_10cm_selfcal_lokicampos_mid_denseNAD83UTM19.tif\")\n",
    "\n",
    "dslist =[]\n",
    "# just read one for now (note...this reads in as a DataArray, not a DataSet)\n",
    "fn = fdir+\"/2016-01-22_SandwichTNB_PT_DEM_10cm_trimmed.tif\"\n",
    "# fn = fdir+\"/2016-01-25_SandwichTNB_DEM_10cm_trimmed.tif\"\n",
    "\n",
    "da = xr.open_rasterio(fn)\n",
    "#     ds = ds.sel(x=slice(e0,e1), y=slice(n0,n1))\n",
    "#     if len(dslist) == 0:\n",
    "#         xc = ds['x']-ds['x'].values.min()\n",
    "#         yc = ds['y']-ds['y'].values.min()\n",
    "#     ds['x'] = xc\n",
    "#     ds['y'] = yc\n",
    "#     dslist.append(ds)"
   ]
  },
  {
   "cell_type": "code",
   "execution_count": 3,
   "metadata": {},
   "outputs": [
    {
     "name": "stdout",
     "output_type": "stream",
     "text": [
      "376286.692999 377485.292999 4625440.78441 4624418.28441\n",
      "-32767.0 14.8271\n",
      "Frozen(OrderedDict([('band', 1), ('y', 10226), ('x', 11987)]))\n",
      "('band', 'y', 'x')\n",
      "band: Int64Index([1], dtype='int64', name='band')\n",
      "y: Float64Index([ 4625440.784410301,    4625440.6844103, 4625440.5844103005,\n",
      "                  4625440.484410301,    4625440.3844103,  4625440.284410301,\n",
      "                    4625440.1844103, 4625440.0844103005,  4625439.984410301,\n",
      "                    4625439.8844103,\n",
      "                 ...\n",
      "                    4624419.1844103, 4624419.0844103005,  4624418.984410301,\n",
      "                    4624418.8844103,  4624418.784410301,    4624418.6844103,\n",
      "                 4624418.5844103005,  4624418.484410301,    4624418.3844103,\n",
      "                  4624418.284410301],\n",
      "                dtype='float64', name='y', length=10226)\n",
      "x: Float64Index([376286.69299908396,   376286.792999084, 376286.89299908397,\n",
      "                 376286.99299908394,   376287.092999084, 376287.19299908396,\n",
      "                   376287.292999084, 376287.39299908397, 376287.49299908394,\n",
      "                   376287.592999084,\n",
      "                 ...\n",
      "                 377484.39299908397, 377484.49299908394,  377484.5929990839,\n",
      "                 377484.69299908396, 377484.79299908393, 377484.89299908397,\n",
      "                 377484.99299908394,  377485.0929990839, 377485.19299908396,\n",
      "                 377485.29299908393],\n",
      "                dtype='float64', name='x', length=11987)\n"
     ]
    },
    {
     "data": {
      "text/plain": [
       "array([[[-32767., -32767., -32767., ..., -32767., -32767., -32767.],\n",
       "        [-32767., -32767., -32767., ..., -32767., -32767., -32767.],\n",
       "        [-32767., -32767., -32767., ..., -32767., -32767., -32767.],\n",
       "        ..., \n",
       "        [-32767., -32767., -32767., ..., -32767., -32767., -32767.],\n",
       "        [-32767., -32767., -32767., ..., -32767., -32767., -32767.],\n",
       "        [-32767., -32767., -32767., ..., -32767., -32767., -32767.]]], dtype=float32)"
      ]
     },
     "execution_count": 3,
     "metadata": {},
     "output_type": "execute_result"
    }
   ],
   "source": [
    "# look to see what got loaded\n",
    "print(da['x'].values[0], da['x'].values[-1], da['y'].values[0], da['y'].values[-1])\n",
    "# this is super slow and only successfully returns min and max\n",
    "# print(stats.describe(da.values,nan_policy='omit'))\n",
    "print(da.values.min(), da.values.max())\n",
    "print(da.sizes)\n",
    "print(da.dims)\n",
    "print(da.indexes)\n",
    "da.values"
   ]
  },
  {
   "cell_type": "markdown",
   "metadata": {},
   "source": [
    "Example from scipy.interpolate.RegularGridInterpolator documentation\n",
    "```\n",
    "def ff(x,y):\n",
    "...     return 2 * x**3 + 3 * y**2\n",
    "x = np.linspace(1, 4, 11)\n",
    "y = np.linspace(4, 7, 22)\n",
    "data = ff(*np.meshgrid(x, y, indexing='ij', sparse=True))\n",
    "print(np.shape(x),np.shape(y),np.shape(data))\n",
    "\n",
    "f = interpolate.RegularGridInterpolator( (x, y), data, method='nearest')\n",
    "```"
   ]
  },
  {
   "cell_type": "code",
   "execution_count": 4,
   "metadata": {},
   "outputs": [
    {
     "name": "stdout",
     "output_type": "stream",
     "text": [
      "(10226,) (11987,) (1, 10226, 11987)\n",
      "(11987,) (10226,) (10226, 11987)\n"
     ]
    }
   ],
   "source": [
    "from scipy import interpolate\n",
    "print( np.shape(np.flipud(da['y'].values)), np.shape(da['x'].values), np.shape( np.flipud(da.values)) )\n",
    "x = da['x'].values\n",
    "y = np.flipud(da['y'].values)\n",
    "# Not sure how da.values got a singleton dimension, but squeeze gets rid of it.\n",
    "# However, make sure to squeeze before flipping\n",
    "z = np.flipud(np.squeeze(da.values))\n",
    "\n",
    "# smooth with 2D running median\n",
    "zs = scipy.signal.medfilt2d(z, kernel_size=3)\n",
    "\n",
    "print(np.shape(x),np.shape(y),np.shape(zs))\n",
    "f = interpolate.RegularGridInterpolator( (y, x), zs, method='nearest')"
   ]
  },
  {
   "cell_type": "code",
   "execution_count": 5,
   "metadata": {},
   "outputs": [
    {
     "name": "stdout",
     "output_type": "stream",
     "text": [
      "(4801, 401)\n",
      "(4801, 401)\n"
     ]
    },
    {
     "data": {
      "text/plain": [
       "array([[  2.40000000e+03,   2.40000000e+03,   2.40000000e+03, ...,\n",
       "          2.40000000e+03,   2.40000000e+03,   2.40000000e+03],\n",
       "       [  2.39950000e+03,   2.39950000e+03,   2.39950000e+03, ...,\n",
       "          2.39950000e+03,   2.39950000e+03,   2.39950000e+03],\n",
       "       [  2.39900000e+03,   2.39900000e+03,   2.39900000e+03, ...,\n",
       "          2.39900000e+03,   2.39900000e+03,   2.39900000e+03],\n",
       "       ..., \n",
       "       [  1.00000000e+00,   1.00000000e+00,   1.00000000e+00, ...,\n",
       "          1.00000000e+00,   1.00000000e+00,   1.00000000e+00],\n",
       "       [  5.00000000e-01,   5.00000000e-01,   5.00000000e-01, ...,\n",
       "          5.00000000e-01,   5.00000000e-01,   5.00000000e-01],\n",
       "       [  0.00000000e+00,   0.00000000e+00,   0.00000000e+00, ...,\n",
       "          0.00000000e+00,   0.00000000e+00,   0.00000000e+00]])"
      ]
     },
     "execution_count": 5,
     "metadata": {},
     "output_type": "execute_result"
    }
   ],
   "source": [
    "# make a small box w/ 0.5m grid\n",
    "dxy = 0.5\n",
    "xmax = 200.\n",
    "ymax = 2400.\n",
    "nx = int((1./dxy)*xmax) + 1\n",
    "ny = int((1./dxy)*ymax) + 1\n",
    "xrot, yrot=np.meshgrid(np.linspace(0.,xmax,nx), np.flip(np.linspace(0.,ymax,ny),0) ,sparse=False, indexing='xy')\n",
    "print(xrot.shape)\n",
    "xrot\n",
    "print(yrot.shape)\n",
    "yrot"
   ]
  },
  {
   "cell_type": "code",
   "execution_count": 6,
   "metadata": {},
   "outputs": [
    {
     "name": "stdout",
     "output_type": "stream",
     "text": [
      "Data box:\n",
      "376286.692999 377485.292999 4624418.28441 4625440.78441\n",
      "Interp. box:\n",
      "376300.0 377308.786868 4624429.15166 4625437.93852\n"
     ]
    }
   ],
   "source": [
    "# calculate UTM coordinates for the box, which depend on upper left hand corner and rotation\n",
    "\n",
    "# top left corner of big region of interest (UTM Zone 19N meters)\n",
    "e0 = 376300.; n0 = 4625250.\n",
    "rot = 110.\n",
    "def box2UTM(x, y, e0, n0, rot):\n",
    "    r = np.pi*(rot-90.)/180.\n",
    "    xnew = x*np.cos(r)   + y*np.sin(r) + e0\n",
    "    ynew = -y*np.sin(r)  + x*np.cos(r) + n0\n",
    "    return xnew, ynew\n",
    "\n",
    "xu, yu = box2UTM(xrot, yrot, e0, n0, rot)\n",
    "\n",
    "print('Data box:')\n",
    "print(da['x'].values.min(), da['x'].values.max(), da['y'].values.min(), da['y'].values.max())\n",
    "print('Interp. box:')\n",
    "print(np.min(xu),np.max(xu),np.min(yu),np.max(yu))\n",
    "\n",
    "xb, yb = np.array((xrot.min(),xrot.min(),xrot.max(),xrot.max())), np.array((yrot.min(),yrot.max(),yrot.min(),yrot.max()))\n",
    "xub, yub = box2UTM(xb, yb, e0, n0, 120.)\n",
    "fid = open('box_corners.txt','w')\n",
    "for i in range(0,4):\n",
    "    fid.write('{0:}, {1:}\\n'.format( xub[i],yub[i]))\n",
    "fid.close()"
   ]
  },
  {
   "cell_type": "code",
   "execution_count": 7,
   "metadata": {},
   "outputs": [],
   "source": [
    "#plt.scatter(xu, yu, marker='.')"
   ]
  },
  {
   "cell_type": "code",
   "execution_count": 8,
   "metadata": {},
   "outputs": [
    {
     "name": "stdout",
     "output_type": "stream",
     "text": [
      "(10226,) (11987,) (1, 10226, 11987)\n",
      "(11987,) (10226,) (10226, 11987)\n"
     ]
    }
   ],
   "source": [
    "from scipy import interpolate\n",
    "print( np.shape(np.flipud(da['y'].values)), np.shape(da['x'].values), np.shape( np.flipud(da.values)) )\n",
    "x = da['x'].values\n",
    "y = np.flipud(da['y'].values)\n",
    "# Not sure how da.values got a singleton dimension, but squeeze gets rid of it.\n",
    "# However, make sure to squeeze before flipping\n",
    "z = np.flipud(np.squeeze(da.values))\n",
    "print(np.shape(x),np.shape(y),np.shape(z))\n",
    "f = interpolate.RegularGridInterpolator( (y, x), z, method='linear')"
   ]
  },
  {
   "cell_type": "code",
   "execution_count": 9,
   "metadata": {},
   "outputs": [],
   "source": [
    "# z[z<=-100.]=np.NaN\n",
    "# plt.pcolormesh(x,y,z)\n",
    "# plt.colorbar()"
   ]
  },
  {
   "cell_type": "code",
   "execution_count": 10,
   "metadata": {},
   "outputs": [],
   "source": [
    "zi = f((yu,xu))\n",
    "zi[zi<=-100.]=np.NaN"
   ]
  },
  {
   "cell_type": "code",
   "execution_count": 11,
   "metadata": {},
   "outputs": [
    {
     "data": {
      "text/plain": [
       "<matplotlib.colorbar.Colorbar at 0x19b805bc390>"
      ]
     },
     "execution_count": 11,
     "metadata": {},
     "output_type": "execute_result"
    },
    {
     "data": {
      "image/png": "[encoded data removed]",
      "text/plain": [
       "<matplotlib.figure.Figure at 0x19bd3856f60>"
      ]
     },
     "metadata": {},
     "output_type": "display_data"
    }
   ],
   "source": [
    "plt.plot(figsize=(2,8))\n",
    "plt.pcolormesh(yrot,xrot,zi,cmap=plt.cm.terrain,vmin=-2,vmax=8)\n",
    "#plt.gca().invert_yaxis()\n",
    "plt.axis('equal')\n",
    "plt.colorbar()"
   ]
  },
  {
   "cell_type": "code",
   "execution_count": 12,
   "metadata": {},
   "outputs": [
    {
     "name": "stdout",
     "output_type": "stream",
     "text": [
      "(4801, 401)\n"
     ]
    },
    {
     "data": {
      "text/plain": [
       "[<matplotlib.lines.Line2D at 0x19b80662240>]"
      ]
     },
     "execution_count": 12,
     "metadata": {},
     "output_type": "execute_result"
    },
    {
     "data": {
      "image/png": "[encoded data removed]",
      "text/plain": [
       "<matplotlib.figure.Figure at 0x19bd3856e48>"
      ]
     },
     "metadata": {},
     "output_type": "display_data"
    }
   ],
   "source": [
    "print(np.shape(zi))\n",
    "plt.plot(zi[2000,:])"
   ]
  },
  {
   "cell_type": "code",
   "execution_count": null,
   "metadata": {},
   "outputs": [],
   "source": []
  },
  {
   "cell_type": "code",
   "execution_count": null,
   "metadata": {},
   "outputs": [],
   "source": []
  }
 ],
 "metadata": {
  "kernelspec": {
   "display_name": "Python 3",
   "language": "python",
   "name": "python3"
  },
  "language_info": {
   "codemirror_mode": {
    "name": "ipython",
    "version": 3
   },
   "file_extension": ".py",
   "mimetype": "text/x-python",
   "name": "python",
   "nbconvert_exporter": "python",
   "pygments_lexer": "ipython3",
   "version": "3.6.3"
  }
 },
 "nbformat": 4,
 "nbformat_minor": 2
}
