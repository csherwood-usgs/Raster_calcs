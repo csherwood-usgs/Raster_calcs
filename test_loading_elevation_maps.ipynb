{
 "cells": [
  {
   "cell_type": "markdown",
   "metadata": {},
   "source": [
    "# Test loading elevation maps\n",
    "\n",
    "Goal is to capture all of the data in the maps, with NaNs when missing, and have a grid rotated alongshore to facilitate erosion calcs.\n",
    "\n",
    "TODO:\n",
    "* Make a rotated grid big enough to accomodate all of the maps. What resolution?\n",
    "* Assign UTM values to for rotated grid.\n",
    "* Load each map, [smooth?], and interpolate onto rotated grid.\n",
    "* Stack all maps. Work in rotated grid coordintes.\n",
    "* Save\n",
    "    "
   ]
  },
  {
   "cell_type": "code",
   "execution_count": 1,
   "metadata": {},
   "outputs": [],
   "source": [
    "import json\n",
    "import fiona\n",
    "import numpy as np\n",
    "import pandas as pd\n",
    "import scipy.signal\n",
    "from IPython.display import display, HTML\n",
    "import rasterio # rasterio and OGR don't mix...see rasterio docs\n",
    "from rasterio import Affine\n",
    "import matplotlib.pyplot as plt\n",
    "import xarray as xr\n",
    "%matplotlib inline"
   ]
  },
  {
   "cell_type": "code",
   "execution_count": 2,
   "metadata": {},
   "outputs": [],
   "source": [
    "fdir = \"F:/2017_Karen_Sandwich_maps\"\n",
    "#fdir = \"C:/crs/proj/2017_Karen_Sandwich_maps\"\n",
    "\n",
    "fnames = (\\\n",
    "\"2016-01-22_SandwichTNB_PT_DEM_10cm_trimmed.tif\",\\\n",
    "\"2016-01-25_SandwichTNB_DEM_10cm_trimmed.tif\",\\\n",
    "\"2016-02-11_SandwichTNB_DEM_10cm_trimmed.tif\",\\\n",
    "\"2016-03-30_SandwichTNB_AS_DEM_10cm_trimmed.tif\",\\\n",
    "\"2016-09-21_SandwichTNB_DEM_10cm_trimmed.tif\",\\\n",
    "\"2017-01-09_SandwichTNB_DEM_10cm_trimmed.tif\",\\\n",
    "\"2017-01-25_SandwichTNB_DEM_10cm_trimmed.tif\",\\\n",
    "\"2017-02-14_SandwichTNB_DEM_10cm_trimmed.tif\",\\\n",
    "\"2017-03-16_SandwichTNB_DEM_10cm_trimmed.tif\",\\\n",
    "\"2017-04-28_SandwichTNB_DEM_10cm_trimmed.tif\",\\\n",
    "\"2017-05-04_SandwichTNB_DEM_10cm_trimmed.tif\",\\\n",
    "\"2017-09-18_SandwichTNB_DEM_10cm_trimmed.tif\",\\\n",
    "#\"2018-01-03_SandwichTNB_DEM_10cm_trimmed.tif\",\\ # needs to be padded...not very good control\n",
    "\"2018-01-10_SandwichTNB_DEM_10cm_trimmed.tif\",\\\n",
    "\"DEM_10cm_selfcal_lokicampos_mid_denseNAD83UTM19.tif\")\n",
    "\n",
    "dslist =[]\n",
    "# just read one for now (note...this reads in as a DataArray, not a DataSet)\n",
    "fn = fdir+\"/2016-01-22_SandwichTNB_PT_DEM_10cm_trimmed.tif\"\n",
    "# fn = fdir+\"/2016-01-25_SandwichTNB_DEM_10cm_trimmed.tif\"\n",
    "\n",
    "da = xr.open_rasterio(fn)\n",
    "#     ds = ds.sel(x=slice(e0,e1), y=slice(n0,n1))\n",
    "#     if len(dslist) == 0:\n",
    "#         xc = ds['x']-ds['x'].values.min()\n",
    "#         yc = ds['y']-ds['y'].values.min()\n",
    "#     ds['x'] = xc\n",
    "#     ds['y'] = yc\n",
    "#     dslist.append(ds)"
   ]
  },
  {
   "cell_type": "code",
   "execution_count": 3,
   "metadata": {},
   "outputs": [
    {
     "name": "stdout",
     "output_type": "stream",
     "text": [
      "376286.692999 377485.292999 4625440.78441 4624418.28441\n",
      "-32767.0 14.8271\n",
      "Frozen(OrderedDict([('band', 1), ('y', 10226), ('x', 11987)]))\n",
      "('band', 'y', 'x')\n",
      "band: Int64Index([1], dtype='int64', name='band')\n",
      "y: Float64Index([ 4625440.784410301,    4625440.6844103, 4625440.5844103005,\n",
      "                  4625440.484410301,    4625440.3844103,  4625440.284410301,\n",
      "                    4625440.1844103, 4625440.0844103005,  4625439.984410301,\n",
      "                    4625439.8844103,\n",
      "                 ...\n",
      "                    4624419.1844103, 4624419.0844103005,  4624418.984410301,\n",
      "                    4624418.8844103,  4624418.784410301,    4624418.6844103,\n",
      "                 4624418.5844103005,  4624418.484410301,    4624418.3844103,\n",
      "                  4624418.284410301],\n",
      "                dtype='float64', name='y', length=10226)\n",
      "x: Float64Index([376286.69299908396,   376286.792999084, 376286.89299908397,\n",
      "                 376286.99299908394,   376287.092999084, 376287.19299908396,\n",
      "                   376287.292999084, 376287.39299908397, 376287.49299908394,\n",
      "                   376287.592999084,\n",
      "                 ...\n",
      "                 377484.39299908397, 377484.49299908394,  377484.5929990839,\n",
      "                 377484.69299908396, 377484.79299908393, 377484.89299908397,\n",
      "                 377484.99299908394,  377485.0929990839, 377485.19299908396,\n",
      "                 377485.29299908393],\n",
      "                dtype='float64', name='x', length=11987)\n"
     ]
    },
    {
     "data": {
      "text/plain": [
       "array([[[-32767., -32767., -32767., ..., -32767., -32767., -32767.],\n",
       "        [-32767., -32767., -32767., ..., -32767., -32767., -32767.],\n",
       "        [-32767., -32767., -32767., ..., -32767., -32767., -32767.],\n",
       "        ..., \n",
       "        [-32767., -32767., -32767., ..., -32767., -32767., -32767.],\n",
       "        [-32767., -32767., -32767., ..., -32767., -32767., -32767.],\n",
       "        [-32767., -32767., -32767., ..., -32767., -32767., -32767.]]], dtype=float32)"
      ]
     },
     "execution_count": 3,
     "metadata": {},
     "output_type": "execute_result"
    }
   ],
   "source": [
    "# look to see what got loaded\n",
    "print(da['x'].values[0], da['x'].values[-1], da['y'].values[0], da['y'].values[-1])\n",
    "# this is super slow and only successfully returns min and max\n",
    "# print(stats.describe(da.values,nan_policy='omit'))\n",
    "print(da.values.min(), da.values.max())\n",
    "print(da.sizes)\n",
    "print(da.dims)\n",
    "print(da.indexes)\n",
    "da.values"
   ]
  },
  {
   "cell_type": "markdown",
   "metadata": {},
   "source": [
    "Example from scipy.interpolate.RegularGridInterpolator documentation\n",
    "```\n",
    "def ff(x,y):\n",
    "...     return 2 * x**3 + 3 * y**2\n",
    "x = np.linspace(1, 4, 11)\n",
    "y = np.linspace(4, 7, 22)\n",
    "data = ff(*np.meshgrid(x, y, indexing='ij', sparse=True))\n",
    "print(np.shape(x),np.shape(y),np.shape(data))\n",
    "\n",
    "f = interpolate.RegularGridInterpolator( (x, y), data, method='nearest')\n",
    "```"
   ]
  },
  {
   "cell_type": "code",
   "execution_count": 4,
   "metadata": {},
   "outputs": [
    {
     "name": "stdout",
     "output_type": "stream",
     "text": [
      "(10226,) (11987,) (1, 10226, 11987)\n",
      "(11987,) (10226,) (10226, 11987)\n"
     ]
    }
   ],
   "source": [
    "from scipy import interpolate\n",
    "print(\"shape of y, x, and da.values: \",\\\n",
    "      np.shape(np.flipud(da['y'].values)), np.shape(da['x'].values), np.shape( np.flipud(da.values)) )\n",
    "x = da['x'].values\n",
    "y = np.flipud(da['y'].values)\n",
    "\n",
    "# Not sure how da.values got a singleton dimension, but squeeze gets rid of it.\n",
    "# However, make sure to squeeze before flipping\n",
    "z = np.flipud(np.squeeze(da.values))\n",
    "\n",
    "# smooth with 2D running median\n",
    "zs = scipy.signal.medfilt2d(z, kernel_size=3)\n",
    "\n",
    "print(\"Shape of x, y, and zs\",np.shape(x),np.shape(y),np.shape(zs))\n",
    "f = interpolate.RegularGridInterpolator( (y, x), zs, method='nearest')"
   ]
  },
  {
   "cell_type": "code",
   "execution_count": 40,
   "metadata": {},
   "outputs": [
    {
     "name": "stdout",
     "output_type": "stream",
     "text": [
      "(251, 1701)\n",
      "[[  0.00000000e+00   1.00000000e+00   2.00000000e+00 ...,   1.69800000e+03\n",
      "    1.69900000e+03   1.70000000e+03]\n",
      " [  0.00000000e+00   1.00000000e+00   2.00000000e+00 ...,   1.69800000e+03\n",
      "    1.69900000e+03   1.70000000e+03]\n",
      " [  0.00000000e+00   1.00000000e+00   2.00000000e+00 ...,   1.69800000e+03\n",
      "    1.69900000e+03   1.70000000e+03]\n",
      " ..., \n",
      " [  0.00000000e+00   1.00000000e+00   2.00000000e+00 ...,   1.69800000e+03\n",
      "    1.69900000e+03   1.70000000e+03]\n",
      " [  0.00000000e+00   1.00000000e+00   2.00000000e+00 ...,   1.69800000e+03\n",
      "    1.69900000e+03   1.70000000e+03]\n",
      " [  0.00000000e+00   1.00000000e+00   2.00000000e+00 ...,   1.69800000e+03\n",
      "    1.69900000e+03   1.70000000e+03]]\n",
      "(251, 1701)\n",
      "[[   0.    0.    0. ...,    0.    0.    0.]\n",
      " [   1.    1.    1. ...,    1.    1.    1.]\n",
      " [   2.    2.    2. ...,    2.    2.    2.]\n",
      " ..., \n",
      " [ 248.  248.  248. ...,  248.  248.  248.]\n",
      " [ 249.  249.  249. ...,  249.  249.  249.]\n",
      " [ 250.  250.  250. ...,  250.  250.  250.]]\n"
     ]
    }
   ],
   "source": [
    "# make a small box w/ 0.5m grid\n",
    "dxy = 1.\n",
    "xmax = 1700. # alongshore\n",
    "ymax = 250.  # cross-shore\n",
    "nx = int((1./dxy)*xmax) + 1\n",
    "ny = int((1./dxy)*ymax) + 1\n",
    "\n",
    "# Y is decending\n",
    "#xrot, yrot=np.meshgrid(np.linspace(0.,xmax,nx), np.flip(np.linspace(0.,ymax,ny),0) ,sparse=False, indexing='xy')\n",
    "# Y is ascending\n",
    "xrot, yrot=np.meshgrid(np.linspace(0.,xmax,nx), np.linspace(0.,ymax,ny) ,sparse=False, indexing='xy')\n",
    "print(xrot.shape)\n",
    "print(xrot)\n",
    "print(yrot.shape)\n",
    "print(yrot)"
   ]
  },
  {
   "cell_type": "code",
   "execution_count": 41,
   "metadata": {},
   "outputs": [
    {
     "ename": "IndexError",
     "evalue": "index 1700 is out of bounds for axis 0 with size 251",
     "output_type": "error",
     "traceback": [
      "\u001b[1;31m---------------------------------------------------------------------------\u001b[0m",
      "\u001b[1;31mIndexError\u001b[0m                                Traceback (most recent call last)",
      "\u001b[1;32m<ipython-input-41-2b4c8689c8f9>\u001b[0m in \u001b[0;36m<module>\u001b[1;34m()\u001b[0m\n\u001b[0;32m     13\u001b[0m \u001b[0mxu_ll\u001b[0m\u001b[1;33m,\u001b[0m \u001b[0myu_ll\u001b[0m \u001b[1;33m=\u001b[0m \u001b[0mbox2UTM\u001b[0m\u001b[1;33m(\u001b[0m \u001b[0mxrot\u001b[0m\u001b[1;33m[\u001b[0m\u001b[1;36m0\u001b[0m\u001b[1;33m,\u001b[0m\u001b[1;36m0\u001b[0m\u001b[1;33m]\u001b[0m\u001b[1;33m,\u001b[0m \u001b[0myrot\u001b[0m\u001b[1;33m[\u001b[0m\u001b[1;36m0\u001b[0m\u001b[1;33m,\u001b[0m\u001b[1;36m0\u001b[0m\u001b[1;33m]\u001b[0m\u001b[1;33m,\u001b[0m \u001b[0me0\u001b[0m\u001b[1;33m,\u001b[0m \u001b[0mn0\u001b[0m\u001b[1;33m,\u001b[0m \u001b[0mrot\u001b[0m\u001b[1;33m)\u001b[0m\u001b[1;33m\u001b[0m\u001b[0m\n\u001b[0;32m     14\u001b[0m \u001b[0mxu_ul\u001b[0m\u001b[1;33m,\u001b[0m \u001b[0myu_ul\u001b[0m \u001b[1;33m=\u001b[0m \u001b[0mbox2UTM\u001b[0m\u001b[1;33m(\u001b[0m \u001b[0mxrot\u001b[0m\u001b[1;33m[\u001b[0m\u001b[1;36m0\u001b[0m\u001b[1;33m,\u001b[0m\u001b[1;36m250\u001b[0m\u001b[1;33m]\u001b[0m\u001b[1;33m,\u001b[0m \u001b[0myrot\u001b[0m\u001b[1;33m[\u001b[0m\u001b[1;36m0\u001b[0m\u001b[1;33m,\u001b[0m\u001b[1;36m250\u001b[0m\u001b[1;33m]\u001b[0m\u001b[1;33m,\u001b[0m \u001b[0me0\u001b[0m\u001b[1;33m,\u001b[0m \u001b[0mn0\u001b[0m\u001b[1;33m,\u001b[0m \u001b[0mrot\u001b[0m\u001b[1;33m)\u001b[0m\u001b[1;33m\u001b[0m\u001b[0m\n\u001b[1;32m---> 15\u001b[1;33m \u001b[0mxu_lr\u001b[0m\u001b[1;33m,\u001b[0m \u001b[0myu_lr\u001b[0m \u001b[1;33m=\u001b[0m \u001b[0mbox2UTM\u001b[0m\u001b[1;33m(\u001b[0m \u001b[0mxrot\u001b[0m\u001b[1;33m[\u001b[0m\u001b[1;36m1700\u001b[0m\u001b[1;33m,\u001b[0m\u001b[1;36m0\u001b[0m\u001b[1;33m]\u001b[0m\u001b[1;33m,\u001b[0m \u001b[0myrot\u001b[0m\u001b[1;33m[\u001b[0m\u001b[1;36m1700\u001b[0m\u001b[1;33m,\u001b[0m\u001b[1;36m0\u001b[0m\u001b[1;33m]\u001b[0m\u001b[1;33m,\u001b[0m \u001b[0me0\u001b[0m\u001b[1;33m,\u001b[0m \u001b[0mn0\u001b[0m\u001b[1;33m,\u001b[0m \u001b[0mrot\u001b[0m\u001b[1;33m)\u001b[0m\u001b[1;33m\u001b[0m\u001b[0m\n\u001b[0m\u001b[0;32m     16\u001b[0m \u001b[0mxu_ur\u001b[0m\u001b[1;33m,\u001b[0m \u001b[0myu_ur\u001b[0m \u001b[1;33m=\u001b[0m \u001b[0mbox2UTM\u001b[0m\u001b[1;33m(\u001b[0m \u001b[0mxrot\u001b[0m\u001b[1;33m[\u001b[0m\u001b[1;36m1700\u001b[0m\u001b[1;33m,\u001b[0m\u001b[1;36m250\u001b[0m\u001b[1;33m]\u001b[0m\u001b[1;33m,\u001b[0m \u001b[0myrot\u001b[0m\u001b[1;33m[\u001b[0m\u001b[1;36m1700\u001b[0m\u001b[1;33m,\u001b[0m\u001b[1;36m250\u001b[0m\u001b[1;33m]\u001b[0m\u001b[1;33m,\u001b[0m \u001b[0me0\u001b[0m\u001b[1;33m,\u001b[0m \u001b[0mn0\u001b[0m\u001b[1;33m,\u001b[0m \u001b[0mrot\u001b[0m\u001b[1;33m)\u001b[0m\u001b[1;33m\u001b[0m\u001b[0m\n\u001b[0;32m     17\u001b[0m \u001b[1;33m\u001b[0m\u001b[0m\n",
      "\u001b[1;31mIndexError\u001b[0m: index 1700 is out of bounds for axis 0 with size 251"
     ]
    }
   ],
   "source": [
    "# calculate UTM coordinates for the box, which depend on upper left hand corner and rotation\n",
    "\n",
    "# top left corner of big region of interest (UTM Zone 19N meters)\n",
    "e0 = 376300.; n0 = 4625250.\n",
    "rot = 98.\n",
    "def box2UTM(x, y, e0, n0, rot):\n",
    "    r = np.pi*(rot-90.)/180.\n",
    "    xnew = x*np.cos(r)   + y*np.sin(r) + e0\n",
    "    ynew = -y*np.sin(r)  + x*np.cos(r) + n0\n",
    "    return xnew, ynew\n",
    "\n",
    "# Check using values from corners\n",
    "xu_ll, yu_ll = box2UTM( xrot[0,0], yrot[0,0], e0, n0, rot)\n",
    "xu_ul, yu_ul = box2UTM( xrot[0,250], yrot[0,250], e0, n0, rot)\n",
    "xu_lr, yu_lr = box2UTM( xrot[1700,0], yrot[1700,0], e0, n0, rot)\n",
    "xu_ur, yu_ur = box2UTM( xrot[1700,250], yrot[1700,250], e0, n0, rot)\n",
    "\n",
    "print('Corners of rotated coord. matrix in UTM:')\n",
    "print('Lower left: ',xrot[0,0], yrot[0,0], xu_ll, yu_ll)\n",
    "print('Upper left: ',xrot[0,250], yrot[0,250], xu_ul, yu_ul)\n",
    "print('Upper right:',xrot[1700,250], yrot[1700,250],xu_ur, yu_ur)\n",
    "print('Lower right:',xrot[1700,0], yrot[1700,0], xu_lr, yu_lr)\n",
    "\n",
    "\n",
    "xu, yu = box2UTM(xrot, yrot, e0, n0, rot)\n",
    "\n",
    "xub = np.array((xu_ll, xu_ul, xu_ur, xu_lr))\n",
    "yub = np.array((yu_ll, yu_ul, yu_ur, yu_lr))\n",
    "\n",
    "fid = open('box_corners.txt','w')\n",
    "for i in range(0,4):\n",
    "    fid.write('{0:}, {1:}\\n'.format( xub[i],yub[i]))\n",
    "fid.close()"
   ]
  },
  {
   "cell_type": "code",
   "execution_count": 38,
   "metadata": {},
   "outputs": [
    {
     "data": {
      "text/plain": [
       "[<matplotlib.lines.Line2D at 0x1682a4a1e80>]"
      ]
     },
     "execution_count": 38,
     "metadata": {},
     "output_type": "execute_result"
    },
    {
     "data": {
      "image/png": "[encoded data removed]",
      "text/plain": [
       "<matplotlib.figure.Figure at 0x1682a489128>"
      ]
     },
     "metadata": {},
     "output_type": "display_data"
    }
   ],
   "source": [
    "plt.plot(xub, yub,'-')"
   ]
  },
  {
   "cell_type": "code",
   "execution_count": 23,
   "metadata": {},
   "outputs": [
    {
     "name": "stdout",
     "output_type": "stream",
     "text": [
      "(10226,) (11987,) (1, 10226, 11987)\n",
      "(11987,) (10226,) (10226, 11987)\n"
     ]
    }
   ],
   "source": [
    "from scipy import interpolate\n",
    "print( np.shape(np.flipud(da['y'].values)), np.shape(da['x'].values), np.shape( np.flipud(da.values)) )\n",
    "x = da['x'].values\n",
    "y = np.flipud(da['y'].values)\n",
    "# Not sure how da.values got a singleton dimension, but squeeze gets rid of it.\n",
    "# However, make sure to squeeze before flipping\n",
    "z = np.flipud(np.squeeze(da.values))\n",
    "print(np.shape(x),np.shape(y),np.shape(z))\n",
    "f = interpolate.RegularGridInterpolator( (y, x), z, method='linear')"
   ]
  },
  {
   "cell_type": "code",
   "execution_count": 39,
   "metadata": {},
   "outputs": [
    {
     "name": "stderr",
     "output_type": "stream",
     "text": [
      "C:\\Users\\csherwood\\AppData\\Local\\Continuum\\miniconda3\\envs\\IOOS3\\lib\\site-packages\\ipykernel_launcher.py:1: RuntimeWarning: invalid value encountered in less_equal\n",
      "  \"\"\"Entry point for launching an IPython kernel.\n"
     ]
    },
    {
     "data": {
      "text/plain": [
       "(1701, 251)"
      ]
     },
     "execution_count": 39,
     "metadata": {},
     "output_type": "execute_result"
    },
    {
     "data": {
      "image/png": "[encoded data removed]",
      "text/plain": [
       "<matplotlib.figure.Figure at 0x1682a4beac8>"
      ]
     },
     "metadata": {},
     "output_type": "display_data"
    }
   ],
   "source": [
    "z[z<=-100.]=np.NaN\n",
    "plt.pcolormesh(x,y,z)\n",
    "plt.plot(xub,yub,'-r')\n",
    "plt.colorbar()\n",
    "np.shape(xu)"
   ]
  },
  {
   "cell_type": "markdown",
   "metadata": {},
   "source": [
    "%%time\n",
    "zi = f((yu,xu))\n",
    "zi[zi<=-100.]=np.NaN"
   ]
  },
  {
   "cell_type": "code",
   "execution_count": 25,
   "metadata": {},
   "outputs": [
    {
     "name": "stdout",
     "output_type": "stream",
     "text": [
      "Wall time: 7.84 s\n"
     ]
    }
   ],
   "source": [
    "%%time\n",
    "# Array for interpolated elevations\n",
    "zi=np.NaN*np.ones((ny,nx))\n",
    "\n",
    "# this is a slow iteration through all of the points, but allows us to skip ones that are outside\n",
    "for i in np.ndindex(zi.shape):\n",
    "    try:\n",
    "        zi[i]=f((yu[i],xu[i]))\n",
    "    except:\n",
    "        zi[i]=np.NaN\n",
    "     "
   ]
  },
  {
   "cell_type": "code",
   "execution_count": 26,
   "metadata": {},
   "outputs": [
    {
     "ename": "TypeError",
     "evalue": "Dimensions of C (1701, 251) are incompatible with X (1701) and/or Y (251); see help(pcolormesh)",
     "output_type": "error",
     "traceback": [
      "\u001b[1;31m---------------------------------------------------------------------------\u001b[0m",
      "\u001b[1;31mTypeError\u001b[0m                                 Traceback (most recent call last)",
      "\u001b[1;32m<ipython-input-26-3cba530b4106>\u001b[0m in \u001b[0;36m<module>\u001b[1;34m()\u001b[0m\n\u001b[0;32m      1\u001b[0m \u001b[0mplt\u001b[0m\u001b[1;33m.\u001b[0m\u001b[0mplot\u001b[0m\u001b[1;33m(\u001b[0m\u001b[0mfigsize\u001b[0m\u001b[1;33m=\u001b[0m\u001b[1;33m(\u001b[0m\u001b[1;36m2\u001b[0m\u001b[1;33m,\u001b[0m\u001b[1;36m8\u001b[0m\u001b[1;33m)\u001b[0m\u001b[1;33m)\u001b[0m\u001b[1;33m\u001b[0m\u001b[0m\n\u001b[1;32m----> 2\u001b[1;33m \u001b[0mplt\u001b[0m\u001b[1;33m.\u001b[0m\u001b[0mpcolormesh\u001b[0m\u001b[1;33m(\u001b[0m\u001b[0myrot\u001b[0m\u001b[1;33m,\u001b[0m\u001b[0mxrot\u001b[0m\u001b[1;33m,\u001b[0m\u001b[0mzi\u001b[0m\u001b[1;33m,\u001b[0m\u001b[0mcmap\u001b[0m\u001b[1;33m=\u001b[0m\u001b[0mplt\u001b[0m\u001b[1;33m.\u001b[0m\u001b[0mcm\u001b[0m\u001b[1;33m.\u001b[0m\u001b[0mterrain\u001b[0m\u001b[1;33m,\u001b[0m\u001b[0mvmin\u001b[0m\u001b[1;33m=\u001b[0m\u001b[1;33m-\u001b[0m\u001b[1;36m2\u001b[0m\u001b[1;33m,\u001b[0m\u001b[0mvmax\u001b[0m\u001b[1;33m=\u001b[0m\u001b[1;36m8\u001b[0m\u001b[1;33m)\u001b[0m\u001b[1;33m\u001b[0m\u001b[0m\n\u001b[0m\u001b[0;32m      3\u001b[0m \u001b[1;31m#plt.gca().invert_yaxis()\u001b[0m\u001b[1;33m\u001b[0m\u001b[1;33m\u001b[0m\u001b[0m\n\u001b[0;32m      4\u001b[0m \u001b[1;31m#plt.axis('equal')\u001b[0m\u001b[1;33m\u001b[0m\u001b[1;33m\u001b[0m\u001b[0m\n\u001b[0;32m      5\u001b[0m \u001b[0mplt\u001b[0m\u001b[1;33m.\u001b[0m\u001b[0mylim\u001b[0m\u001b[1;33m(\u001b[0m\u001b[1;36m0\u001b[0m\u001b[1;33m,\u001b[0m\u001b[1;36m250\u001b[0m\u001b[1;33m)\u001b[0m\u001b[1;33m\u001b[0m\u001b[0m\n",
      "\u001b[1;32m~\\AppData\\Local\\Continuum\\miniconda3\\envs\\IOOS3\\lib\\site-packages\\matplotlib\\pyplot.py\u001b[0m in \u001b[0;36mpcolormesh\u001b[1;34m(*args, **kwargs)\u001b[0m\n\u001b[0;32m   3165\u001b[0m                       mplDeprecation)\n\u001b[0;32m   3166\u001b[0m     \u001b[1;32mtry\u001b[0m\u001b[1;33m:\u001b[0m\u001b[1;33m\u001b[0m\u001b[0m\n\u001b[1;32m-> 3167\u001b[1;33m         \u001b[0mret\u001b[0m \u001b[1;33m=\u001b[0m \u001b[0max\u001b[0m\u001b[1;33m.\u001b[0m\u001b[0mpcolormesh\u001b[0m\u001b[1;33m(\u001b[0m\u001b[1;33m*\u001b[0m\u001b[0margs\u001b[0m\u001b[1;33m,\u001b[0m \u001b[1;33m**\u001b[0m\u001b[0mkwargs\u001b[0m\u001b[1;33m)\u001b[0m\u001b[1;33m\u001b[0m\u001b[0m\n\u001b[0m\u001b[0;32m   3168\u001b[0m     \u001b[1;32mfinally\u001b[0m\u001b[1;33m:\u001b[0m\u001b[1;33m\u001b[0m\u001b[0m\n\u001b[0;32m   3169\u001b[0m         \u001b[0max\u001b[0m\u001b[1;33m.\u001b[0m\u001b[0m_hold\u001b[0m \u001b[1;33m=\u001b[0m \u001b[0mwashold\u001b[0m\u001b[1;33m\u001b[0m\u001b[0m\n",
      "\u001b[1;32m~\\AppData\\Local\\Continuum\\miniconda3\\envs\\IOOS3\\lib\\site-packages\\matplotlib\\__init__.py\u001b[0m in \u001b[0;36minner\u001b[1;34m(ax, *args, **kwargs)\u001b[0m\n\u001b[0;32m   1708\u001b[0m                     warnings.warn(msg % (label_namer, func.__name__),\n\u001b[0;32m   1709\u001b[0m                                   RuntimeWarning, stacklevel=2)\n\u001b[1;32m-> 1710\u001b[1;33m             \u001b[1;32mreturn\u001b[0m \u001b[0mfunc\u001b[0m\u001b[1;33m(\u001b[0m\u001b[0max\u001b[0m\u001b[1;33m,\u001b[0m \u001b[1;33m*\u001b[0m\u001b[0margs\u001b[0m\u001b[1;33m,\u001b[0m \u001b[1;33m**\u001b[0m\u001b[0mkwargs\u001b[0m\u001b[1;33m)\u001b[0m\u001b[1;33m\u001b[0m\u001b[0m\n\u001b[0m\u001b[0;32m   1711\u001b[0m         \u001b[0mpre_doc\u001b[0m \u001b[1;33m=\u001b[0m \u001b[0minner\u001b[0m\u001b[1;33m.\u001b[0m\u001b[0m__doc__\u001b[0m\u001b[1;33m\u001b[0m\u001b[0m\n\u001b[0;32m   1712\u001b[0m         \u001b[1;32mif\u001b[0m \u001b[0mpre_doc\u001b[0m \u001b[1;32mis\u001b[0m \u001b[1;32mNone\u001b[0m\u001b[1;33m:\u001b[0m\u001b[1;33m\u001b[0m\u001b[0m\n",
      "\u001b[1;32m~\\AppData\\Local\\Continuum\\miniconda3\\envs\\IOOS3\\lib\\site-packages\\matplotlib\\axes\\_axes.py\u001b[0m in \u001b[0;36mpcolormesh\u001b[1;34m(self, *args, **kwargs)\u001b[0m\n\u001b[0;32m   5623\u001b[0m         \u001b[0mallmatch\u001b[0m \u001b[1;33m=\u001b[0m \u001b[1;33m(\u001b[0m\u001b[0mshading\u001b[0m \u001b[1;33m==\u001b[0m \u001b[1;34m'gouraud'\u001b[0m\u001b[1;33m)\u001b[0m\u001b[1;33m\u001b[0m\u001b[0m\n\u001b[0;32m   5624\u001b[0m \u001b[1;33m\u001b[0m\u001b[0m\n\u001b[1;32m-> 5625\u001b[1;33m         \u001b[0mX\u001b[0m\u001b[1;33m,\u001b[0m \u001b[0mY\u001b[0m\u001b[1;33m,\u001b[0m \u001b[0mC\u001b[0m \u001b[1;33m=\u001b[0m \u001b[0mself\u001b[0m\u001b[1;33m.\u001b[0m\u001b[0m_pcolorargs\u001b[0m\u001b[1;33m(\u001b[0m\u001b[1;34m'pcolormesh'\u001b[0m\u001b[1;33m,\u001b[0m \u001b[1;33m*\u001b[0m\u001b[0margs\u001b[0m\u001b[1;33m,\u001b[0m \u001b[0mallmatch\u001b[0m\u001b[1;33m=\u001b[0m\u001b[0mallmatch\u001b[0m\u001b[1;33m)\u001b[0m\u001b[1;33m\u001b[0m\u001b[0m\n\u001b[0m\u001b[0;32m   5626\u001b[0m         \u001b[0mNy\u001b[0m\u001b[1;33m,\u001b[0m \u001b[0mNx\u001b[0m \u001b[1;33m=\u001b[0m \u001b[0mX\u001b[0m\u001b[1;33m.\u001b[0m\u001b[0mshape\u001b[0m\u001b[1;33m\u001b[0m\u001b[0m\n\u001b[0;32m   5627\u001b[0m         \u001b[0mX\u001b[0m \u001b[1;33m=\u001b[0m \u001b[0mX\u001b[0m\u001b[1;33m.\u001b[0m\u001b[0mravel\u001b[0m\u001b[1;33m(\u001b[0m\u001b[1;33m)\u001b[0m\u001b[1;33m\u001b[0m\u001b[0m\n",
      "\u001b[1;32m~\\AppData\\Local\\Continuum\\miniconda3\\envs\\IOOS3\\lib\\site-packages\\matplotlib\\axes\\_axes.py\u001b[0m in \u001b[0;36m_pcolorargs\u001b[1;34m(funcname, *args, **kw)\u001b[0m\n\u001b[0;32m   5267\u001b[0m                 raise TypeError('Dimensions of C %s are incompatible with'\n\u001b[0;32m   5268\u001b[0m                                 ' X (%d) and/or Y (%d); see help(%s)' % (\n\u001b[1;32m-> 5269\u001b[1;33m                                     C.shape, Nx, Ny, funcname))\n\u001b[0m\u001b[0;32m   5270\u001b[0m             \u001b[0mC\u001b[0m \u001b[1;33m=\u001b[0m \u001b[0mC\u001b[0m\u001b[1;33m[\u001b[0m\u001b[1;33m:\u001b[0m\u001b[0mNy\u001b[0m \u001b[1;33m-\u001b[0m \u001b[1;36m1\u001b[0m\u001b[1;33m,\u001b[0m \u001b[1;33m:\u001b[0m\u001b[0mNx\u001b[0m \u001b[1;33m-\u001b[0m \u001b[1;36m1\u001b[0m\u001b[1;33m]\u001b[0m\u001b[1;33m\u001b[0m\u001b[0m\n\u001b[0;32m   5271\u001b[0m         \u001b[0mC\u001b[0m \u001b[1;33m=\u001b[0m \u001b[0mcbook\u001b[0m\u001b[1;33m.\u001b[0m\u001b[0msafe_masked_invalid\u001b[0m\u001b[1;33m(\u001b[0m\u001b[0mC\u001b[0m\u001b[1;33m)\u001b[0m\u001b[1;33m\u001b[0m\u001b[0m\n",
      "\u001b[1;31mTypeError\u001b[0m: Dimensions of C (1701, 251) are incompatible with X (1701) and/or Y (251); see help(pcolormesh)"
     ]
    },
    {
     "data": {
      "image/png": "[encoded data removed]",
      "text/plain": [
       "<matplotlib.figure.Figure at 0x1682a362940>"
      ]
     },
     "metadata": {},
     "output_type": "display_data"
    }
   ],
   "source": [
    "plt.plot(figsize=(2,8))\n",
    "plt.pcolormesh(yrot,xrot,zi,cmap=plt.cm.terrain,vmin=-2,vmax=8)\n",
    "#plt.gca().invert_yaxis()\n",
    "#plt.axis('equal')\n",
    "plt.ylim(0,250)\n",
    "plt.colorbar()"
   ]
  },
  {
   "cell_type": "code",
   "execution_count": null,
   "metadata": {},
   "outputs": [],
   "source": [
    "print(np.shape(zi))\n",
    "plt.plot(zi[0,:])\n",
    "plt.ylim(-2,8)"
   ]
  },
  {
   "cell_type": "code",
   "execution_count": 13,
   "metadata": {},
   "outputs": [
    {
     "data": {
      "text/plain": [
       "[<matplotlib.lines.Line2D at 0x1682c584978>,\n",
       " <matplotlib.lines.Line2D at 0x1682c584b70>,\n",
       " <matplotlib.lines.Line2D at 0x1682c584c88>,\n",
       " <matplotlib.lines.Line2D at 0x1682c584dd8>,\n",
       " <matplotlib.lines.Line2D at 0x1682c584f28>,\n",
       " <matplotlib.lines.Line2D at 0x1682c58c0b8>,\n",
       " <matplotlib.lines.Line2D at 0x1682c58c208>,\n",
       " <matplotlib.lines.Line2D at 0x1682c58c358>,\n",
       " <matplotlib.lines.Line2D at 0x1682c58c4a8>,\n",
       " <matplotlib.lines.Line2D at 0x1682c58c5f8>,\n",
       " <matplotlib.lines.Line2D at 0x1682c56bb00>,\n",
       " <matplotlib.lines.Line2D at 0x1682c58c860>,\n",
       " <matplotlib.lines.Line2D at 0x1682c58c9b0>,\n",
       " <matplotlib.lines.Line2D at 0x1682c58cb00>,\n",
       " <matplotlib.lines.Line2D at 0x1682c58cc50>,\n",
       " <matplotlib.lines.Line2D at 0x1682c58cda0>,\n",
       " <matplotlib.lines.Line2D at 0x1682c58cef0>,\n",
       " <matplotlib.lines.Line2D at 0x1682c591080>,\n",
       " <matplotlib.lines.Line2D at 0x1682c5911d0>,\n",
       " <matplotlib.lines.Line2D at 0x1682c591320>,\n",
       " <matplotlib.lines.Line2D at 0x1682c591470>,\n",
       " <matplotlib.lines.Line2D at 0x1682c5915c0>,\n",
       " <matplotlib.lines.Line2D at 0x1682c591710>,\n",
       " <matplotlib.lines.Line2D at 0x1682c591860>,\n",
       " <matplotlib.lines.Line2D at 0x1682c5919b0>,\n",
       " <matplotlib.lines.Line2D at 0x1682c591b00>,\n",
       " <matplotlib.lines.Line2D at 0x1682c591c50>,\n",
       " <matplotlib.lines.Line2D at 0x1682c591da0>,\n",
       " <matplotlib.lines.Line2D at 0x1682c591ef0>,\n",
       " <matplotlib.lines.Line2D at 0x1682c596080>,\n",
       " <matplotlib.lines.Line2D at 0x1682c5961d0>,\n",
       " <matplotlib.lines.Line2D at 0x1682c596320>,\n",
       " <matplotlib.lines.Line2D at 0x1682c596470>,\n",
       " <matplotlib.lines.Line2D at 0x1682c5965c0>,\n",
       " <matplotlib.lines.Line2D at 0x1682c596710>,\n",
       " <matplotlib.lines.Line2D at 0x1682c596860>,\n",
       " <matplotlib.lines.Line2D at 0x1682c5969b0>,\n",
       " <matplotlib.lines.Line2D at 0x1682c596b00>,\n",
       " <matplotlib.lines.Line2D at 0x1682c596c50>,\n",
       " <matplotlib.lines.Line2D at 0x1682c596da0>,\n",
       " <matplotlib.lines.Line2D at 0x1682c596ef0>,\n",
       " <matplotlib.lines.Line2D at 0x1682c59c080>,\n",
       " <matplotlib.lines.Line2D at 0x1682c59c1d0>,\n",
       " <matplotlib.lines.Line2D at 0x1682c59c320>,\n",
       " <matplotlib.lines.Line2D at 0x1682c59c470>,\n",
       " <matplotlib.lines.Line2D at 0x1682c59c5c0>,\n",
       " <matplotlib.lines.Line2D at 0x1682c59c710>,\n",
       " <matplotlib.lines.Line2D at 0x1682c59c860>,\n",
       " <matplotlib.lines.Line2D at 0x1682c59c9b0>,\n",
       " <matplotlib.lines.Line2D at 0x1682c59cb00>,\n",
       " <matplotlib.lines.Line2D at 0x1682c59cc50>,\n",
       " <matplotlib.lines.Line2D at 0x1682c59cda0>,\n",
       " <matplotlib.lines.Line2D at 0x1682c59cef0>,\n",
       " <matplotlib.lines.Line2D at 0x1682c5a0080>,\n",
       " <matplotlib.lines.Line2D at 0x1682c5a01d0>,\n",
       " <matplotlib.lines.Line2D at 0x1682c5a0320>,\n",
       " <matplotlib.lines.Line2D at 0x1682c5a0470>,\n",
       " <matplotlib.lines.Line2D at 0x1682c5a05c0>,\n",
       " <matplotlib.lines.Line2D at 0x1682c5a0710>,\n",
       " <matplotlib.lines.Line2D at 0x1682c5a0860>,\n",
       " <matplotlib.lines.Line2D at 0x1682c5a09b0>,\n",
       " <matplotlib.lines.Line2D at 0x1682c5a0b00>,\n",
       " <matplotlib.lines.Line2D at 0x1682c5a0c50>,\n",
       " <matplotlib.lines.Line2D at 0x1682c5a0da0>,\n",
       " <matplotlib.lines.Line2D at 0x1682c5a0ef0>,\n",
       " <matplotlib.lines.Line2D at 0x1682c5a7080>,\n",
       " <matplotlib.lines.Line2D at 0x1682c5a71d0>,\n",
       " <matplotlib.lines.Line2D at 0x1682c5a7320>,\n",
       " <matplotlib.lines.Line2D at 0x1682c5a7470>,\n",
       " <matplotlib.lines.Line2D at 0x1682c5a75c0>,\n",
       " <matplotlib.lines.Line2D at 0x1682c5a7710>,\n",
       " <matplotlib.lines.Line2D at 0x1682c5a7860>,\n",
       " <matplotlib.lines.Line2D at 0x1682c5a79b0>,\n",
       " <matplotlib.lines.Line2D at 0x1682c5a7b00>,\n",
       " <matplotlib.lines.Line2D at 0x1682c5a7c50>,\n",
       " <matplotlib.lines.Line2D at 0x1682c5a7da0>,\n",
       " <matplotlib.lines.Line2D at 0x1682c5a7ef0>,\n",
       " <matplotlib.lines.Line2D at 0x1682c5ab080>,\n",
       " <matplotlib.lines.Line2D at 0x1682c5ab1d0>,\n",
       " <matplotlib.lines.Line2D at 0x1682c5ab320>,\n",
       " <matplotlib.lines.Line2D at 0x1682c5ab470>,\n",
       " <matplotlib.lines.Line2D at 0x1682c5ab5c0>,\n",
       " <matplotlib.lines.Line2D at 0x1682c5ab710>,\n",
       " <matplotlib.lines.Line2D at 0x1682c5ab860>,\n",
       " <matplotlib.lines.Line2D at 0x1682c5ab9b0>,\n",
       " <matplotlib.lines.Line2D at 0x1682c5abb00>,\n",
       " <matplotlib.lines.Line2D at 0x1682c5abc50>,\n",
       " <matplotlib.lines.Line2D at 0x1682c5abda0>,\n",
       " <matplotlib.lines.Line2D at 0x1682c5abef0>,\n",
       " <matplotlib.lines.Line2D at 0x1682c5b1080>,\n",
       " <matplotlib.lines.Line2D at 0x1682c5b11d0>,\n",
       " <matplotlib.lines.Line2D at 0x1682c5b1320>,\n",
       " <matplotlib.lines.Line2D at 0x1682c5b1470>,\n",
       " <matplotlib.lines.Line2D at 0x1682c5b15c0>,\n",
       " <matplotlib.lines.Line2D at 0x1682c5b1710>,\n",
       " <matplotlib.lines.Line2D at 0x1682c5b1860>,\n",
       " <matplotlib.lines.Line2D at 0x1682c5b19b0>,\n",
       " <matplotlib.lines.Line2D at 0x1682c5b1b00>,\n",
       " <matplotlib.lines.Line2D at 0x1682c5b1c50>,\n",
       " <matplotlib.lines.Line2D at 0x1682c5b1da0>,\n",
       " <matplotlib.lines.Line2D at 0x1682c5b1ef0>,\n",
       " <matplotlib.lines.Line2D at 0x1682c5b6080>,\n",
       " <matplotlib.lines.Line2D at 0x1682c5b61d0>,\n",
       " <matplotlib.lines.Line2D at 0x1682c5b6320>,\n",
       " <matplotlib.lines.Line2D at 0x1682c5b6470>,\n",
       " <matplotlib.lines.Line2D at 0x1682c5b65c0>,\n",
       " <matplotlib.lines.Line2D at 0x1682c5b6710>,\n",
       " <matplotlib.lines.Line2D at 0x1682c5b6860>,\n",
       " <matplotlib.lines.Line2D at 0x1682c5b69b0>,\n",
       " <matplotlib.lines.Line2D at 0x1682c5b6b00>,\n",
       " <matplotlib.lines.Line2D at 0x1682c5b6c50>,\n",
       " <matplotlib.lines.Line2D at 0x1682c5b6da0>,\n",
       " <matplotlib.lines.Line2D at 0x1682c5b6ef0>,\n",
       " <matplotlib.lines.Line2D at 0x1682c5bc080>,\n",
       " <matplotlib.lines.Line2D at 0x1682c5bc1d0>,\n",
       " <matplotlib.lines.Line2D at 0x1682c5bc320>,\n",
       " <matplotlib.lines.Line2D at 0x1682c5bc470>,\n",
       " <matplotlib.lines.Line2D at 0x1682c5bc5c0>,\n",
       " <matplotlib.lines.Line2D at 0x1682c5bc710>,\n",
       " <matplotlib.lines.Line2D at 0x1682c5bc860>,\n",
       " <matplotlib.lines.Line2D at 0x1682c5bc9b0>,\n",
       " <matplotlib.lines.Line2D at 0x1682c5bcb00>,\n",
       " <matplotlib.lines.Line2D at 0x1682c5bcc50>,\n",
       " <matplotlib.lines.Line2D at 0x1682c5bcda0>,\n",
       " <matplotlib.lines.Line2D at 0x1682c5bcef0>,\n",
       " <matplotlib.lines.Line2D at 0x1682c5c0080>,\n",
       " <matplotlib.lines.Line2D at 0x1682c5c01d0>,\n",
       " <matplotlib.lines.Line2D at 0x1682c5c0320>,\n",
       " <matplotlib.lines.Line2D at 0x1682c5c0470>,\n",
       " <matplotlib.lines.Line2D at 0x1682c5c05c0>,\n",
       " <matplotlib.lines.Line2D at 0x1682c5c0710>,\n",
       " <matplotlib.lines.Line2D at 0x1682c5c0860>,\n",
       " <matplotlib.lines.Line2D at 0x1682c5c09b0>,\n",
       " <matplotlib.lines.Line2D at 0x1682c5c0b00>,\n",
       " <matplotlib.lines.Line2D at 0x1682c5c0c50>,\n",
       " <matplotlib.lines.Line2D at 0x1682c5c0da0>,\n",
       " <matplotlib.lines.Line2D at 0x1682c5c0ef0>,\n",
       " <matplotlib.lines.Line2D at 0x1682c5c6080>,\n",
       " <matplotlib.lines.Line2D at 0x1682c5c61d0>,\n",
       " <matplotlib.lines.Line2D at 0x1682c5c6320>,\n",
       " <matplotlib.lines.Line2D at 0x1682c5c6470>,\n",
       " <matplotlib.lines.Line2D at 0x1682c5c65c0>,\n",
       " <matplotlib.lines.Line2D at 0x1682c5c6710>,\n",
       " <matplotlib.lines.Line2D at 0x1682c5c6860>,\n",
       " <matplotlib.lines.Line2D at 0x1682c5c69b0>,\n",
       " <matplotlib.lines.Line2D at 0x1682c5c6b00>,\n",
       " <matplotlib.lines.Line2D at 0x1682c5c6c50>,\n",
       " <matplotlib.lines.Line2D at 0x1682c5c6da0>,\n",
       " <matplotlib.lines.Line2D at 0x1682c5c6ef0>,\n",
       " <matplotlib.lines.Line2D at 0x1682c5cc080>,\n",
       " <matplotlib.lines.Line2D at 0x1682c5cc1d0>,\n",
       " <matplotlib.lines.Line2D at 0x1682c5cc320>,\n",
       " <matplotlib.lines.Line2D at 0x1682c5cc470>,\n",
       " <matplotlib.lines.Line2D at 0x1682c5cc5c0>,\n",
       " <matplotlib.lines.Line2D at 0x1682c5cc710>,\n",
       " <matplotlib.lines.Line2D at 0x1682c5cc860>,\n",
       " <matplotlib.lines.Line2D at 0x1682c5cc9b0>,\n",
       " <matplotlib.lines.Line2D at 0x1682c5ccb00>,\n",
       " <matplotlib.lines.Line2D at 0x1682c5ccc50>,\n",
       " <matplotlib.lines.Line2D at 0x1682c5ccda0>,\n",
       " <matplotlib.lines.Line2D at 0x1682c5ccef0>,\n",
       " <matplotlib.lines.Line2D at 0x1682c5d2080>,\n",
       " <matplotlib.lines.Line2D at 0x1682c5d21d0>,\n",
       " <matplotlib.lines.Line2D at 0x1682c5d2320>,\n",
       " <matplotlib.lines.Line2D at 0x1682c5d2470>,\n",
       " <matplotlib.lines.Line2D at 0x1682c5d25c0>,\n",
       " <matplotlib.lines.Line2D at 0x1682c5d2710>,\n",
       " <matplotlib.lines.Line2D at 0x1682c5d2860>,\n",
       " <matplotlib.lines.Line2D at 0x1682c5d29b0>,\n",
       " <matplotlib.lines.Line2D at 0x1682c5d2b00>,\n",
       " <matplotlib.lines.Line2D at 0x1682c5d2c50>,\n",
       " <matplotlib.lines.Line2D at 0x1682c5d2da0>,\n",
       " <matplotlib.lines.Line2D at 0x1682c5d2ef0>,\n",
       " <matplotlib.lines.Line2D at 0x1682c5d6080>,\n",
       " <matplotlib.lines.Line2D at 0x1682c5d61d0>,\n",
       " <matplotlib.lines.Line2D at 0x1682c5d6320>,\n",
       " <matplotlib.lines.Line2D at 0x1682c5d6470>,\n",
       " <matplotlib.lines.Line2D at 0x1682c5d65c0>,\n",
       " <matplotlib.lines.Line2D at 0x1682c5d6710>,\n",
       " <matplotlib.lines.Line2D at 0x1682c5d6860>,\n",
       " <matplotlib.lines.Line2D at 0x1682c5d69b0>,\n",
       " <matplotlib.lines.Line2D at 0x1682c5d6b00>,\n",
       " <matplotlib.lines.Line2D at 0x1682c5d6c50>,\n",
       " <matplotlib.lines.Line2D at 0x1682c5d6da0>,\n",
       " <matplotlib.lines.Line2D at 0x1682c5d6ef0>,\n",
       " <matplotlib.lines.Line2D at 0x1682c5dc080>,\n",
       " <matplotlib.lines.Line2D at 0x1682c5dc1d0>,\n",
       " <matplotlib.lines.Line2D at 0x1682c5dc320>,\n",
       " <matplotlib.lines.Line2D at 0x1682c5dc470>,\n",
       " <matplotlib.lines.Line2D at 0x1682c5dc5c0>,\n",
       " <matplotlib.lines.Line2D at 0x1682c5dc710>,\n",
       " <matplotlib.lines.Line2D at 0x1682c5dc860>,\n",
       " <matplotlib.lines.Line2D at 0x1682c5dc9b0>,\n",
       " <matplotlib.lines.Line2D at 0x1682c5dcb00>,\n",
       " <matplotlib.lines.Line2D at 0x1682c5dcc50>,\n",
       " <matplotlib.lines.Line2D at 0x1682c5dcda0>,\n",
       " <matplotlib.lines.Line2D at 0x1682c5dcef0>,\n",
       " <matplotlib.lines.Line2D at 0x1682c5e1080>,\n",
       " <matplotlib.lines.Line2D at 0x1682c5e11d0>,\n",
       " <matplotlib.lines.Line2D at 0x1682c5e1320>,\n",
       " <matplotlib.lines.Line2D at 0x1682c5e1470>,\n",
       " <matplotlib.lines.Line2D at 0x1682c5e15c0>,\n",
       " <matplotlib.lines.Line2D at 0x1682c5e1710>,\n",
       " <matplotlib.lines.Line2D at 0x1682c5e1860>,\n",
       " <matplotlib.lines.Line2D at 0x1682c5e19b0>,\n",
       " <matplotlib.lines.Line2D at 0x1682c5e1b00>,\n",
       " <matplotlib.lines.Line2D at 0x1682c5e1c50>,\n",
       " <matplotlib.lines.Line2D at 0x1682c5e1da0>,\n",
       " <matplotlib.lines.Line2D at 0x1682c5e1ef0>,\n",
       " <matplotlib.lines.Line2D at 0x1682c5e7080>,\n",
       " <matplotlib.lines.Line2D at 0x1682c5e71d0>,\n",
       " <matplotlib.lines.Line2D at 0x1682c5e7320>,\n",
       " <matplotlib.lines.Line2D at 0x1682c5e7470>,\n",
       " <matplotlib.lines.Line2D at 0x1682c5e75c0>,\n",
       " <matplotlib.lines.Line2D at 0x1682c5e7710>,\n",
       " <matplotlib.lines.Line2D at 0x1682c5e7860>,\n",
       " <matplotlib.lines.Line2D at 0x1682c5e79b0>,\n",
       " <matplotlib.lines.Line2D at 0x1682c5e7b00>,\n",
       " <matplotlib.lines.Line2D at 0x1682c5e7c50>,\n",
       " <matplotlib.lines.Line2D at 0x1682c5e7da0>,\n",
       " <matplotlib.lines.Line2D at 0x1682c5e7ef0>,\n",
       " <matplotlib.lines.Line2D at 0x1682c5ea080>,\n",
       " <matplotlib.lines.Line2D at 0x1682c5ea1d0>,\n",
       " <matplotlib.lines.Line2D at 0x1682c5ea320>,\n",
       " <matplotlib.lines.Line2D at 0x1682c5ea470>,\n",
       " <matplotlib.lines.Line2D at 0x1682c5ea5c0>,\n",
       " <matplotlib.lines.Line2D at 0x1682c5ea710>,\n",
       " <matplotlib.lines.Line2D at 0x1682c5ea860>,\n",
       " <matplotlib.lines.Line2D at 0x1682c5ea9b0>,\n",
       " <matplotlib.lines.Line2D at 0x1682c5eab00>,\n",
       " <matplotlib.lines.Line2D at 0x1682c5eac50>,\n",
       " <matplotlib.lines.Line2D at 0x1682c5eada0>,\n",
       " <matplotlib.lines.Line2D at 0x1682c5eaef0>,\n",
       " <matplotlib.lines.Line2D at 0x1682c5f1080>,\n",
       " <matplotlib.lines.Line2D at 0x1682c5f11d0>,\n",
       " <matplotlib.lines.Line2D at 0x1682c5f1320>,\n",
       " <matplotlib.lines.Line2D at 0x1682c5f1470>,\n",
       " <matplotlib.lines.Line2D at 0x1682c5f15c0>,\n",
       " <matplotlib.lines.Line2D at 0x1682c5f1710>,\n",
       " <matplotlib.lines.Line2D at 0x1682c5f1860>,\n",
       " <matplotlib.lines.Line2D at 0x1682c5f19b0>,\n",
       " <matplotlib.lines.Line2D at 0x1682c5f1b00>,\n",
       " <matplotlib.lines.Line2D at 0x1682c5f1c50>,\n",
       " <matplotlib.lines.Line2D at 0x1682c5f1da0>,\n",
       " <matplotlib.lines.Line2D at 0x1682c5f1ef0>,\n",
       " <matplotlib.lines.Line2D at 0x1682c5f7080>,\n",
       " <matplotlib.lines.Line2D at 0x1682c5f71d0>,\n",
       " <matplotlib.lines.Line2D at 0x1682c5f7320>,\n",
       " <matplotlib.lines.Line2D at 0x1682c5f7470>,\n",
       " <matplotlib.lines.Line2D at 0x1682c5f75c0>,\n",
       " <matplotlib.lines.Line2D at 0x1682c5f7710>]"
      ]
     },
     "execution_count": 13,
     "metadata": {},
     "output_type": "execute_result"
    },
    {
     "data": {
      "image/png": "[encoded data removed]",
      "text/plain": [
       "<matplotlib.figure.Figure at 0x1682c4b3630>"
      ]
     },
     "metadata": {},
     "output_type": "display_data"
    }
   ],
   "source": [
    "plt.plot(xu,yu,'.')"
   ]
  },
  {
   "cell_type": "code",
   "execution_count": 27,
   "metadata": {},
   "outputs": [
    {
     "data": {
      "text/plain": [
       "<matplotlib.image.AxesImage at 0x1682a453710>"
      ]
     },
     "execution_count": 27,
     "metadata": {},
     "output_type": "execute_result"
    },
    {
     "data": {
      "image/png": "[encoded data removed]",
      "text/plain": [
       "<matplotlib.figure.Figure at 0x1682a32c5f8>"
      ]
     },
     "metadata": {},
     "output_type": "display_data"
    }
   ],
   "source": [
    "plt.plot(figsize=(2,8))\n",
    "\n",
    "plt.imshow(np.flipud(zi))"
   ]
  },
  {
   "cell_type": "code",
   "execution_count": null,
   "metadata": {},
   "outputs": [],
   "source": []
  }
 ],
 "metadata": {
  "kernelspec": {
   "display_name": "Python 3",
   "language": "python",
   "name": "python3"
  },
  "language_info": {
   "codemirror_mode": {
    "name": "ipython",
    "version": 3
   },
   "file_extension": ".py",
   "mimetype": "text/x-python",
   "name": "python",
   "nbconvert_exporter": "python",
   "pygments_lexer": "ipython3",
   "version": "3.6.3"
  }
 },
 "nbformat": 4,
 "nbformat_minor": 2
}
