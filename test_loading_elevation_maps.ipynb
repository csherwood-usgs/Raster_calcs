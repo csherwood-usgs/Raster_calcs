{
 "cells": [
  {
   "cell_type": "markdown",
   "metadata": {},
   "source": [
    "# Test loading elevation maps\n",
    "\n",
    "Goal is to capture all of the data in the maps, with NaNs when missing, and have a grid rotated alongshore to facilitate erosion calcs.\n",
    "\n",
    "TODO:\n",
    "* Make a rotated grid big enough to accomodate all of the maps. What resolution?\n",
    "* Assign UTM values to for rotated grid.\n",
    "* Load each map, [smooth?], and interpolate onto rotated grid.\n",
    "* Stack all maps. Work in rotated grid coordintes.\n",
    "* Save\n",
    "    "
   ]
  },
  {
   "cell_type": "code",
   "execution_count": 3,
   "metadata": {},
   "outputs": [],
   "source": [
    "import json\n",
    "import fiona\n",
    "import numpy as np\n",
    "import pandas as pd\n",
    "from IPython.display import display, HTML\n",
    "import rasterio # rasterio and OGR don't mix...see rasterio docs\n",
    "from rasterio import Affine\n",
    "import matplotlib.pyplot as plt\n",
    "import xarray as xr\n",
    "%matplotlib inline"
   ]
  },
  {
   "cell_type": "code",
   "execution_count": 4,
   "metadata": {},
   "outputs": [],
   "source": [
    "# top left corner of big region of interest (UTM Zone 19N meters)\n",
    "e0 = 376200.; n0 = 4625500.\n"
   ]
  },
  {
   "cell_type": "code",
   "execution_count": 6,
   "metadata": {},
   "outputs": [],
   "source": [
    "fdir = \"F:/2017_Karen_Sandwich_maps\"\n",
    "#fdir = \"C:/crs/proj/2017_Karen_Sandwich_maps\"\n",
    "\n",
    "fnames = (\\\n",
    "\"2016-01-22_SandwichTNB_PT_DEM_10cm_trimmed.tif\",\\\n",
    "\"2016-01-25_SandwichTNB_DEM_10cm_trimmed.tif\",\\\n",
    "\"2016-02-11_SandwichTNB_DEM_10cm_trimmed.tif\",\\\n",
    "\"2016-03-30_SandwichTNB_AS_DEM_10cm_trimmed.tif\",\\\n",
    "\"2016-09-21_SandwichTNB_DEM_10cm_trimmed.tif\",\\\n",
    "\"2017-01-09_SandwichTNB_DEM_10cm_trimmed.tif\",\\\n",
    "\"2017-01-25_SandwichTNB_DEM_10cm_trimmed.tif\",\\\n",
    "\"2017-02-14_SandwichTNB_DEM_10cm_trimmed.tif\",\\\n",
    "\"2017-03-16_SandwichTNB_DEM_10cm_trimmed.tif\",\\\n",
    "\"2017-04-28_SandwichTNB_DEM_10cm_trimmed.tif\",\\\n",
    "\"2017-05-04_SandwichTNB_DEM_10cm_trimmed.tif\",\\\n",
    "\"2017-09-18_SandwichTNB_DEM_10cm_trimmed.tif\",\\\n",
    "#\"2018-01-03_SandwichTNB_DEM_10cm_trimmed.tif\",\\ # needs to be padded...not very good control\n",
    "\"2018-01-10_SandwichTNB_DEM_10cm_trimmed.tif\",\\\n",
    "\"DEM_10cm_selfcal_lokicampos_mid_denseNAD83UTM19.tif\")\n",
    "\n",
    "dslist =[]\n",
    "# just read on for now\n",
    "fn = fdir+\"/2016-01-22_SandwichTNB_PT_DEM_10cm_trimmed.tif\"\n",
    "ds = xr.open_rasterio(fn)\n",
    "#     ds = ds.sel(x=slice(e0,e1), y=slice(n0,n1))\n",
    "#     if len(dslist) == 0:\n",
    "#         xc = ds['x']-ds['x'].values.min()\n",
    "#         yc = ds['y']-ds['y'].values.min()\n",
    "#     ds['x'] = xc\n",
    "#     ds['y'] = yc\n",
    "#     dslist.append(ds)"
   ]
  },
  {
   "cell_type": "code",
   "execution_count": 7,
   "metadata": {},
   "outputs": [
    {
     "name": "stdout",
     "output_type": "stream",
     "text": [
      "Frozen(OrderedDict([('band', 1), ('y', 10226), ('x', 11987)]))\n",
      "('band', 'y', 'x')\n",
      "band: Int64Index([1], dtype='int64', name='band')\n",
      "y: Float64Index([ 4625440.784410301,    4625440.6844103, 4625440.5844103005,\n",
      "                  4625440.484410301,    4625440.3844103,  4625440.284410301,\n",
      "                    4625440.1844103, 4625440.0844103005,  4625439.984410301,\n",
      "                    4625439.8844103,\n",
      "                 ...\n",
      "                    4624419.1844103, 4624419.0844103005,  4624418.984410301,\n",
      "                    4624418.8844103,  4624418.784410301,    4624418.6844103,\n",
      "                 4624418.5844103005,  4624418.484410301,    4624418.3844103,\n",
      "                  4624418.284410301],\n",
      "                dtype='float64', name='y', length=10226)\n",
      "x: Float64Index([376286.69299908396,   376286.792999084, 376286.89299908397,\n",
      "                 376286.99299908394,   376287.092999084, 376287.19299908396,\n",
      "                   376287.292999084, 376287.39299908397, 376287.49299908394,\n",
      "                   376287.592999084,\n",
      "                 ...\n",
      "                 377484.39299908397, 377484.49299908394,  377484.5929990839,\n",
      "                 377484.69299908396, 377484.79299908393, 377484.89299908397,\n",
      "                 377484.99299908394,  377485.0929990839, 377485.19299908396,\n",
      "                 377485.29299908393],\n",
      "                dtype='float64', name='x', length=11987)\n"
     ]
    }
   ],
   "source": [
    "# look to see what got loaded\n",
    "ds['x'].values.min()\n",
    "ds['y'].values.min()\n",
    "print(ds.sizes)\n",
    "print(ds.dims)\n",
    "print(ds.indexes)"
   ]
  },
  {
   "cell_type": "code",
   "execution_count": 58,
   "metadata": {},
   "outputs": [
    {
     "name": "stdout",
     "output_type": "stream",
     "text": [
      "(1201, 401)\n",
      "(1201, 401)\n"
     ]
    },
    {
     "data": {
      "text/plain": [
       "array([[  1.20000000e+03,   1.20000000e+03,   1.20000000e+03, ...,\n",
       "          1.20000000e+03,   1.20000000e+03,   1.20000000e+03],\n",
       "       [  1.19900000e+03,   1.19900000e+03,   1.19900000e+03, ...,\n",
       "          1.19900000e+03,   1.19900000e+03,   1.19900000e+03],\n",
       "       [  1.19800000e+03,   1.19800000e+03,   1.19800000e+03, ...,\n",
       "          1.19800000e+03,   1.19800000e+03,   1.19800000e+03],\n",
       "       ..., \n",
       "       [  2.00000000e+00,   2.00000000e+00,   2.00000000e+00, ...,\n",
       "          2.00000000e+00,   2.00000000e+00,   2.00000000e+00],\n",
       "       [  1.00000000e+00,   1.00000000e+00,   1.00000000e+00, ...,\n",
       "          1.00000000e+00,   1.00000000e+00,   1.00000000e+00],\n",
       "       [  0.00000000e+00,   0.00000000e+00,   0.00000000e+00, ...,\n",
       "          0.00000000e+00,   0.00000000e+00,   0.00000000e+00]])"
      ]
     },
     "execution_count": 58,
     "metadata": {},
     "output_type": "execute_result"
    }
   ],
   "source": [
    "# make a big box w/ 1-m grid (go to 0.5 m later?)\n",
    "nx = 401\n",
    "ny = 1201\n",
    "xrot, yrot=np.meshgrid(np.linspace(0.,400.,nx),np.flip(np.linspace(0.,1200.,1201),0),sparse=False, indexing='xy')\n",
    "print(xrot.shape)\n",
    "xrot\n",
    "print(yrot.shape)\n",
    "yrot"
   ]
  },
  {
   "cell_type": "code",
   "execution_count": 9,
   "metadata": {},
   "outputs": [],
   "source": [
    "# calculate UTM coordinates for the box, which depend on upper left hand corner and rotation\n",
    "def box2UTM(x, y, e0, n0, rot):\n",
    "    r = np.pi*(rot-90.)/180.\n",
    "    xnew = x*np.cos(r)   + y*np.sin(r) + e0\n",
    "    ynew = -y*np.sin(r)  + x*np.cos(r) + n0\n",
    "    return xnew, ynew\n",
    "\n",
    "xu, yu = box2UTM(xrot, yrot, e0, n0, 120.)"
   ]
  },
  {
   "cell_type": "code",
   "execution_count": 7,
   "metadata": {},
   "outputs": [
    {
     "data": {
      "text/plain": [
       "<matplotlib.collections.PathCollection at 0xa98b518>"
      ]
     },
     "execution_count": 7,
     "metadata": {},
     "output_type": "execute_result"
    },
    {
     "data": {
      "image/png": "[encoded data removed]",
      "text/plain": [
       "<matplotlib.figure.Figure at 0x9741080>"
      ]
     },
     "metadata": {},
     "output_type": "display_data"
    }
   ],
   "source": [
    "plt.scatter(xu, yu, marker='.')"
   ]
  },
  {
   "cell_type": "code",
   "execution_count": 8,
   "metadata": {
    "collapsed": true
   },
   "outputs": [],
   "source": [
    "# originally, I thought I'd make the rotated box in xarray, and somehow interpolate, but this is a dead end.\n",
    "dsbox = xr.DataArray(np.NaN*np.ones_like(xu))#, coords=[('northing', yu),('easting', xu)])\n",
    "#dsr = ds.interp(,method='linear')"
   ]
  },
  {
   "cell_type": "code",
   "execution_count": 9,
   "metadata": {},
   "outputs": [
    {
     "data": {
      "text/plain": [
       "<xarray.DataArray (dim_0: 1201, dim_1: 401)>\n",
       "array([[ nan,  nan,  nan, ...,  nan,  nan,  nan],\n",
       "       [ nan,  nan,  nan, ...,  nan,  nan,  nan],\n",
       "       [ nan,  nan,  nan, ...,  nan,  nan,  nan],\n",
       "       ..., \n",
       "       [ nan,  nan,  nan, ...,  nan,  nan,  nan],\n",
       "       [ nan,  nan,  nan, ...,  nan,  nan,  nan],\n",
       "       [ nan,  nan,  nan, ...,  nan,  nan,  nan]])\n",
       "Dimensions without coordinates: dim_0, dim_1"
      ]
     },
     "execution_count": 9,
     "metadata": {},
     "output_type": "execute_result"
    }
   ],
   "source": [
    "dsbox"
   ]
  },
  {
   "cell_type": "code",
   "execution_count": 10,
   "metadata": {},
   "outputs": [
    {
     "name": "stdout",
     "output_type": "stream",
     "text": [
      "(10226, 11987) (10226, 11987) ()\n"
     ]
    },
    {
     "ename": "ValueError",
     "evalue": "Invalid length for input z for non rectangular grid",
     "output_type": "error",
     "traceback": [
      "\u001b[1;31m---------------------------------------------------------------------------\u001b[0m",
      "\u001b[1;31mValueError\u001b[0m                                Traceback (most recent call last)",
      "\u001b[1;32m<ipython-input-10-2c8ece03623e>\u001b[0m in \u001b[0;36m<module>\u001b[1;34m()\u001b[0m\n\u001b[0;32m      4\u001b[0m \u001b[0mz\u001b[0m \u001b[1;33m=\u001b[0m \u001b[0mnp\u001b[0m\u001b[1;33m.\u001b[0m\u001b[0mdouble\u001b[0m\u001b[1;33m(\u001b[0m\u001b[0mds\u001b[0m\u001b[1;33m[\u001b[0m\u001b[1;34m'band'\u001b[0m\u001b[1;33m]\u001b[0m\u001b[1;33m.\u001b[0m\u001b[0mvalues\u001b[0m\u001b[1;33m)\u001b[0m\u001b[1;33m\u001b[0m\u001b[0m\n\u001b[0;32m      5\u001b[0m \u001b[0mprint\u001b[0m\u001b[1;33m(\u001b[0m\u001b[0mnp\u001b[0m\u001b[1;33m.\u001b[0m\u001b[0mshape\u001b[0m\u001b[1;33m(\u001b[0m\u001b[0mx\u001b[0m\u001b[1;33m)\u001b[0m\u001b[1;33m,\u001b[0m\u001b[0mnp\u001b[0m\u001b[1;33m.\u001b[0m\u001b[0mshape\u001b[0m\u001b[1;33m(\u001b[0m\u001b[0my\u001b[0m\u001b[1;33m)\u001b[0m\u001b[1;33m,\u001b[0m\u001b[0mnp\u001b[0m\u001b[1;33m.\u001b[0m\u001b[0mshape\u001b[0m\u001b[1;33m(\u001b[0m\u001b[0mz\u001b[0m\u001b[1;33m)\u001b[0m\u001b[1;33m)\u001b[0m\u001b[1;33m\u001b[0m\u001b[0m\n\u001b[1;32m----> 6\u001b[1;33m \u001b[0mf\u001b[0m \u001b[1;33m=\u001b[0m \u001b[0minterpolate\u001b[0m\u001b[1;33m.\u001b[0m\u001b[0minterp2d\u001b[0m\u001b[1;33m(\u001b[0m\u001b[0mx\u001b[0m\u001b[1;33m,\u001b[0m \u001b[0my\u001b[0m\u001b[1;33m,\u001b[0m \u001b[0mz\u001b[0m\u001b[1;33m,\u001b[0m \u001b[0mkind\u001b[0m\u001b[1;33m=\u001b[0m\u001b[1;34m'linear'\u001b[0m\u001b[1;33m)\u001b[0m\u001b[1;33m\u001b[0m\u001b[0m\n\u001b[0m",
      "\u001b[1;32mC:\\Users\\csherwood\\AppData\\Local\\Continuum\\Anaconda\\envs\\IOOS3\\lib\\site-packages\\scipy\\interpolate\\interpolate.py\u001b[0m in \u001b[0;36m__init__\u001b[1;34m(self, x, y, z, kind, copy, bounds_error, fill_value)\u001b[0m\n\u001b[0;32m    208\u001b[0m             \u001b[1;32mif\u001b[0m \u001b[0mlen\u001b[0m\u001b[1;33m(\u001b[0m\u001b[0mz\u001b[0m\u001b[1;33m)\u001b[0m \u001b[1;33m!=\u001b[0m \u001b[0mlen\u001b[0m\u001b[1;33m(\u001b[0m\u001b[0mx\u001b[0m\u001b[1;33m)\u001b[0m\u001b[1;33m:\u001b[0m\u001b[1;33m\u001b[0m\u001b[0m\n\u001b[0;32m    209\u001b[0m                 raise ValueError(\n\u001b[1;32m--> 210\u001b[1;33m                     \"Invalid length for input z for non rectangular grid\")\n\u001b[0m\u001b[0;32m    211\u001b[0m \u001b[1;33m\u001b[0m\u001b[0m\n\u001b[0;32m    212\u001b[0m         \u001b[1;32mtry\u001b[0m\u001b[1;33m:\u001b[0m\u001b[1;33m\u001b[0m\u001b[0m\n",
      "\u001b[1;31mValueError\u001b[0m: Invalid length for input z for non rectangular grid"
     ]
    }
   ],
   "source": [
    "# This is promising, but doesn't work because I don't know how to get the array of values using xarray:\n",
    "from scipy import interpolate\n",
    "x, y = np.meshgrid(ds['x'].values, ds['y'].values,sparse=False, indexing='xy')\n",
    "z = np.double(ds['band'].values)\n",
    "print(np.shape(x),np.shape(y),np.shape(z))\n",
    "f = interpolate.interp2d(x, y, z, kind='linear')"
   ]
  },
  {
   "cell_type": "code",
   "execution_count": 11,
   "metadata": {},
   "outputs": [
    {
     "data": {
      "text/plain": [
       "array([1])"
      ]
     },
     "execution_count": 11,
     "metadata": {},
     "output_type": "execute_result"
    }
   ],
   "source": [
    "ds['band'].values"
   ]
  },
  {
   "cell_type": "code",
   "execution_count": 10,
   "metadata": {},
   "outputs": [
    {
     "name": "stdout",
     "output_type": "stream",
     "text": [
      "xo,yo:  376286.64299908397 4625440.8344103005\n",
      "xoff, yoff:  -866 -591\n",
      "BoundingBox(left=376286.64299908397, bottom=4624418.234410301, right=377485.3429990839, top=4625440.8344103005)\n",
      "width and height:  11987 10226\n"
     ]
    }
   ],
   "source": [
    "# Plan B: Use rasterio but not xarray\n",
    "with rasterio.open(fn) as src:\n",
    "        # location of origin (upper left) from transform\n",
    "        xo,yo = src.transform*(0,0)\n",
    "        print('xo,yo: ',xo,yo)\n",
    "        # index of first col, row in window from inverse transform\n",
    "        xy = ~src.transform*(e0, n0)\n",
    "        xoff, yoff = int(xy[0]), int(xy[1])\n",
    "        print(\"xoff, yoff: \",xoff, yoff)\n",
    "        print(src.bounds)\n",
    "        print(\"width and height: \",src.width, src.height)\n",
    "        zt = src.read(1)\n",
    "        src.close()"
   ]
  },
  {
   "cell_type": "code",
   "execution_count": 11,
   "metadata": {},
   "outputs": [
    {
     "name": "stdout",
     "output_type": "stream",
     "text": [
      "[[ 376286.64299908  376286.74300743  376286.84301577 ...,  377485.1429824\n",
      "   377485.24299074  377485.34299908]\n",
      " [ 376286.64299908  376286.74300743  376286.84301577 ...,  377485.1429824\n",
      "   377485.24299074  377485.34299908]\n",
      " [ 376286.64299908  376286.74300743  376286.84301577 ...,  377485.1429824\n",
      "   377485.24299074  377485.34299908]\n",
      " ..., \n",
      " [ 376286.64299908  376286.74300743  376286.84301577 ...,  377485.1429824\n",
      "   377485.24299074  377485.34299908]\n",
      " [ 376286.64299908  376286.74300743  376286.84301577 ...,  377485.1429824\n",
      "   377485.24299074  377485.34299908]\n",
      " [ 376286.64299908  376286.74300743  376286.84301577 ...,  377485.1429824\n",
      "   377485.24299074  377485.34299908]]\n",
      "[[ 4625440.8344103   4625440.8344103   4625440.8344103  ...,\n",
      "   4625440.8344103   4625440.8344103   4625440.8344103 ]\n",
      " [ 4625440.73440052  4625440.73440052  4625440.73440052 ...,\n",
      "   4625440.73440052  4625440.73440052  4625440.73440052]\n",
      " [ 4625440.63439074  4625440.63439074  4625440.63439074 ...,\n",
      "   4625440.63439074  4625440.63439074  4625440.63439074]\n",
      " ..., \n",
      " [ 4624418.43442986  4624418.43442986  4624418.43442986 ...,\n",
      "   4624418.43442986  4624418.43442986  4624418.43442986]\n",
      " [ 4624418.33442008  4624418.33442008  4624418.33442008 ...,\n",
      "   4624418.33442008  4624418.33442008  4624418.33442008]\n",
      " [ 4624418.2344103   4624418.2344103   4624418.2344103  ...,\n",
      "   4624418.2344103   4624418.2344103   4624418.2344103 ]]\n"
     ]
    }
   ],
   "source": [
    "# Coordinates of the tiff file\n",
    "x, y = np.meshgrid( np.linspace(src.bounds.left, src.bounds.right, src.width), \\\n",
    "                   np.linspace(src.bounds.top, src.bounds.bottom, src.height) )\n",
    "print(x)\n",
    "print(y)"
   ]
  },
  {
   "cell_type": "code",
   "execution_count": null,
   "metadata": {},
   "outputs": [],
   "source": [
    "# plt.pcolor(x,y,zt)"
   ]
  },
  {
   "cell_type": "code",
   "execution_count": 14,
   "metadata": {},
   "outputs": [
    {
     "name": "stdout",
     "output_type": "stream",
     "text": [
      "(10226, 11987) (10226, 11987) (10226, 11987)\n"
     ]
    },
    {
     "ename": "OverflowError",
     "evalue": "Too many data points to interpolate",
     "output_type": "error",
     "traceback": [
      "\u001b[1;31m---------------------------------------------------------------------------\u001b[0m",
      "\u001b[1;31mOverflowError\u001b[0m                             Traceback (most recent call last)",
      "\u001b[1;32m<ipython-input-14-049d998b1ebc>\u001b[0m in \u001b[0;36m<module>\u001b[1;34m()\u001b[0m\n\u001b[0;32m      1\u001b[0m \u001b[1;32mfrom\u001b[0m \u001b[0mscipy\u001b[0m \u001b[1;32mimport\u001b[0m \u001b[0minterpolate\u001b[0m\u001b[1;33m\u001b[0m\u001b[0m\n\u001b[0;32m      2\u001b[0m \u001b[0mprint\u001b[0m\u001b[1;33m(\u001b[0m\u001b[0mnp\u001b[0m\u001b[1;33m.\u001b[0m\u001b[0mshape\u001b[0m\u001b[1;33m(\u001b[0m\u001b[0mx\u001b[0m\u001b[1;33m)\u001b[0m\u001b[1;33m,\u001b[0m\u001b[0mnp\u001b[0m\u001b[1;33m.\u001b[0m\u001b[0mshape\u001b[0m\u001b[1;33m(\u001b[0m\u001b[0my\u001b[0m\u001b[1;33m)\u001b[0m\u001b[1;33m,\u001b[0m\u001b[0mnp\u001b[0m\u001b[1;33m.\u001b[0m\u001b[0mshape\u001b[0m\u001b[1;33m(\u001b[0m\u001b[0mzt\u001b[0m\u001b[1;33m)\u001b[0m\u001b[1;33m)\u001b[0m\u001b[1;33m\u001b[0m\u001b[0m\n\u001b[1;32m----> 3\u001b[1;33m \u001b[0mf\u001b[0m \u001b[1;33m=\u001b[0m \u001b[0minterpolate\u001b[0m\u001b[1;33m.\u001b[0m\u001b[0minterp2d\u001b[0m\u001b[1;33m(\u001b[0m\u001b[0mx\u001b[0m\u001b[1;33m,\u001b[0m \u001b[0my\u001b[0m\u001b[1;33m,\u001b[0m \u001b[0mzt\u001b[0m\u001b[1;33m,\u001b[0m \u001b[0mkind\u001b[0m\u001b[1;33m=\u001b[0m\u001b[1;34m'linear'\u001b[0m\u001b[1;33m)\u001b[0m\u001b[1;33m\u001b[0m\u001b[0m\n\u001b[0m",
      "\u001b[1;32mC:\\Users\\csherwood\\AppData\\Local\\Continuum\\Anaconda\\envs\\IOOS3\\lib\\site-packages\\scipy\\interpolate\\interpolate.py\u001b[0m in \u001b[0;36m__init__\u001b[1;34m(self, x, y, z, kind, copy, bounds_error, fill_value)\u001b[0m\n\u001b[0;32m    219\u001b[0m         \u001b[1;32mif\u001b[0m \u001b[1;32mnot\u001b[0m \u001b[0mrectangular_grid\u001b[0m\u001b[1;33m:\u001b[0m\u001b[1;33m\u001b[0m\u001b[0m\n\u001b[0;32m    220\u001b[0m             \u001b[1;31m# TODO: surfit is really not meant for interpolation!\u001b[0m\u001b[1;33m\u001b[0m\u001b[1;33m\u001b[0m\u001b[0m\n\u001b[1;32m--> 221\u001b[1;33m             \u001b[0mself\u001b[0m\u001b[1;33m.\u001b[0m\u001b[0mtck\u001b[0m \u001b[1;33m=\u001b[0m \u001b[0mfitpack\u001b[0m\u001b[1;33m.\u001b[0m\u001b[0mbisplrep\u001b[0m\u001b[1;33m(\u001b[0m\u001b[0mx\u001b[0m\u001b[1;33m,\u001b[0m \u001b[0my\u001b[0m\u001b[1;33m,\u001b[0m \u001b[0mz\u001b[0m\u001b[1;33m,\u001b[0m \u001b[0mkx\u001b[0m\u001b[1;33m=\u001b[0m\u001b[0mkx\u001b[0m\u001b[1;33m,\u001b[0m \u001b[0mky\u001b[0m\u001b[1;33m=\u001b[0m\u001b[0mky\u001b[0m\u001b[1;33m,\u001b[0m \u001b[0ms\u001b[0m\u001b[1;33m=\u001b[0m\u001b[1;36m0.0\u001b[0m\u001b[1;33m)\u001b[0m\u001b[1;33m\u001b[0m\u001b[0m\n\u001b[0m\u001b[0;32m    222\u001b[0m         \u001b[1;32melse\u001b[0m\u001b[1;33m:\u001b[0m\u001b[1;33m\u001b[0m\u001b[0m\n\u001b[0;32m    223\u001b[0m             nx, tx, ny, ty, c, fp, ier = dfitpack.regrid_smth(\n",
      "\u001b[1;32mC:\\Users\\csherwood\\AppData\\Local\\Continuum\\Anaconda\\envs\\IOOS3\\lib\\site-packages\\scipy\\interpolate\\_fitpack_impl.py\u001b[0m in \u001b[0;36mbisplrep\u001b[1;34m(x, y, z, w, xb, xe, yb, ye, kx, ky, task, s, eps, tx, ty, full_output, nxest, nyest, quiet)\u001b[0m\n\u001b[0;32m    952\u001b[0m     lwrk1 = _intc_overflow(u*v*(2 + b1 + b2) +\n\u001b[0;32m    953\u001b[0m                            \u001b[1;36m2\u001b[0m\u001b[1;33m*\u001b[0m\u001b[1;33m(\u001b[0m\u001b[0mu\u001b[0m \u001b[1;33m+\u001b[0m \u001b[0mv\u001b[0m \u001b[1;33m+\u001b[0m \u001b[0mkm\u001b[0m\u001b[1;33m*\u001b[0m\u001b[1;33m(\u001b[0m\u001b[0mm\u001b[0m \u001b[1;33m+\u001b[0m \u001b[0mne\u001b[0m\u001b[1;33m)\u001b[0m \u001b[1;33m+\u001b[0m \u001b[0mne\u001b[0m \u001b[1;33m-\u001b[0m \u001b[0mkx\u001b[0m \u001b[1;33m-\u001b[0m \u001b[0mky\u001b[0m\u001b[1;33m)\u001b[0m \u001b[1;33m+\u001b[0m \u001b[0mb2\u001b[0m \u001b[1;33m+\u001b[0m \u001b[1;36m1\u001b[0m\u001b[1;33m,\u001b[0m\u001b[1;33m\u001b[0m\u001b[0m\n\u001b[1;32m--> 954\u001b[1;33m                            msg=msg)\n\u001b[0m\u001b[0;32m    955\u001b[0m     \u001b[0mlwrk2\u001b[0m \u001b[1;33m=\u001b[0m \u001b[0m_intc_overflow\u001b[0m\u001b[1;33m(\u001b[0m\u001b[0mu\u001b[0m\u001b[1;33m*\u001b[0m\u001b[0mv\u001b[0m\u001b[1;33m*\u001b[0m\u001b[1;33m(\u001b[0m\u001b[0mb2\u001b[0m \u001b[1;33m+\u001b[0m \u001b[1;36m1\u001b[0m\u001b[1;33m)\u001b[0m \u001b[1;33m+\u001b[0m \u001b[0mb2\u001b[0m\u001b[1;33m,\u001b[0m \u001b[0mmsg\u001b[0m\u001b[1;33m=\u001b[0m\u001b[0mmsg\u001b[0m\u001b[1;33m)\u001b[0m\u001b[1;33m\u001b[0m\u001b[0m\n\u001b[0;32m    956\u001b[0m     tx, ty, c, o = _fitpack._surfit(x, y, z, w, xb, xe, yb, ye, kx, ky,\n",
      "\u001b[1;32mC:\\Users\\csherwood\\AppData\\Local\\Continuum\\Anaconda\\envs\\IOOS3\\lib\\site-packages\\scipy\\interpolate\\_fitpack_impl.py\u001b[0m in \u001b[0;36m_intc_overflow\u001b[1;34m(x, msg)\u001b[0m\n\u001b[0;32m     46\u001b[0m         \u001b[1;32mif\u001b[0m \u001b[0mmsg\u001b[0m \u001b[1;32mis\u001b[0m \u001b[1;32mNone\u001b[0m\u001b[1;33m:\u001b[0m\u001b[1;33m\u001b[0m\u001b[0m\n\u001b[0;32m     47\u001b[0m             \u001b[0mmsg\u001b[0m \u001b[1;33m=\u001b[0m \u001b[1;34m'%r cannot fit into an intc'\u001b[0m \u001b[1;33m%\u001b[0m \u001b[0mx\u001b[0m\u001b[1;33m\u001b[0m\u001b[0m\n\u001b[1;32m---> 48\u001b[1;33m         \u001b[1;32mraise\u001b[0m \u001b[0mOverflowError\u001b[0m\u001b[1;33m(\u001b[0m\u001b[0mmsg\u001b[0m\u001b[1;33m)\u001b[0m\u001b[1;33m\u001b[0m\u001b[0m\n\u001b[0m\u001b[0;32m     49\u001b[0m     \u001b[1;32mreturn\u001b[0m \u001b[0mintc\u001b[0m\u001b[1;33m(\u001b[0m\u001b[0mx\u001b[0m\u001b[1;33m)\u001b[0m\u001b[1;33m\u001b[0m\u001b[0m\n\u001b[0;32m     50\u001b[0m \u001b[1;33m\u001b[0m\u001b[0m\n",
      "\u001b[1;31mOverflowError\u001b[0m: Too many data points to interpolate"
     ]
    }
   ],
   "source": [
    "from scipy import interpolate\n",
    "print(np.shape(x),np.shape(y),np.shape(zt))\n",
    "f = interpolate.interp2d(x, y, zt, kind='linear')"
   ]
  },
  {
   "cell_type": "code",
   "execution_count": 50,
   "metadata": {},
   "outputs": [],
   "source": [
    "# from https://stackoverflow.com/questions/5328128/scipy-interpolation-of-large-matrix#5329386\n",
    "from scipy import interpolate\n",
    "\n",
    "def my_interp(X, Y, Z, x, y, spn=7):\n",
    "\n",
    "    # get the indices of the nearest x,y\n",
    "    xi = np.argmin(np.abs(X[0,:]-x))\n",
    "    yi = np.argmin(np.abs(Y[:,0]-y))\n",
    "    xlo = max(xi-spn, 0)\n",
    "    ylo = max(yi-spn, 0)\n",
    "    xhi = min(xi+spn, X[0,:].size)\n",
    "    yhi = min(yi+spn, Y[:,0].size)\n",
    "    # make slices of X,Y,Z that are only a few items wide\n",
    "    nX = X[xlo:xhi, ylo:yhi]\n",
    "    nY = Y[xlo:xhi, ylo:yhi]\n",
    "    nZ = Z[xlo:xhi, ylo:yhi]\n",
    "    intp = interpolate.interp2d(nX, nY, nZ, 'linear')\n",
    "    z = intp(x,y)\n",
    "    return z"
   ]
  },
  {
   "cell_type": "code",
   "execution_count": 53,
   "metadata": {},
   "outputs": [
    {
     "name": "stderr",
     "output_type": "stream",
     "text": [
      "C:\\Users\\csherwood\\AppData\\Local\\Continuum\\miniconda3\\envs\\IOOS3\\lib\\site-packages\\scipy\\interpolate\\_fitpack_impl.py:974: RuntimeWarning: No more knots can be added because the number of B-spline\n",
      "coefficients already exceeds the number of data points m.\n",
      "Probable causes: either s or m too small. (fp>s)\n",
      "\tkx,ky=1,1 nx,ny=16,17 m=196 fp=0.000000 s=0.000000\n",
      "  warnings.warn(RuntimeWarning(_iermess2[ierm][0] + _mess))\n",
      "C:\\Users\\csherwood\\AppData\\Local\\Continuum\\miniconda3\\envs\\IOOS3\\lib\\site-packages\\scipy\\interpolate\\_fitpack_impl.py:974: RuntimeWarning: No more knots can be added because the number of B-spline\n",
      "coefficients already exceeds the number of data points m.\n",
      "Probable causes: either s or m too small. (fp>s)\n",
      "\tkx,ky=1,1 nx,ny=18,15 m=196 fp=0.000074 s=0.000000\n",
      "  warnings.warn(RuntimeWarning(_iermess2[ierm][0] + _mess))\n",
      "C:\\Users\\csherwood\\AppData\\Local\\Continuum\\miniconda3\\envs\\IOOS3\\lib\\site-packages\\scipy\\interpolate\\_fitpack_impl.py:974: RuntimeWarning: No more knots can be added because the number of B-spline\n",
      "coefficients already exceeds the number of data points m.\n",
      "Probable causes: either s or m too small. (fp>s)\n",
      "\tkx,ky=1,1 nx,ny=15,18 m=196 fp=0.000001 s=0.000000\n",
      "  warnings.warn(RuntimeWarning(_iermess2[ierm][0] + _mess))\n",
      "C:\\Users\\csherwood\\AppData\\Local\\Continuum\\miniconda3\\envs\\IOOS3\\lib\\site-packages\\scipy\\interpolate\\_fitpack_impl.py:974: RuntimeWarning: No more knots can be added because the number of B-spline\n",
      "coefficients already exceeds the number of data points m.\n",
      "Probable causes: either s or m too small. (fp>s)\n",
      "\tkx,ky=1,1 nx,ny=15,18 m=196 fp=0.000003 s=0.000000\n",
      "  warnings.warn(RuntimeWarning(_iermess2[ierm][0] + _mess))\n",
      "C:\\Users\\csherwood\\AppData\\Local\\Continuum\\miniconda3\\envs\\IOOS3\\lib\\site-packages\\scipy\\interpolate\\_fitpack_impl.py:974: RuntimeWarning: No more knots can be added because the number of B-spline\n",
      "coefficients already exceeds the number of data points m.\n",
      "Probable causes: either s or m too small. (fp>s)\n",
      "\tkx,ky=1,1 nx,ny=17,16 m=196 fp=0.000000 s=0.000000\n",
      "  warnings.warn(RuntimeWarning(_iermess2[ierm][0] + _mess))\n",
      "C:\\Users\\csherwood\\AppData\\Local\\Continuum\\miniconda3\\envs\\IOOS3\\lib\\site-packages\\scipy\\interpolate\\_fitpack_impl.py:974: RuntimeWarning: No more knots can be added because the number of B-spline\n",
      "coefficients already exceeds the number of data points m.\n",
      "Probable causes: either s or m too small. (fp>s)\n",
      "\tkx,ky=1,1 nx,ny=18,15 m=196 fp=0.000008 s=0.000000\n",
      "  warnings.warn(RuntimeWarning(_iermess2[ierm][0] + _mess))\n",
      "C:\\Users\\csherwood\\AppData\\Local\\Continuum\\miniconda3\\envs\\IOOS3\\lib\\site-packages\\scipy\\interpolate\\_fitpack_impl.py:974: RuntimeWarning: No more knots can be added because the number of B-spline\n",
      "coefficients already exceeds the number of data points m.\n",
      "Probable causes: either s or m too small. (fp>s)\n",
      "\tkx,ky=1,1 nx,ny=17,16 m=196 fp=5639154.051336 s=0.000000\n",
      "  warnings.warn(RuntimeWarning(_iermess2[ierm][0] + _mess))\n",
      "C:\\Users\\csherwood\\AppData\\Local\\Continuum\\miniconda3\\envs\\IOOS3\\lib\\site-packages\\scipy\\interpolate\\_fitpack_impl.py:974: RuntimeWarning: No more knots can be added because the number of B-spline\n",
      "coefficients already exceeds the number of data points m.\n",
      "Probable causes: either s or m too small. (fp>s)\n",
      "\tkx,ky=1,1 nx,ny=14,19 m=196 fp=0.000000 s=0.000000\n",
      "  warnings.warn(RuntimeWarning(_iermess2[ierm][0] + _mess))\n",
      "C:\\Users\\csherwood\\AppData\\Local\\Continuum\\miniconda3\\envs\\IOOS3\\lib\\site-packages\\scipy\\interpolate\\_fitpack_impl.py:974: RuntimeWarning: No more knots can be added because the number of B-spline\n",
      "coefficients already exceeds the number of data points m.\n",
      "Probable causes: either s or m too small. (fp>s)\n",
      "\tkx,ky=1,1 nx,ny=15,18 m=196 fp=0.000000 s=0.000000\n",
      "  warnings.warn(RuntimeWarning(_iermess2[ierm][0] + _mess))\n",
      "C:\\Users\\csherwood\\AppData\\Local\\Continuum\\miniconda3\\envs\\IOOS3\\lib\\site-packages\\scipy\\interpolate\\_fitpack_impl.py:974: RuntimeWarning: No more knots can be added because the number of B-spline\n",
      "coefficients already exceeds the number of data points m.\n",
      "Probable causes: either s or m too small. (fp>s)\n",
      "\tkx,ky=1,1 nx,ny=18,15 m=196 fp=0.000000 s=0.000000\n",
      "  warnings.warn(RuntimeWarning(_iermess2[ierm][0] + _mess))\n",
      "C:\\Users\\csherwood\\AppData\\Local\\Continuum\\miniconda3\\envs\\IOOS3\\lib\\site-packages\\scipy\\interpolate\\_fitpack_impl.py:974: RuntimeWarning: No more knots can be added because the number of B-spline\n",
      "coefficients already exceeds the number of data points m.\n",
      "Probable causes: either s or m too small. (fp>s)\n",
      "\tkx,ky=1,1 nx,ny=19,14 m=196 fp=0.000000 s=0.000000\n",
      "  warnings.warn(RuntimeWarning(_iermess2[ierm][0] + _mess))\n",
      "C:\\Users\\csherwood\\AppData\\Local\\Continuum\\miniconda3\\envs\\IOOS3\\lib\\site-packages\\scipy\\interpolate\\_fitpack_impl.py:974: RuntimeWarning: No more knots can be added because the number of B-spline\n",
      "coefficients already exceeds the number of data points m.\n",
      "Probable causes: either s or m too small. (fp>s)\n",
      "\tkx,ky=1,1 nx,ny=13,20 m=196 fp=0.000000 s=0.000000\n",
      "  warnings.warn(RuntimeWarning(_iermess2[ierm][0] + _mess))\n",
      "C:\\Users\\csherwood\\AppData\\Local\\Continuum\\miniconda3\\envs\\IOOS3\\lib\\site-packages\\scipy\\interpolate\\_fitpack_impl.py:974: RuntimeWarning: No more knots can be added because the number of B-spline\n",
      "coefficients already exceeds the number of data points m.\n",
      "Probable causes: either s or m too small. (fp>s)\n",
      "\tkx,ky=1,1 nx,ny=20,13 m=196 fp=0.000000 s=0.000000\n",
      "  warnings.warn(RuntimeWarning(_iermess2[ierm][0] + _mess))\n",
      "C:\\Users\\csherwood\\AppData\\Local\\Continuum\\miniconda3\\envs\\IOOS3\\lib\\site-packages\\scipy\\interpolate\\_fitpack_impl.py:974: RuntimeWarning: A theoretically impossible result when finding a smoothing spline\n",
      "with fp = s. Probable causes: s too small or badly chosen eps.\n",
      "(abs(fp-s)/s>0.001)\n",
      "\tkx,ky=1,1 nx,ny=14,16 m=196 fp=0.000000 s=0.000000\n",
      "  warnings.warn(RuntimeWarning(_iermess2[ierm][0] + _mess))\n",
      "C:\\Users\\csherwood\\AppData\\Local\\Continuum\\miniconda3\\envs\\IOOS3\\lib\\site-packages\\scipy\\interpolate\\_fitpack_impl.py:974: RuntimeWarning: No more knots can be added because the number of B-spline\n",
      "coefficients already exceeds the number of data points m.\n",
      "Probable causes: either s or m too small. (fp>s)\n",
      "\tkx,ky=1,1 nx,ny=17,16 m=196 fp=0.000001 s=0.000000\n",
      "  warnings.warn(RuntimeWarning(_iermess2[ierm][0] + _mess))\n",
      "C:\\Users\\csherwood\\AppData\\Local\\Continuum\\miniconda3\\envs\\IOOS3\\lib\\site-packages\\scipy\\interpolate\\_fitpack_impl.py:974: RuntimeWarning: A theoretically impossible result when finding a smoothing spline\n",
      "with fp = s. Probable causes: s too small or badly chosen eps.\n",
      "(abs(fp-s)/s>0.001)\n",
      "\tkx,ky=1,1 nx,ny=13,18 m=196 fp=0.000000 s=0.000000\n",
      "  warnings.warn(RuntimeWarning(_iermess2[ierm][0] + _mess))\n"
     ]
    },
    {
     "ename": "IndexError",
     "evalue": "index 401 is out of bounds for axis 1 with size 401",
     "output_type": "error",
     "traceback": [
      "\u001b[1;31m---------------------------------------------------------------------------\u001b[0m",
      "\u001b[1;31mIndexError\u001b[0m                                Traceback (most recent call last)",
      "\u001b[1;32m<ipython-input-53-70fc70519a80>\u001b[0m in \u001b[0;36m<module>\u001b[1;34m()\u001b[0m\n\u001b[0;32m      2\u001b[0m \u001b[1;32mfor\u001b[0m \u001b[0mi\u001b[0m \u001b[1;32min\u001b[0m \u001b[0mrange\u001b[0m\u001b[1;33m(\u001b[0m\u001b[0mnx\u001b[0m\u001b[1;33m-\u001b[0m\u001b[1;36m2\u001b[0m\u001b[1;33m)\u001b[0m\u001b[1;33m:\u001b[0m\u001b[1;33m\u001b[0m\u001b[0m\n\u001b[0;32m      3\u001b[0m     \u001b[1;32mfor\u001b[0m \u001b[0mj\u001b[0m \u001b[1;32min\u001b[0m \u001b[0mrange\u001b[0m\u001b[1;33m(\u001b[0m\u001b[0mny\u001b[0m\u001b[1;33m-\u001b[0m\u001b[1;36m2\u001b[0m\u001b[1;33m)\u001b[0m\u001b[1;33m:\u001b[0m\u001b[1;33m\u001b[0m\u001b[0m\n\u001b[1;32m----> 4\u001b[1;33m         \u001b[0mzi\u001b[0m\u001b[1;33m[\u001b[0m\u001b[0mi\u001b[0m\u001b[1;33m,\u001b[0m\u001b[0mj\u001b[0m\u001b[1;33m]\u001b[0m\u001b[1;33m=\u001b[0m\u001b[0mmy_interp\u001b[0m\u001b[1;33m(\u001b[0m\u001b[0mx\u001b[0m\u001b[1;33m,\u001b[0m \u001b[0my\u001b[0m\u001b[1;33m,\u001b[0m \u001b[0mzt\u001b[0m\u001b[1;33m,\u001b[0m \u001b[0mxu\u001b[0m\u001b[1;33m[\u001b[0m\u001b[0mi\u001b[0m\u001b[1;33m,\u001b[0m\u001b[0mj\u001b[0m\u001b[1;33m]\u001b[0m\u001b[1;33m,\u001b[0m\u001b[0myu\u001b[0m\u001b[1;33m[\u001b[0m\u001b[0mi\u001b[0m\u001b[1;33m,\u001b[0m\u001b[0mj\u001b[0m\u001b[1;33m]\u001b[0m\u001b[1;33m)\u001b[0m\u001b[1;33m\u001b[0m\u001b[0m\n\u001b[0m",
      "\u001b[1;31mIndexError\u001b[0m: index 401 is out of bounds for axis 1 with size 401"
     ]
    }
   ],
   "source": [
    "zi=np.ones_like(xu)\n",
    "for i in range(nx-2):\n",
    "    for j in range(ny-2):\n",
    "        zi[i,j]=my_interp(x, y, zt, xu[i,j],yu[i,j])"
   ]
  },
  {
   "cell_type": "code",
   "execution_count": 52,
   "metadata": {},
   "outputs": [
    {
     "data": {
      "text/plain": [
       "array([[  3.41024327e+00,   3.65803719e+00,   3.91484427e+00, ...,\n",
       "         -3.27670000e+04,  -3.27670000e+04,  -3.27670000e+04],\n",
       "       [  1.00000000e+00,   1.00000000e+00,   1.00000000e+00, ...,\n",
       "          1.00000000e+00,   1.00000000e+00,   1.00000000e+00],\n",
       "       [  1.00000000e+00,   1.00000000e+00,   1.00000000e+00, ...,\n",
       "          1.00000000e+00,   1.00000000e+00,   1.00000000e+00],\n",
       "       ..., \n",
       "       [  1.00000000e+00,   1.00000000e+00,   1.00000000e+00, ...,\n",
       "          1.00000000e+00,   1.00000000e+00,   1.00000000e+00],\n",
       "       [  1.00000000e+00,   1.00000000e+00,   1.00000000e+00, ...,\n",
       "          1.00000000e+00,   1.00000000e+00,   1.00000000e+00],\n",
       "       [  1.00000000e+00,   1.00000000e+00,   1.00000000e+00, ...,\n",
       "          1.00000000e+00,   1.00000000e+00,   1.00000000e+00]])"
      ]
     },
     "execution_count": 52,
     "metadata": {},
     "output_type": "execute_result"
    }
   ],
   "source": [
    "zi"
   ]
  },
  {
   "cell_type": "code",
   "execution_count": 23,
   "metadata": {},
   "outputs": [
    {
     "data": {
      "text/plain": [
       "(10226, 11987)"
      ]
     },
     "execution_count": 23,
     "metadata": {},
     "output_type": "execute_result"
    }
   ],
   "source": [
    "np.shape(y)"
   ]
  },
  {
   "cell_type": "code",
   "execution_count": 24,
   "metadata": {},
   "outputs": [
    {
     "data": {
      "text/plain": [
       "(10226, 11987)"
      ]
     },
     "execution_count": 24,
     "metadata": {},
     "output_type": "execute_result"
    }
   ],
   "source": [
    "np.shape(zt)"
   ]
  },
  {
   "cell_type": "code",
   "execution_count": 25,
   "metadata": {},
   "outputs": [
    {
     "data": {
      "text/plain": [
       "-32767.0"
      ]
     },
     "execution_count": 25,
     "metadata": {},
     "output_type": "execute_result"
    }
   ],
   "source": [
    "zt[1,1]"
   ]
  },
  {
   "cell_type": "code",
   "execution_count": 28,
   "metadata": {},
   "outputs": [
    {
     "data": {
      "text/plain": [
       "1.290696"
      ]
     },
     "execution_count": 28,
     "metadata": {},
     "output_type": "execute_result"
    }
   ],
   "source": [
    "zt[400,800]"
   ]
  },
  {
   "cell_type": "code",
   "execution_count": 30,
   "metadata": {},
   "outputs": [
    {
     "data": {
      "text/plain": [
       "376873.20508075686"
      ]
     },
     "execution_count": 30,
     "metadata": {},
     "output_type": "execute_result"
    }
   ],
   "source": [
    "xu[200,200]"
   ]
  },
  {
   "cell_type": "code",
   "execution_count": null,
   "metadata": {},
   "outputs": [],
   "source": []
  }
 ],
 "metadata": {
  "kernelspec": {
   "display_name": "Python 3",
   "language": "python",
   "name": "python3"
  },
  "language_info": {
   "codemirror_mode": {
    "name": "ipython",
    "version": 3
   },
   "file_extension": ".py",
   "mimetype": "text/x-python",
   "name": "python",
   "nbconvert_exporter": "python",
   "pygments_lexer": "ipython3",
   "version": "3.6.3"
  }
 },
 "nbformat": 4,
 "nbformat_minor": 2
}
