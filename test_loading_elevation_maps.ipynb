{
 "cells": [
  {
   "cell_type": "markdown",
   "metadata": {},
   "source": [
    "# Test loading elevation maps\n",
    "\n",
    "TODO:\n",
    "* Pad the maps out to largest possible ROI.\n",
    "* Design new grid rotated clockwise 30 deg\n",
    "* Smooth padded grid before interpolating?\n",
    "* Interpolate from padded grid to smaller, rotated ROI\n",
    "* Stack all maps\n",
    "* Save\n",
    "    "
   ]
  },
  {
   "cell_type": "code",
   "execution_count": 1,
   "metadata": {},
   "outputs": [],
   "source": [
    "import json\n",
    "import fiona\n",
    "import numpy as np\n",
    "import pandas as pd\n",
    "from IPython.display import display, HTML\n",
    "import rasterio # rasterio and OGR don't mix...see rasterio docs\n",
    "from rasterio import Affine\n",
    "import matplotlib.pyplot as plt\n",
    "import xarray as xr\n",
    "%matplotlib inline"
   ]
  },
  {
   "cell_type": "code",
   "execution_count": 2,
   "metadata": {},
   "outputs": [],
   "source": [
    "# top left corner of big region of interest (UTM Zone 19N meters)\n",
    "e0 = 376200.; n0 = 4625500.\n",
    "\n",
    "# size of big roi (colums, rows). divide by 10 to get meters\n",
    "xsize, ysize = 15000, 10000\n",
    "\n"
   ]
  },
  {
   "cell_type": "code",
   "execution_count": 3,
   "metadata": {},
   "outputs": [],
   "source": [
    "\n",
    "fdir = \"F:/2017_Karen_Sandwich_maps\"\n",
    "fnames = (\\\n",
    "\"2016-01-22_SandwichTNB_PT_DEM_10cm_trimmed.tif\",\\\n",
    "\"2016-01-25_SandwichTNB_DEM_10cm_trimmed.tif\")\n",
    "# \"2016-02-11_SandwichTNB_DEM_10cm_trimmed.tif\",\\\n",
    "# \"2016-03-30_SandwichTNB_AS_DEM_10cm_trimmed.tif\",\\\n",
    "# \"2016-09-21_SandwichTNB_DEM_10cm_trimmed.tif\",\\\n",
    "# \"2017-01-09_SandwichTNB_DEM_10cm_trimmed.tif\",\\\n",
    "# \"2017-01-25_SandwichTNB_DEM_10cm_trimmed.tif\",\\\n",
    "# \"2017-02-14_SandwichTNB_DEM_10cm_trimmed.tif\",\\\n",
    "# \"2017-03-16_SandwichTNB_DEM_10cm_trimmed.tif\",\\\n",
    "# \"2017-04-28_SandwichTNB_DEM_10cm_trimmed.tif\",\\\n",
    "# \"2017-05-04_SandwichTNB_DEM_10cm_trimmed.tif\",\\\n",
    "# \"2017-09-18_SandwichTNB_DEM_10cm_trimmed.tif\",\\\n",
    "# #\"2018-01-03_SandwichTNB_DEM_10cm_trimmed.tif\",\\ # needs to be padded...not very good control\n",
    "# \"2018-01-10_SandwichTNB_DEM_10cm_trimmed.tif\",\\\n",
    "# \"DEM_10cm_selfcal_lokicampos_mid_denseNAD83UTM19.tif\")\n",
    "\n",
    "dslist =[]\n",
    "fn = fdir+\"/2016-01-22_SandwichTNB_PT_DEM_10cm_trimmed.tif\"\n",
    "ds = xr.open_rasterio(fn)\n",
    "#     ds = ds.sel(x=slice(e0,e1), y=slice(n0,n1))\n",
    "#     if len(dslist) == 0:\n",
    "#         xc = ds['x']-ds['x'].values.min()\n",
    "#         yc = ds['y']-ds['y'].values.min()\n",
    "#     ds['x'] = xc\n",
    "#     ds['y'] = yc\n",
    "#     dslist.append(ds)"
   ]
  },
  {
   "cell_type": "code",
   "execution_count": 4,
   "metadata": {},
   "outputs": [
    {
     "name": "stdout",
     "output_type": "stream",
     "text": [
      "Frozen(OrderedDict([('band', 1), ('y', 10226), ('x', 11987)]))\n",
      "('band', 'y', 'x')\n",
      "band: Int64Index([1], dtype='int64', name='band')\n",
      "y: Float64Index([ 4625440.784410301,    4625440.6844103, 4625440.5844103005,\n",
      "                  4625440.484410301,    4625440.3844103,  4625440.284410301,\n",
      "                    4625440.1844103, 4625440.0844103005,  4625439.984410301,\n",
      "                    4625439.8844103,\n",
      "                 ...\n",
      "                    4624419.1844103, 4624419.0844103005,  4624418.984410301,\n",
      "                    4624418.8844103,  4624418.784410301,    4624418.6844103,\n",
      "                 4624418.5844103005,  4624418.484410301,    4624418.3844103,\n",
      "                  4624418.284410301],\n",
      "                dtype='float64', name='y', length=10226)\n",
      "x: Float64Index([376286.69299908396,   376286.792999084, 376286.89299908397,\n",
      "                 376286.99299908394,   376287.092999084, 376287.19299908396,\n",
      "                   376287.292999084, 376287.39299908397, 376287.49299908394,\n",
      "                   376287.592999084,\n",
      "                 ...\n",
      "                 377484.39299908397, 377484.49299908394,  377484.5929990839,\n",
      "                 377484.69299908396, 377484.79299908393, 377484.89299908397,\n",
      "                 377484.99299908394,  377485.0929990839, 377485.19299908396,\n",
      "                 377485.29299908393],\n",
      "                dtype='float64', name='x', length=11987)\n"
     ]
    }
   ],
   "source": [
    "ds['x'].values.min()\n",
    "ds['y'].values.min()\n",
    "print(ds.sizes)\n",
    "print(ds.dims)\n",
    "print(ds.indexes)"
   ]
  },
  {
   "cell_type": "code",
   "execution_count": 5,
   "metadata": {},
   "outputs": [
    {
     "name": "stdout",
     "output_type": "stream",
     "text": [
      "(1201, 401)\n",
      "(1201, 401)\n"
     ]
    },
    {
     "data": {
      "text/plain": [
       "array([[  1.20000000e+03,   1.20000000e+03,   1.20000000e+03, ...,\n",
       "          1.20000000e+03,   1.20000000e+03,   1.20000000e+03],\n",
       "       [  1.19900000e+03,   1.19900000e+03,   1.19900000e+03, ...,\n",
       "          1.19900000e+03,   1.19900000e+03,   1.19900000e+03],\n",
       "       [  1.19800000e+03,   1.19800000e+03,   1.19800000e+03, ...,\n",
       "          1.19800000e+03,   1.19800000e+03,   1.19800000e+03],\n",
       "       ..., \n",
       "       [  2.00000000e+00,   2.00000000e+00,   2.00000000e+00, ...,\n",
       "          2.00000000e+00,   2.00000000e+00,   2.00000000e+00],\n",
       "       [  1.00000000e+00,   1.00000000e+00,   1.00000000e+00, ...,\n",
       "          1.00000000e+00,   1.00000000e+00,   1.00000000e+00],\n",
       "       [  0.00000000e+00,   0.00000000e+00,   0.00000000e+00, ...,\n",
       "          0.00000000e+00,   0.00000000e+00,   0.00000000e+00]])"
      ]
     },
     "execution_count": 5,
     "metadata": {},
     "output_type": "execute_result"
    }
   ],
   "source": [
    "# make an box \n",
    "xrot, yrot=np.meshgrid(np.linspace(0.,400.,401),np.flip(np.linspace(0.,1200.,1201),0),sparse=False, indexing='xy')\n",
    "print(xrot.shape)\n",
    "xrot\n",
    "print(yrot.shape)\n",
    "yrot"
   ]
  },
  {
   "cell_type": "code",
   "execution_count": 8,
   "metadata": {},
   "outputs": [],
   "source": [
    "# calculate UTM coordinates for the box, which depend on upper left hand corner and rotation\n",
    "def box2UTM(x, y, e0, n0, rot):\n",
    "    r = np.pi*(rot-90.)/180.\n",
    "    xnew = x*np.cos(r)   + y*np.sin(r) + e0\n",
    "    ynew = -y*np.sin(r)  + x*np.cos(r) + n0\n",
    "    return xnew, ynew\n",
    "\n",
    "xu, yu = box2UTM(xrot, yrot, e0, n0, 120.)"
   ]
  },
  {
   "cell_type": "code",
   "execution_count": 9,
   "metadata": {},
   "outputs": [
    {
     "data": {
      "text/plain": [
       "<matplotlib.collections.PathCollection at 0x1c56baa8320>"
      ]
     },
     "execution_count": 9,
     "metadata": {},
     "output_type": "execute_result"
    },
    {
     "data": {
      "image/png": "[encoded data removed]",
      "text/plain": [
       "<matplotlib.figure.Figure at 0x1c56b97bcf8>"
      ]
     },
     "metadata": {},
     "output_type": "display_data"
    }
   ],
   "source": [
    "plt.scatter(xu, yu, marker='.')"
   ]
  },
  {
   "cell_type": "code",
   "execution_count": 16,
   "metadata": {},
   "outputs": [],
   "source": [
    "dsbox = xr.DataArray(np.NaN*np.ones_like(xu))#, coords=[('northing', yu),('easting', xu)])\n",
    "#dsr = ds.interp(,method='linear')"
   ]
  },
  {
   "cell_type": "code",
   "execution_count": 17,
   "metadata": {},
   "outputs": [
    {
     "data": {
      "text/plain": [
       "<xarray.DataArray (dim_0: 1201, dim_1: 401)>\n",
       "array([[ nan,  nan,  nan, ...,  nan,  nan,  nan],\n",
       "       [ nan,  nan,  nan, ...,  nan,  nan,  nan],\n",
       "       [ nan,  nan,  nan, ...,  nan,  nan,  nan],\n",
       "       ..., \n",
       "       [ nan,  nan,  nan, ...,  nan,  nan,  nan],\n",
       "       [ nan,  nan,  nan, ...,  nan,  nan,  nan],\n",
       "       [ nan,  nan,  nan, ...,  nan,  nan,  nan]])\n",
       "Dimensions without coordinates: dim_0, dim_1"
      ]
     },
     "execution_count": 17,
     "metadata": {},
     "output_type": "execute_result"
    }
   ],
   "source": [
    "dsbox"
   ]
  },
  {
   "cell_type": "code",
   "execution_count": null,
   "metadata": {},
   "outputs": [],
   "source": []
  }
 ],
 "metadata": {
  "kernelspec": {
   "display_name": "Python 3",
   "language": "python",
   "name": "python3"
  },
  "language_info": {
   "codemirror_mode": {
    "name": "ipython",
    "version": 3
   },
   "file_extension": ".py",
   "mimetype": "text/x-python",
   "name": "python",
   "nbconvert_exporter": "python",
   "pygments_lexer": "ipython3",
   "version": "3.6.3"
  }
 },
 "nbformat": 4,
 "nbformat_minor": 2
}
