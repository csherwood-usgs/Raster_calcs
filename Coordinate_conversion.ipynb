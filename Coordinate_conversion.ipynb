{
 "cells": [
  {
   "cell_type": "code",
   "execution_count": 1,
   "metadata": {},
   "outputs": [
    {
     "name": "stdout",
     "output_type": "stream",
     "text": [
      "In :   -77.70658336111111 43.30643608888889\n",
      "Out:   280485.38070656615 4798402.54471799\n"
     ]
    }
   ],
   "source": [
    "from pyproj import Proj, transform\n",
    "\n",
    "# inProj = Proj(init='epsg:7660') #-> generates b\"no options found in 'init' file\"\n",
    "inProj = Proj(init='epsg:4326')\n",
    "\n",
    "outProj = Proj(init='epsg:26918') # WGS84 lat/lon\n",
    "\n",
    "# OPUS fix at Braddock from 0191_OPUS.docx\n",
    "inlon = -(77.+42./60.+23.70010/3600.)\n",
    "inlat =   43.+18./60.+23.16992/3600.\n",
    "\n",
    "outx,outy=transform(inProj,outProj,inlon,inlat)\n",
    "print(\"In :  \",inlon,inlat)\n",
    "print(\"Out:  \",outx,outy)"
   ]
  },
  {
   "cell_type": "code",
   "execution_count": null,
   "metadata": {},
   "outputs": [],
   "source": []
  }
 ],
 "metadata": {
  "kernelspec": {
   "display_name": "Python 3",
   "language": "python",
   "name": "python3"
  },
  "language_info": {
   "codemirror_mode": {
    "name": "ipython",
    "version": 3
   },
   "file_extension": ".py",
   "mimetype": "text/x-python",
   "name": "python",
   "nbconvert_exporter": "python",
   "pygments_lexer": "ipython3",
   "version": "3.6.3"
  }
 },
 "nbformat": 4,
 "nbformat_minor": 2
}
