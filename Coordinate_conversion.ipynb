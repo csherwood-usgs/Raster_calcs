{
 "cells": [
  {
   "cell_type": "markdown",
   "metadata": {},
   "source": [
    "## Checking coordinate conversion for a Lake Ontario reference point\n",
    "\n",
    "### EPSG::4326\n",
    "According to http://spatialreference.org/ref/epsg/4326/\n",
    "<pre>\n",
    "GEOGCS[\"WGS 84\",\n",
    "    DATUM[\"WGS_1984\",\n",
    "        SPHEROID[\"WGS 84\",6378137,298.257223563,\n",
    "            AUTHORITY[\"EPSG\",\"7030\"]],\n",
    "        AUTHORITY[\"EPSG\",\"6326\"]],\n",
    "    PRIMEM[\"Greenwich\",0,\n",
    "        AUTHORITY[\"EPSG\",\"8901\"]],\n",
    "    UNIT[\"degree\",0.01745329251994328,\n",
    "        AUTHORITY[\"EPSG\",\"9122\"]],\n",
    "    AUTHORITY[\"EPSG\",\"4326\"]]\n",
    "</pre>\n",
    "\n",
    "### EPSG::26919\n",
    "According to http://spatialreference.org/ref/epsg/nad83-utm-zone-19n/\n",
    "<pre>\n",
    "PROJCS[\"NAD83 / UTM zone 18N\",\n",
    "    GEOGCS[\"NAD83\",\n",
    "        DATUM[\"North_American_Datum_1983\",\n",
    "            SPHEROID[\"GRS 1980\",6378137,298.257222101,\n",
    "                AUTHORITY[\"EPSG\",\"7019\"]],\n",
    "            AUTHORITY[\"EPSG\",\"6269\"]],\n",
    "        PRIMEM[\"Greenwich\",0,\n",
    "            AUTHORITY[\"EPSG\",\"8901\"]],\n",
    "        UNIT[\"degree\",0.01745329251994328,\n",
    "            AUTHORITY[\"EPSG\",\"9122\"]],\n",
    "        AUTHORITY[\"EPSG\",\"4269\"]],\n",
    "    UNIT[\"metre\",1,\n",
    "        AUTHORITY[\"EPSG\",\"9001\"]],\n",
    "    PROJECTION[\"Transverse_Mercator\"],\n",
    "    PARAMETER[\"latitude_of_origin\",0],\n",
    "    PARAMETER[\"central_meridian\",-75],\n",
    "    PARAMETER[\"scale_factor\",0.9996],\n",
    "    PARAMETER[\"false_easting\",500000],\n",
    "    PARAMETER[\"false_northing\",0],\n",
    "    AUTHORITY[\"EPSG\",\"26918\"],\n",
    "    AXIS[\"Easting\",EAST],\n",
    "    AXIS[\"Northing\",NORTH]]\n",
    " </pre>   "
   ]
  },
  {
   "cell_type": "code",
   "execution_count": 1,
   "metadata": {},
   "outputs": [
    {
     "name": "stdout",
     "output_type": "stream",
     "text": [
      "These numbers match the OPUS report.\n",
      "Lon / Lat   :   -77.70658336111111 43.30643608888889\n",
      "East / North:   280485.38070656615 4798402.54471799\n"
     ]
    }
   ],
   "source": [
    "from pyproj import Proj, transform\n",
    "\n",
    "# inProj = Proj(init='epsg:7660') #-> generates b\"no options found in 'init' file\"\n",
    "inProj = Proj(init='epsg:4326')\n",
    "\n",
    "outProj = Proj(init='epsg:26918')\n",
    "\n",
    "# OPUS fix at Braddock from 0191_OPUS.docx\n",
    "inlon = -(77.+42./60.+23.70010/3600.)\n",
    "inlat =   43.+18./60.+23.16992/3600.\n",
    "\n",
    "outx,outy=transform(inProj,outProj,inlon,inlat)\n",
    "print(\"These numbers match the OPUS report.\")\n",
    "print(\"Lon / Lat   :  \",inlon,inlat)\n",
    "print(\"East / North:  \",outx,outy)"
   ]
  }
 ],
 "metadata": {
  "kernelspec": {
   "display_name": "Python 3",
   "language": "python",
   "name": "python3"
  },
  "language_info": {
   "codemirror_mode": {
    "name": "ipython",
    "version": 3
   },
   "file_extension": ".py",
   "mimetype": "text/x-python",
   "name": "python",
   "nbconvert_exporter": "python",
   "pygments_lexer": "ipython3",
   "version": "3.6.3"
  }
 },
 "nbformat": 4,
 "nbformat_minor": 2
}
