{
 "cells": [
  {
   "cell_type": "code",
   "execution_count": 22,
   "metadata": {
    "scrolled": true
   },
   "outputs": [
    {
     "name": "stdout",
     "output_type": "stream",
     "text": [
      "Raw: 65600  Compressed: 65631\n",
      "Raw: 65600  Compressed: 65631\n",
      "Raw: 65600  Compressed: 65629\n",
      "Raw: 65600  Compressed: 65631\n",
      "Raw: 65600  Compressed: 65629\n",
      "Raw: 65600  Compressed: 65629\n",
      "Raw: 65600  Compressed: 65631\n",
      "Raw: 65600  Compressed: 65631\n",
      "Raw: 65600  Compressed: 65629\n",
      "Raw: 65600  Compressed: 65631\n",
      "Average raw: 65600.0 Average compressed: 65630.2\n"
     ]
    }
   ],
   "source": [
    "import zlib\n",
    "import os\n",
    "nit = 10\n",
    "rawsum = 0.\n",
    "csum = 0.\n",
    "for i in range(nit):\n",
    "    a=bytearray(os.urandom(40*40*41))\n",
    "    ca = zlib.compress(a)\n",
    "    decompressed_byte_data = zlib.decompress(ca)\n",
    "    print('Raw: {}  Compressed: {}'.format(len(a),len(ca)))\n",
    "    rawsum += len(a)\n",
    "    csum += len(ca)\n",
    "    \n",
    "print(\"Average raw: {} Average compressed: {}\".format(rawsum/nit,csum/nit))"
   ]
  },
  {
   "cell_type": "code",
   "execution_count": 25,
   "metadata": {},
   "outputs": [
    {
     "name": "stdout",
     "output_type": "stream",
     "text": [
      "Raw: 65600  Compressed: 2110\n",
      "Raw: 65600  Compressed: 2108\n",
      "Raw: 65600  Compressed: 2110\n",
      "Raw: 65600  Compressed: 2110\n",
      "Raw: 65600  Compressed: 2110\n",
      "Raw: 65600  Compressed: 2108\n",
      "Raw: 65600  Compressed: 2109\n",
      "Raw: 65600  Compressed: 2107\n",
      "Raw: 65600  Compressed: 2108\n",
      "Raw: 65600  Compressed: 2108\n",
      "Average raw: 65600.0 Average compressed: 2108.8\n"
     ]
    }
   ],
   "source": [
    "# try an array that is 40*40 repeated 41 times - compresses well, but not to 1600\n",
    "nit = 10\n",
    "rawsum = 0.\n",
    "csum = 0.\n",
    "for i in range(nit):\n",
    "    a=bytearray(os.urandom(40*40)*41)\n",
    "    ca = zlib.compress(a)\n",
    "    decompressed_byte_data = zlib.decompress(ca)\n",
    "    print('Raw: {}  Compressed: {}'.format(len(a),len(ca)))\n",
    "    rawsum += len(a)\n",
    "    csum += len(ca)\n",
    "    \n",
    "print(\"Average raw: {} Average compressed: {}\".format(rawsum/nit,csum/nit))"
   ]
  },
  {
   "cell_type": "code",
   "execution_count": 23,
   "metadata": {},
   "outputs": [
    {
     "name": "stdout",
     "output_type": "stream",
     "text": [
      "Average raw: 65600.0 Average compressed: 65630.197\n"
     ]
    }
   ],
   "source": [
    "# try lots of iterations of first case...get same answer\n",
    "nit = 10000\n",
    "rawsum = 0.\n",
    "csum = 0.\n",
    "for i in range(nit):\n",
    "    a=bytearray(os.urandom(40*40*41))\n",
    "    ca = zlib.compress(a)\n",
    "    decompressed_byte_data = zlib.decompress(ca)\n",
    "    rawsum += len(a)\n",
    "    csum += len(ca)\n",
    "    \n",
    "print(\"Average raw: {} Average compressed: {}\".format(rawsum/nit,csum/nit))"
   ]
  },
  {
   "cell_type": "code",
   "execution_count": 24,
   "metadata": {},
   "outputs": [
    {
     "name": "stdout",
     "output_type": "stream",
     "text": [
      "Average raw: 6560000.0 Average compressed: 6562011.0\n"
     ]
    }
   ],
   "source": [
    "# try a bigger array - does not help (even though you would think there are only 255 unique values)\n",
    "nit = 10\n",
    "rawsum = 0.\n",
    "csum = 0.\n",
    "for i in range(nit):\n",
    "    a=bytearray(os.urandom(40*40*41*100))\n",
    "    ca = zlib.compress(a)\n",
    "    decompressed_byte_data = zlib.decompress(ca)\n",
    "    rawsum += len(a)\n",
    "    csum += len(ca)\n",
    "    \n",
    "print(\"Average raw: {} Average compressed: {}\".format(rawsum/nit,csum/nit))"
   ]
  },
  {
   "cell_type": "code",
   "execution_count": 19,
   "metadata": {},
   "outputs": [
    {
     "name": "stdout",
     "output_type": "stream",
     "text": [
      "b'\\xb1'\n",
      "b'\\xbe'\n",
      "b'\\x81'\n",
      "b'/'\n",
      "b'\\xcc'\n",
      "b'\\xd0'\n",
      "b'\\xd3'\n",
      "b'C'\n",
      "b'\\x93'\n",
      "b'\\xac'\n"
     ]
    }
   ],
   "source": [
    "for i in range(10):\n",
    "    print((os.urandom(1)))"
   ]
  },
  {
   "cell_type": "code",
   "execution_count": null,
   "metadata": {
    "collapsed": true
   },
   "outputs": [],
   "source": []
  }
 ],
 "metadata": {
  "kernelspec": {
   "display_name": "Python 3",
   "language": "python",
   "name": "python3"
  },
  "language_info": {
   "codemirror_mode": {
    "name": "ipython",
    "version": 3
   },
   "file_extension": ".py",
   "mimetype": "text/x-python",
   "name": "python",
   "nbconvert_exporter": "python",
   "pygments_lexer": "ipython3",
   "version": "3.6.1"
  }
 },
 "nbformat": 4,
 "nbformat_minor": 2
}
