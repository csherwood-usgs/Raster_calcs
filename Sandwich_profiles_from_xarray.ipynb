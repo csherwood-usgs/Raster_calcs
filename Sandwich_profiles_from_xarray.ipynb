{
 "cells": [
  {
   "cell_type": "markdown",
   "metadata": {},
   "source": [
    "## Sandwich_profiles_from_xarray\n",
    "\n",
    "This is material copied from the end of Sandwich_analyze_ROI. These are experiments in processing transects, but don't run yet...they need the packages and data."
   ]
  },
  {
   "cell_type": "code",
   "execution_count": null,
   "metadata": {},
   "outputs": [],
   "source": [
    "# plot using more native approach\n",
    "da[0,100,:].plot(xincrease=False)\n",
    "da[1,100,:].plot(xincrease=False)"
   ]
  },
  {
   "cell_type": "code",
   "execution_count": null,
   "metadata": {},
   "outputs": [],
   "source": [
    "MWLdatum = -0.2\n",
    "imap = 13\n",
    "xik = np.ones((1300,1))*np.NaN\n",
    "xikb = np.ones((1300,1))*np.NaN\n",
    "\n",
    "# extract the x coords\n",
    "x = da.coords['Cross-shore'].values\n",
    "y = da.coords['Alongshore'].values\n",
    "for itno in range(0,1300):\n",
    "    # itno = 200\n",
    "\n",
    "    # extract a transect\n",
    "    t = np.flip(np.array(da[0,itno,:]),0)\n",
    "\n",
    "    idx = np.where(t<-100.)\n",
    "    t[idx]=-10.\n",
    "\n",
    "    # smooth w/ box (omit later?)\n",
    "    box_kernel = Box1DKernel(5)\n",
    "    tsb = convolve(np.array(t), box_kernel)\n",
    "\n",
    "    # smooth w/ Gauss\n",
    "    #  size of kernal\n",
    "    gkn = 5\n",
    "    #  amount to remove at ends\n",
    "    gkno2 = int(round(gkn/2.))\n",
    "    gauss_kernel = Gaussian1DKernel(gkn)\n",
    "    tsg = convolve(np.array(t), gauss_kernel)\n",
    "    # NaN the ends?\n",
    "    # tsg[0:gkno2]=np.NaN\n",
    "    # tsg[-(gkno2+1):-1]=np.NaN\n",
    "\n",
    "    # calculate gradients (add a value to keep arrays same length)\n",
    "    dts = np.append([0.],np.diff(tsg))\n",
    "    ddts = np.append([1.],np.diff(dts))\n",
    "    dddts = np.append([1.],np.diff(ddts))\n",
    "\n",
    "    # look for shoreline\n",
    "    #   postitive slope\n",
    "    pos_slope = dts>=5e-5\n",
    "    #   close to MWL\n",
    "    close = np.abs(t-(-1.))<=0.05\n",
    "    xlimit = x<150.\n",
    "    kdx = np.logical_and( np.logical_and(close, pos_slope), xlimit)\n",
    "    kdx1 = np.argmax(kdx)\n",
    "    xik[itno]=x[kdx1]\n",
    "    \n",
    "    # look for back of barrier\n",
    "    neg_slope = dts<=-5e-5\n",
    "    xextend = x>(xik[itno]+100.)\n",
    "    #print(sum(neg_slope),sum(xextend))\n",
    "    kdxb = np.logical_and( np.logical_and(close, neg_slope), xextend )\n",
    "    kdx2 = np.argmax(kdxb)\n",
    "    #print('x[kdx2], t[kdx2] =',x[kdx2],t[kdx2]-MWLdatum)\n",
    "    xikb[itno]=x[kdx2]\n",
    "    #print(itno,': found ',np.sum(kdxb),' first one:', kdx2)\n",
    "\n"
   ]
  },
  {
   "cell_type": "code",
   "execution_count": null,
   "metadata": {},
   "outputs": [],
   "source": [
    "from scipy.ndimage.filters import maximum_filter1d, median_filter\n",
    "xikf = np.zeros_like(xik)\n",
    "median_filter(xik, 21, output=xikf, mode='nearest')\n",
    "# try several filters...use the biggest values\n",
    "xikbf7= np.ones_like(xik)\n",
    "xikbf21= np.ones_like(xik)\n",
    "xikbf51= np.ones_like(xik)\n",
    "\n",
    "median_filter(xikb, 7, output=xikbf7, mode='nearest')\n",
    "median_filter(xikb, 21, output=xikbf21, mode='nearest')\n",
    "median_filter(xikb, 51, output=xikbf51, mode='nearest')\n",
    "xikbf = np.max((np.hstack((xikbf7,xikbf21,xikbf51))),axis=1)\n",
    "\n",
    "plt.plot(xik)\n",
    "plt.plot(xikf,'.k')\n",
    "plt.plot(xikb,'-b')\n",
    "plt.plot(xikbf,'.c')\n",
    "plt.xlim(400, 600)"
   ]
  },
  {
   "cell_type": "code",
   "execution_count": null,
   "metadata": {},
   "outputs": [],
   "source": [
    "da.isel(map=imap).plot(vmin=-2,vmax=8,cmap=plt.cm.terrain)\n",
    "plt.plot(280-xikf,y,'or')\n",
    "plt.plot(180-xikf,y,'og')\n",
    "plt.plot(280-xikbf,y,'oy')"
   ]
  },
  {
   "cell_type": "code",
   "execution_count": null,
   "metadata": {},
   "outputs": [],
   "source": [
    "#   first point of points closest to MWL elevation (this does not work if an inland one is closer)\n",
    "# mlw =  np.argmin(np.abs(t-MWLdatum))\n",
    "\n",
    "fig, ax = plt.subplots()\n",
    "plt.plot(x,np.zeros_like(x),'--k')\n",
    "plt.plot(x,t,label='Data')\n",
    "plt.plot(x,tsg,label='Gauss')\n",
    "# plt.plot(x,tsb,label='Box')\n",
    "plt.plot(x,10*dts)\n",
    "#plt.plot(x,10*ddts)\n",
    "plt.plot(x[kdx],t[kdx],'ok',label='MLW')\n",
    "#plt.plot(x[mlwg],t[mlwg],'ob')\n",
    "ax.legend()"
   ]
  }
 ],
 "metadata": {
  "kernelspec": {
   "display_name": "Python 3",
   "language": "python",
   "name": "python3"
  },
  "language_info": {
   "codemirror_mode": {
    "name": "ipython",
    "version": 3
   },
   "file_extension": ".py",
   "mimetype": "text/x-python",
   "name": "python",
   "nbconvert_exporter": "python",
   "pygments_lexer": "ipython3",
   "version": "3.6.3"
  }
 },
 "nbformat": 4,
 "nbformat_minor": 2
}
