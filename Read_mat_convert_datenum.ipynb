{
 "cells": [
  {
   "cell_type": "markdown",
   "metadata": {},
   "source": [
    "## Example reading a matlab .mat file and converting datenum to datetime\n",
    "\n",
    "### In Matlab:\n",
    "```\n",
    ">> load Sandwidch_WL_surgeplustide_lag.mat\n",
    ">> whos\n",
    "  Name            Size                 Bytes  Class     Attributes\n",
    "\n",
    "  T               1x113857            910856  double              \n",
    "  sand_total      1x113857            910856  double              \n",
    "\n",
    ">> datestr(T(1))\n",
    "ans =\n",
    "    '01-Jan-2015'\n",
    ">> datestr(T(end))\n",
    "ans =\n",
    "    '01-Apr-2018'\n",
    ">> 24*diff(T(1:2))\n",
    "ans =\n",
    "    0.2500\n",
    "```"
   ]
  },
  {
   "cell_type": "code",
   "execution_count": 13,
   "metadata": {},
   "outputs": [
    {
     "name": "stdout",
     "output_type": "stream",
     "text": [
      "(113857,)\n",
      "Type and shape of T:  <class 'numpy.ndarray'> None\n",
      "First time:  01/01/2015 00:00:00\n",
      "Last time :  04/01/2018 00:00:00\n"
     ]
    }
   ],
   "source": [
    "import numpy as np\n",
    "import os\n",
    "import scipy.io\n",
    "import datetime as dt\n",
    "import matplotlib.pyplot as plt\n",
    "%matplotlib inline\n",
    "\n",
    "wl_fpath = r\"D:\\crs\\proj\\2015_Sandwich\\data_proc\\waves_water_levels\"\n",
    "fpath3 = os.path.join(wl_fpath,'Sandwidch_WL_surgeplustide_lag.mat')\n",
    "\n",
    "wlevels = scipy.io.loadmat(fpath3)\n",
    "wl = np.squeeze(np.array(wlevels[\"sand_total\"]))\n",
    "T = np.squeeze(np.array(wlevels[\"T\"]))\n",
    "\n",
    "print(\"Type and shape of T: \",type(T),print(np.shape(T)))\n",
    "\n",
    "def matlab_datenum_to_datetime( dn ):\n",
    "    \"\"\"\n",
    "    Convert matlab datenum to array of python datetime objects\n",
    "    \n",
    "    Input:\n",
    "        dn - numpy array of matlab datenums   \n",
    "    Returns:\n",
    "        numpy array of datetime objects\n",
    "    \n",
    "    https://stackoverflow.com/questions/13965740/converting-matlabs-datenum-format-to-python/13965852#13965852\n",
    "    \"\"\"\n",
    "    # loop through and make a list of datetime objects\n",
    "    dtime = []\n",
    "    for i in range(len(dn)):\n",
    "      dtime.append( dt.datetime.fromordinal( int(dn[i])-366 ) + dt.timedelta(days=dn[i]%1) )\n",
    "    # convert the list to an array\n",
    "\n",
    "dtime = matlab_datenum_to_datetime( T )\n",
    "\n",
    "# Good info on datetime formatting:\n",
    "# https://stackoverflow.com/questions/10624937/convert-datetime-object-to-a-string-of-date-only-in-python\n",
    "print(\"First time: \",'{:%m/%d/%Y %H:%M:%S}'.format(dtime[0]))\n",
    "print(\"Last time : \",'{:%m/%d/%Y %H:%M:%S}'.format(dtime[-1]))"
   ]
  },
  {
   "cell_type": "code",
   "execution_count": 6,
   "metadata": {},
   "outputs": [
    {
     "data": {
      "text/plain": [
       "[<matplotlib.lines.Line2D at 0x1b7c16c10b8>]"
      ]
     },
     "execution_count": 6,
     "metadata": {},
     "output_type": "execute_result"
    },
    {
     "data": {
      "image/png": "[encoded data removed]",
      "text/plain": [
       "<Figure size 432x288 with 1 Axes>"
      ]
     },
     "metadata": {},
     "output_type": "display_data"
    }
   ],
   "source": [
    "plt.plot(dtime,wl)"
   ]
  }
 ],
 "metadata": {
  "kernelspec": {
   "display_name": "Python 3",
   "language": "python",
   "name": "python3"
  },
  "language_info": {
   "codemirror_mode": {
    "name": "ipython",
    "version": 3
   },
   "file_extension": ".py",
   "mimetype": "text/x-python",
   "name": "python",
   "nbconvert_exporter": "python",
   "pygments_lexer": "ipython3",
   "version": "3.6.3"
  }
 },
 "nbformat": 4,
 "nbformat_minor": 2
}
