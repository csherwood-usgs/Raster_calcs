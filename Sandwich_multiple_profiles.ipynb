{
 "cells": [
  {
   "cell_type": "code",
   "execution_count": 1,
   "metadata": {
    "collapsed": true,
    "deletable": true,
    "editable": true
   },
   "outputs": [],
   "source": [
    "import numpy as np\n",
    "#import rasterio\n",
    "import matplotlib.pyplot as plt\n",
    "%matplotlib inline\n",
    "import pandas as pd\n",
    "import glob\n",
    "import os"
   ]
  },
  {
   "cell_type": "code",
   "execution_count": 4,
   "metadata": {
    "collapsed": false,
    "deletable": true,
    "editable": true
   },
   "outputs": [],
   "source": [
    "def vol_change(df, delta=0.1131):\n",
    "    # make array from subset of df that has with profiles\n",
    "    # delta = sqrt(rms^2+rms^2), where rms is uncert. in elevation of each profile\n",
    "    dfp = df.iloc[:,4:17].copy()\n",
    "    pr = dfp.as_matrix()\n",
    "    # get column that has segment lengths\n",
    "    ddist = df['Distance (Segment)'].as_matrix()    \n",
    "    # difference\n",
    "    dpr = np.diff(pr)\n",
    "    ir,ic=np.shape(dpr)\n",
    "    dd=np.tile(ddist,(ic,1)).T\n",
    "    dpr[np.isnan(dpr)]=0.\n",
    "    dv = np.sum(dpr*dd, axis=(0))\n",
    "    # this is a super convervative estimate of the error\n",
    "    err = np.sum(delta*dd,axis=(0))\n",
    "    return dv, err"
   ]
  },
  {
   "cell_type": "code",
   "execution_count": 7,
   "metadata": {
    "collapsed": false
   },
   "outputs": [
    {
     "name": "stdout",
     "output_type": "stream",
     "text": [
      "C:\\crs\\proj\\2018_Sandwich_Synthesis\\profile_rates.csv\n"
     ]
    }
   ],
   "source": [
    "print(f)"
   ]
  },
  {
   "cell_type": "code",
   "execution_count": 8,
   "metadata": {
    "collapsed": false,
    "deletable": true,
    "editable": true
   },
   "outputs": [
    {
     "name": "stdout",
     "output_type": "stream",
     "text": [
      "['C:\\\\crs\\\\proj\\\\2018_Sandwich_Synthesis\\\\P1.csv', 'C:\\\\crs\\\\proj\\\\2018_Sandwich_Synthesis\\\\P2.csv', 'C:\\\\crs\\\\proj\\\\2018_Sandwich_Synthesis\\\\P3.csv', 'C:\\\\crs\\\\proj\\\\2018_Sandwich_Synthesis\\\\P4.csv', 'C:\\\\crs\\\\proj\\\\2018_Sandwich_Synthesis\\\\P5.csv', 'C:\\\\crs\\\\proj\\\\2018_Sandwich_Synthesis\\\\P6.csv']\n"
     ]
    }
   ],
   "source": [
    "# the following names should be changed for each use\n",
    "# specify the location and name of the DEM\n",
    "fdir = \"C:\\\\crs\\\\proj\\\\2018_Sandwich_Synthesis\\\\\"\n",
    "pfiles  = glob.glob(os.path.join(fdir,\"P?.csv\"))\n",
    "print(pfiles)\n",
    "\n",
    "rates = np.zeros((6,12))\n",
    "erra = np.zeros((6,12))\n",
    "i=0\n",
    "for f in pfiles:\n",
    "    df=pd.read_csv(f)\n",
    "    r, err = vol_change(df)\n",
    "    rates[i,:]=r\n",
    "    erra[i,:]=err\n",
    "\n",
    "    i=i+1\n",
    "    \n",
    "np.savetxt(os.path.join(fdir,\"profile_rates.csv\"),rates,delimiter=',')\n",
    "np.savetxt(os.path.join(fdir,\"profile_rates_errors.csv\"),erra,delimiter=',')"
   ]
  }
 ],
 "metadata": {
  "kernelspec": {
   "display_name": "Python [default]",
   "language": "python",
   "name": "python3"
  },
  "language_info": {
   "codemirror_mode": {
    "name": "ipython",
    "version": 3
   },
   "file_extension": ".py",
   "mimetype": "text/x-python",
   "name": "python",
   "nbconvert_exporter": "python",
   "pygments_lexer": "ipython3",
   "version": "3.6.0"
  }
 },
 "nbformat": 4,
 "nbformat_minor": 2
}
