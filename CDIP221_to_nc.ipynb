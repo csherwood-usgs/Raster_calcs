{
 "cells": [
  {
   "cell_type": "code",
   "execution_count": 1,
   "metadata": {
    "collapsed": true,
    "deletable": true,
    "editable": true
   },
   "outputs": [],
   "source": [
    "# load and concatenate waverider data\n",
    "import numpy as np\n",
    "import  json\n",
    "import datetime as dt\n",
    "import matplotlib.pyplot as plt\n",
    "import xarray as xr\n",
    "import netCDF4\n",
    "import os\n",
    "import pandas as pd\n",
    "import scipy.io\n",
    "from IPython.display import display, HTML\n",
    "#from scipy import interpolate, signal\n",
    "#from astropy.convolution import convolve, Gaussian1DKernel, Box1DKernel\n",
    "%matplotlib inline"
   ]
  },
  {
   "cell_type": "code",
   "execution_count": 2,
   "metadata": {
    "collapsed": false,
    "deletable": true,
    "editable": true
   },
   "outputs": [
    {
     "name": "stdout",
     "output_type": "stream",
     "text": [
      "D:221p1_historic.nc\n",
      "<xarray.DataArray 'waveTime' (waveTime: 24145)>\n",
      "array(['2016-05-20T15:07:45.000000000', '2016-05-20T15:37:45.000000000',\n",
      "       '2016-05-20T16:07:45.000000000', ..., '2017-10-05T14:37:45.000000000',\n",
      "       '2017-10-05T15:07:45.000000000', '2017-10-05T15:37:45.000000000'], dtype='datetime64[ns]')\n",
      "Coordinates:\n",
      "  * waveTime              (waveTime) datetime64[ns] 2016-05-20T15:07:45 ...\n",
      "    metaStationLatitude   float32 ...\n",
      "    metaStationLongitude  float32 ...\n",
      "Attributes:\n",
      "    long_name:      UTC sample start time\n",
      "    standard_name:  time\n",
      "    axis:           T\n",
      "    bounds:         waveTimeBounds\n",
      "    comment:        Spectral processing performed on 1600-second samples spec...\n",
      "D:221p1_rt.nc\n",
      "<xarray.DataArray 'waveTime' (waveTime: 18762)>\n",
      "array(['2017-10-05T20:03:45.000000000', '2017-10-05T20:33:45.000000000',\n",
      "       '2017-10-05T21:03:45.000000000', ..., '2018-11-09T20:03:45.000000000',\n",
      "       '2018-11-09T20:33:45.000000000', '2018-11-09T21:03:45.000000000'], dtype='datetime64[ns]')\n",
      "Coordinates:\n",
      "  * waveTime             (waveTime) datetime64[ns] 2017-10-05T20:03:45 ...\n",
      "    metaDeployLatitude   float32 ...\n",
      "    metaDeployLongitude  float32 ...\n",
      "Attributes:\n",
      "    long_name:      UTC sample start time\n",
      "    standard_name:  time\n",
      "    axis:           T\n",
      "    bounds:         waveTimeBounds\n",
      "    comment:        Spectral processing performed on 1600-second samples spec...\n"
     ]
    }
   ],
   "source": [
    "dirname = r'D:'\n",
    "#dirname = r\"D:\\crs\\proj\\2015_Sandwich\\data_proc\\waves_water_levels\"\n",
    "fname = '221p1_historic.nc'\n",
    "fname2 = '221p1_rt.nc'\n",
    "fpath = os.path.join(dirname,fname)\n",
    "print(fpath)\n",
    "ds = xr.open_dataset(fpath,decode_times=True)\n",
    "print(ds['waveTime'])\n",
    "fpath2 = os.path.join(dirname,fname2)\n",
    "print(fpath2)\n",
    "ds2 = xr.open_dataset(fpath2,decode_times=True)\n",
    "print(ds2['waveTime'])\n"
   ]
  },
  {
   "cell_type": "code",
   "execution_count": 3,
   "metadata": {
    "collapsed": true,
    "deletable": true,
    "editable": true
   },
   "outputs": [],
   "source": [
    "# Rich's suggestion (generates error)\n",
    "#ds3 = xr.open_mfdataset([fpath, fpath2])"
   ]
  },
  {
   "cell_type": "code",
   "execution_count": 4,
   "metadata": {
    "collapsed": false,
    "deletable": true,
    "editable": true
   },
   "outputs": [
    {
     "name": "stdout",
     "output_type": "stream",
     "text": [
      "<xarray.Dataset>\n",
      "Dimensions:                     (dwrTime: 24146, gpsTime: 23709, metaBoundsCount: 2, sourceCount: 1, sstTime: 24146, waveFrequency: 64, waveTime: 24145)\n",
      "Coordinates:\n",
      "  * waveTime                    (waveTime) datetime64[ns] 2016-05-20T15:07:45 ...\n",
      "  * waveFrequency               (waveFrequency) float32 0.025 0.03 0.035 ...\n",
      "  * sstTime                     (sstTime) datetime64[ns] 2016-05-20T15:36:45 ...\n",
      "  * gpsTime                     (gpsTime) datetime64[ns] 2016-05-20T15:30:15 ...\n",
      "  * dwrTime                     (dwrTime) datetime64[ns] 2016-05-20T15:07:45 ...\n",
      "    metaStationLatitude         float32 ...\n",
      "    metaStationLongitude        float32 ...\n",
      "Dimensions without coordinates: metaBoundsCount, sourceCount\n",
      "Data variables:\n",
      "    sourceFilename              (sourceCount) object ...\n",
      "    waveTimeBounds              (waveTime, metaBoundsCount) datetime64[ns] ...\n",
      "    waveFlagPrimary             (waveTime) float32 ...\n",
      "    waveFlagSecondary           (waveTime) float32 ...\n",
      "    waveHs                      (waveTime) float32 ...\n",
      "    waveTp                      (waveTime) float32 ...\n",
      "    waveTa                      (waveTime) float32 ...\n",
      "    waveDp                      (waveTime) float32 ...\n",
      "    wavePeakPSD                 (waveTime) float32 ...\n",
      "    waveTz                      (waveTime) float32 ...\n",
      "    waveSourceIndex             (waveTime) float64 ...\n",
      "    waveFrequencyBounds         (waveFrequency, metaBoundsCount) float32 ...\n",
      "    waveFrequencyFlagPrimary    (waveFrequency) float32 ...\n",
      "    waveFrequencyFlagSecondary  (waveFrequency) float32 ...\n",
      "    waveBandwidth               (waveFrequency) float32 ...\n",
      "    waveEnergyDensity           (waveTime, waveFrequency) float32 ...\n",
      "    waveMeanDirection           (waveTime, waveFrequency) float32 ...\n",
      "    waveA1Value                 (waveTime, waveFrequency) float32 ...\n",
      "    waveB1Value                 (waveTime, waveFrequency) float32 ...\n",
      "    waveA2Value                 (waveTime, waveFrequency) float32 ...\n",
      "    waveB2Value                 (waveTime, waveFrequency) float32 ...\n",
      "    waveCheckFactor             (waveTime, waveFrequency) float32 ...\n",
      "    waveSpread                  (waveTime, waveFrequency) float32 ...\n",
      "    waveM2Value                 (waveTime, waveFrequency) float32 ...\n",
      "    waveN2Value                 (waveTime, waveFrequency) float32 ...\n",
      "    sstTimeBounds               (sstTime, metaBoundsCount) datetime64[ns] ...\n",
      "    sstFlagPrimary              (sstTime) float32 ...\n",
      "    sstFlagSecondary            (sstTime) float32 ...\n",
      "    sstSeaSurfaceTemperature    (sstTime) float32 ...\n",
      "    sstSourceIndex              (sstTime) float64 ...\n",
      "    sstReferenceTemp            (sstTime) float32 ...\n",
      "    gpsTimeBounds               (gpsTime, metaBoundsCount) datetime64[ns] ...\n",
      "    gpsStatusFlags              (gpsTime) float32 ...\n",
      "    gpsLatitude                 (gpsTime) float32 ...\n",
      "    gpsLongitude                (gpsTime) float32 ...\n",
      "    gpsSourceIndex              (gpsTime) float64 ...\n",
      "    dwrTimeBounds               (dwrTime, metaBoundsCount) datetime64[ns] ...\n",
      "    dwrSourceIndex              (dwrTime) float64 ...\n",
      "    dwrBatteryLevel             (dwrTime) float64 ...\n",
      "    dwrZAccelerometerOffset     (dwrTime) float32 ...\n",
      "    dwrXAccelerometerOffset     (dwrTime) float32 ...\n",
      "    dwrYAccelerometerOffset     (dwrTime) float32 ...\n",
      "    dwrOrientation              (dwrTime) float32 ...\n",
      "    dwrInclination              (dwrTime) float32 ...\n",
      "    dwrBatteryWeeksOfLife       (dwrTime) float64 ...\n",
      "    metaStationName             |S29 ...\n",
      "    metaPlatform                |S1 ...\n",
      "    metaInstrumentation         |S1 ...\n",
      "    metaDeployLatitude          float32 ...\n",
      "    metaDeployLongitude         float32 ...\n",
      "    metaWaterDepth              float32 ...\n",
      "    metaDeclination             float32 ...\n",
      "    metaGridMapping             |S1 ...\n",
      "Attributes:\n",
      "    naming_authority:                edu.ucsd.cdip\n",
      "    keywords_vocabulary:             Global Change Master Directory (GCMD) Ea...\n",
      "    date_created:                    2018-03-06T00:28:20Z\n",
      "    date_issued:                     2018-03-06T00:28:20Z\n",
      "    date_modified:                   2018-03-06T00:28:20Z\n",
      "    creator_name:                    Coastal Data Information Program, SIO/UCSD\n",
      "    creator_url:                     http://cdip.ucsd.edu\n",
      "    creator_email:                   www@cdip.ucsd.edu\n",
      "    publisher_name:                  Coastal Data Information Program, SIO/UCSD\n",
      "    publisher_url:                   http://cdip.ucsd.edu\n",
      "    publisher_email:                 www@cdip.ucsd.edu\n",
      "    institution:                     Scripps Institution of Oceanography, Uni...\n",
      "    project:                         Coastal Data Information Program (CDIP)\n",
      "    processing_level:                QA/QC information available at http://cd...\n",
      "    standard_name_vocabulary:        CF Standard Name Table (v29, 08 July 2015)\n",
      "    Conventions:                     ACDD-1.3, CF-1.6\n",
      "    license:                         These data may be redistributed and used...\n",
      "    cdm_data_type:                   Station\n",
      "    featureType:                     timeSeries\n",
      "    ncei_template_version:           NCEI_NetCDF_TimeSeries_Orthogonal_Templa...\n",
      "    references:                      http://cdip.ucsd.edu/documentation\n",
      "    uuid:                            0C3D2BE8-3FDF-4BF2-9A53-10A682B449F1\n",
      "    title:                           Wave measurements collected in situ by s...\n",
      "    summary:                         Wave measurements collected in situ by s...\n",
      "    keywords:                        EARTH SCIENCE, OCEANS, OCEAN WAVES, GRAV...\n",
      "    id:                              CDIP_221p1_20160520-20171005_historic\n",
      "    history:                         2018-03-06T00:28:20Z: dataset created; u...\n",
      "    comment:                         Multiple deployments may be included in ...\n",
      "    acknowledgment:                  CDIP is supported by the U.S. Army Corps...\n",
      "    metadata_link:                   http://cdip.ucsd.edu/metadata/221p1\n",
      "    contributor_name:                NERACOOS, USACE/NERACOOS, CDIP\n",
      "    contributor_role:                station operation, station funding, data...\n",
      "    geospatial_lat_min:              41.8384\n",
      "    geospatial_lat_max:              41.841\n",
      "    geospatial_lat_units:            degrees_north\n",
      "    geospatial_lat_resolution:       0.0001\n",
      "    geospatial_lon_min:              -70.3307\n",
      "    geospatial_lon_max:              -70.3272\n",
      "    geospatial_lon_units:            degrees_east\n",
      "    geospatial_lon_resolution:       0.0001\n",
      "    geospatial_vertical_min:         0.0\n",
      "    geospatial_vertical_max:         0.0\n",
      "    geospatial_vertical_units:       meters\n",
      "    geospatial_vertical_origin:      sea surface\n",
      "    geospatial_vertical_positive:    up\n",
      "    geospatial_vertical_resolution:  1.0\n",
      "    time_coverage_start:             2016-05-20T15:07:45Z\n",
      "    time_coverage_end:               2017-10-05T15:37:45Z\n",
      "    time_coverage_duration:          P503DT00H30M\n",
      "    time_coverage_resolution:        PT30M\n",
      "    source:                          insitu observations\n",
      "    platform:                        metaPlatform\n",
      "    instrument:                      metaInstrumentation\n",
      "<xarray.Dataset>\n",
      "Dimensions:                     (dwrTime: 18762, gpsTime: 18762, metaBoundsCount: 2, sourceCount: 18788, sstTime: 18762, waveFrequency: 64, waveTime: 18762)\n",
      "Coordinates:\n",
      "  * waveTime                    (waveTime) datetime64[ns] 2017-10-05T20:03:45 ...\n",
      "  * waveFrequency               (waveFrequency) float32 0.025 0.03 0.035 ...\n",
      "  * sstTime                     (sstTime) datetime64[ns] 2017-10-05T20:32:45 ...\n",
      "  * gpsTime                     (gpsTime) datetime64[ns] 2017-10-05T20:26:15 ...\n",
      "  * dwrTime                     (dwrTime) datetime64[ns] 2017-10-05T20:03:45 ...\n",
      "    metaDeployLatitude          float32 ...\n",
      "    metaDeployLongitude         float32 ...\n",
      "Dimensions without coordinates: metaBoundsCount, sourceCount\n",
      "Data variables:\n",
      "    sourceFilename              (sourceCount) object ...\n",
      "    waveTimeBounds              (waveTime, metaBoundsCount) datetime64[ns] ...\n",
      "    waveFlagPrimary             (waveTime) float32 ...\n",
      "    waveFlagSecondary           (waveTime) float32 ...\n",
      "    waveHs                      (waveTime) float32 ...\n",
      "    waveTp                      (waveTime) float32 ...\n",
      "    waveTa                      (waveTime) float32 ...\n",
      "    waveDp                      (waveTime) float32 ...\n",
      "    wavePeakPSD                 (waveTime) float32 ...\n",
      "    waveTz                      (waveTime) float32 ...\n",
      "    waveSourceIndex             (waveTime) float64 ...\n",
      "    waveFrequencyBounds         (waveFrequency, metaBoundsCount) float32 ...\n",
      "    waveFrequencyFlagPrimary    (waveFrequency) float32 ...\n",
      "    waveFrequencyFlagSecondary  (waveFrequency) float32 ...\n",
      "    waveBandwidth               (waveFrequency) float32 ...\n",
      "    waveEnergyDensity           (waveTime, waveFrequency) float32 ...\n",
      "    waveMeanDirection           (waveTime, waveFrequency) float32 ...\n",
      "    waveA1Value                 (waveTime, waveFrequency) float32 ...\n",
      "    waveB1Value                 (waveTime, waveFrequency) float32 ...\n",
      "    waveA2Value                 (waveTime, waveFrequency) float32 ...\n",
      "    waveB2Value                 (waveTime, waveFrequency) float32 ...\n",
      "    waveCheckFactor             (waveTime, waveFrequency) float32 ...\n",
      "    waveSpread                  (waveTime, waveFrequency) float32 ...\n",
      "    waveM2Value                 (waveTime, waveFrequency) float32 ...\n",
      "    waveN2Value                 (waveTime, waveFrequency) float32 ...\n",
      "    sstTimeBounds               (sstTime, metaBoundsCount) datetime64[ns] ...\n",
      "    sstFlagPrimary              (sstTime) float32 ...\n",
      "    sstFlagSecondary            (sstTime) float32 ...\n",
      "    sstSeaSurfaceTemperature    (sstTime) float32 ...\n",
      "    sstSourceIndex              (sstTime) float64 ...\n",
      "    sstReferenceTemp            (sstTime) float32 ...\n",
      "    gpsTimeBounds               (gpsTime, metaBoundsCount) datetime64[ns] ...\n",
      "    gpsStatusFlags              (gpsTime) float32 ...\n",
      "    gpsLatitude                 (gpsTime) float32 ...\n",
      "    gpsLongitude                (gpsTime) float32 ...\n",
      "    gpsSourceIndex              (gpsTime) float64 ...\n",
      "    dwrTimeBounds               (dwrTime, metaBoundsCount) datetime64[ns] ...\n",
      "    dwrSourceIndex              (dwrTime) float64 ...\n",
      "    dwrBatteryLevel             (dwrTime) float64 ...\n",
      "    dwrZAccelerometerOffset     (dwrTime) float32 ...\n",
      "    dwrXAccelerometerOffset     (dwrTime) float32 ...\n",
      "    dwrYAccelerometerOffset     (dwrTime) float32 ...\n",
      "    dwrOrientation              (dwrTime) float32 ...\n",
      "    dwrInclination              (dwrTime) float32 ...\n",
      "    dwrBatteryWeeksOfLife       (dwrTime) float64 ...\n",
      "    metaStationName             |S29 ...\n",
      "    metaPlatform                |S1 ...\n",
      "    metaInstrumentation         |S1 ...\n",
      "    metaWaterDepth              float32 ...\n",
      "    metaDeclination             float32 ...\n",
      "    metaGridMapping             |S1 ...\n",
      "Attributes:\n",
      "    naming_authority:                edu.ucsd.cdip\n",
      "    keywords_vocabulary:             Global Change Master Directory (GCMD) Ea...\n",
      "    date_created:                    2018-11-09T21:33:22Z\n",
      "    date_issued:                     2018-11-09T21:33:22Z\n",
      "    date_modified:                   2018-11-09T21:33:22Z\n",
      "    creator_name:                    Coastal Data Information Program, SIO/UCSD\n",
      "    creator_url:                     http://cdip.ucsd.edu\n",
      "    creator_email:                   www@cdip.ucsd.edu\n",
      "    publisher_name:                  Coastal Data Information Program, SIO/UCSD\n",
      "    publisher_url:                   http://cdip.ucsd.edu\n",
      "    publisher_email:                 www@cdip.ucsd.edu\n",
      "    institution:                     Scripps Institution of Oceanography, Uni...\n",
      "    project:                         Coastal Data Information Program (CDIP)\n",
      "    processing_level:                QA/QC information available at http://cd...\n",
      "    standard_name_vocabulary:        CF Standard Name Table (v29, 08 July 2015)\n",
      "    Conventions:                     ACDD-1.3, CF-1.6\n",
      "    license:                         These data may be redistributed and used...\n",
      "    cdm_data_type:                   Station\n",
      "    featureType:                     timeSeries\n",
      "    ncei_template_version:           NCEI_NetCDF_TimeSeries_Orthogonal_Templa...\n",
      "    references:                      http://cdip.ucsd.edu/documentation\n",
      "    uuid:                            1042DABB-9DFB-4BAF-94A8-7B91F87F98CA\n",
      "    title:                           Directional wave and sea surface tempera...\n",
      "    summary:                         Directional wave and sea surface tempera...\n",
      "    keywords:                        EARTH SCIENCE, OCEANS, OCEAN WAVES, GRAV...\n",
      "    cdip_station_id:                 221\n",
      "    wmo_id:                          44090\n",
      "    id:                              CDIP_221p1_20171005-20181109\n",
      "    history:                         2018-11-09T21:33:23Z: dataset created; m...\n",
      "    comment:                         This dataset contains data as acquired i...\n",
      "    acknowledgment:                  CDIP is primarily supported by the U.S. ...\n",
      "    metadata_link:                   http://cdip.ucsd.edu/metadata/221p1\n",
      "    contributor_name:                NERACOOS, NERACOOS/USACE, CDIP\n",
      "    contributor_role:                station operation, station funding, data...\n",
      "    geospatial_lat_min:              41.8388\n",
      "    geospatial_lat_max:              41.8414\n",
      "    geospatial_lat_units:            degrees_north\n",
      "    geospatial_lat_resolution:       0.0001\n",
      "    geospatial_lon_min:              -70.3305\n",
      "    geospatial_lon_max:              -70.3269\n",
      "    geospatial_lon_units:            degrees_east\n",
      "    geospatial_lon_resolution:       0.0001\n",
      "    geospatial_vertical_min:         0.0\n",
      "    geospatial_vertical_max:         0.0\n",
      "    geospatial_vertical_units:       meters\n",
      "    geospatial_vertical_origin:      sea surface\n",
      "    geospatial_vertical_positive:    up\n",
      "    geospatial_vertical_resolution:  1.0\n",
      "    time_coverage_start:             2017-10-05T20:03:45Z\n",
      "    time_coverage_end:               2018-11-09T21:30:25Z\n",
      "    time_coverage_duration:          P400DT01H27M\n",
      "    time_coverage_resolution:        PT30M\n",
      "    source:                          insitu observations\n",
      "    platform:                        metaPlatform\n",
      "    instrument:                      metaInstrumentation\n"
     ]
    }
   ],
   "source": [
    "print(ds)\n",
    "print(ds2)"
   ]
  },
  {
   "cell_type": "code",
   "execution_count": 5,
   "metadata": {
    "collapsed": true,
    "deletable": true,
    "editable": true
   },
   "outputs": [],
   "source": [
    "t =  np.concatenate( (ds['waveTime'].values, ds2['waveTime'].values) )\n",
    "Hs = np.concatenate( (ds['waveHs'].values,   ds2['waveHs'].values )  )\n",
    "Tp = np.concatenate( (ds['waveTp'].values,   ds2['waveTp'].values )  )\n",
    "Ta = np.concatenate( (ds['waveTa'].values,   ds2['waveTa'].values )  )\n",
    "Dp = np.concatenate( (ds['waveDp'].values,   ds2['waveDp'].values )  )"
   ]
  },
  {
   "cell_type": "code",
   "execution_count": 6,
   "metadata": {
    "collapsed": false,
    "deletable": true,
    "editable": true
   },
   "outputs": [
    {
     "data": {
      "text/plain": [
       "[<matplotlib.lines.Line2D at 0xae6c630>]"
      ]
     },
     "execution_count": 6,
     "metadata": {},
     "output_type": "execute_result"
    },
    {
     "data": {
      "image/png": "[encoded data removed]",
      "text/plain": [
       "<matplotlib.figure.Figure at 0x3f812b0>"
      ]
     },
     "metadata": {},
     "output_type": "display_data"
    }
   ],
   "source": [
    "plt.plot(t,Hs)"
   ]
  },
  {
   "cell_type": "code",
   "execution_count": 17,
   "metadata": {
    "collapsed": false,
    "deletable": true,
    "editable": true
   },
   "outputs": [
    {
     "name": "stdout",
     "output_type": "stream",
     "text": [
      "(113857,)\n",
      "Type and shape of T:  <class 'numpy.ndarray'> None\n",
      "First time:  01/01/2015 00:00:00\n",
      "Last time :  04/01/2018 00:00:00\n"
     ]
    }
   ],
   "source": [
    "#wl_fpath = r\"D:\\crs\\proj\\2015_Sandwich\\data_proc\\waves_water_levels\"\n",
    "wl_fpath = r\"D:\"\n",
    "fpath3 = os.path.join(wl_fpath,'Sandwidch_WL_surgeplustide_lag.mat')\n",
    "\n",
    "wlevels = scipy.io.loadmat(fpath3)\n",
    "wl = np.squeeze(np.array(wlevels[\"sand_total\"]))\n",
    "T = np.squeeze(np.array(wlevels[\"T\"]))\n",
    "\n",
    "print(\"Type and shape of T: \",type(T),print(np.shape(T)))\n",
    "\n",
    "def matlab_datenum_to_datetime( dn ):\n",
    "    \"\"\"\n",
    "    Convert matlab datenum to array of python datetime objects\n",
    "    \n",
    "    Input:\n",
    "        dn - numpy array of matlab datenums   \n",
    "    Returns:\n",
    "        numpy array of datetime objects\n",
    "    \n",
    "    https://stackoverflow.com/questions/13965740/converting-matlabs-datenum-format-to-python/13965852#13965852\n",
    "    \"\"\"\n",
    "    # loop through and make a list of datetime objects\n",
    "    dtime = [dt.datetime.fromordinal(int(d)-366 ) + dt.timedelta(days=d%1) for d in dn]\n",
    "    # convert to numpy array\n",
    "    # return np.array(dtime)\n",
    "    return dtime\n",
    "\n",
    "dtime = matlab_datenum_to_datetime( T )\n",
    "\n",
    "# Good info on datetime formatting:\n",
    "# https://stackoverflow.com/questions/10624937/convert-datetime-object-to-a-string-of-date-only-in-python\n",
    "print(\"First time: \",'{:%m/%d/%Y %H:%M:%S}'.format(dtime[0]))\n",
    "print(\"Last time : \",'{:%m/%d/%Y %H:%M:%S}'.format(dtime[-1]))"
   ]
  },
  {
   "cell_type": "code",
   "execution_count": 15,
   "metadata": {
    "collapsed": false
   },
   "outputs": [
    {
     "ename": "AttributeError",
     "evalue": "'numpy.ndarray' object has no attribute 'year'",
     "output_type": "error",
     "traceback": [
      "\u001b[1;31m---------------------------------------------------------------------------\u001b[0m",
      "\u001b[1;31mAttributeError\u001b[0m                            Traceback (most recent call last)",
      "\u001b[1;32m<ipython-input-15-39b09fa955b1>\u001b[0m in \u001b[0;36m<module>\u001b[1;34m()\u001b[0m\n\u001b[0;32m      8\u001b[0m     \u001b[1;32mreturn\u001b[0m \u001b[0mmdn\u001b[0m\u001b[1;33m.\u001b[0m\u001b[0mtoordinal\u001b[0m\u001b[1;33m(\u001b[0m\u001b[1;33m)\u001b[0m \u001b[1;33m+\u001b[0m \u001b[0mfrac_seconds\u001b[0m \u001b[1;33m+\u001b[0m \u001b[0mfrac_microseconds\u001b[0m\u001b[1;33m\u001b[0m\u001b[0m\n\u001b[0;32m      9\u001b[0m \u001b[1;33m\u001b[0m\u001b[0m\n\u001b[1;32m---> 10\u001b[1;33m \u001b[0mdn\u001b[0m \u001b[1;33m=\u001b[0m \u001b[0mdatetime2matlabdn\u001b[0m\u001b[1;33m(\u001b[0m\u001b[0mdtime\u001b[0m\u001b[1;33m)\u001b[0m\u001b[1;33m\u001b[0m\u001b[0m\n\u001b[0m\u001b[0;32m     11\u001b[0m \u001b[0mprint\u001b[0m\u001b[1;33m(\u001b[0m\u001b[0mdn\u001b[0m\u001b[1;33m[\u001b[0m\u001b[1;36m0\u001b[0m\u001b[1;33m]\u001b[0m\u001b[1;33m)\u001b[0m\u001b[1;33m\u001b[0m\u001b[0m\n",
      "\u001b[1;32m<ipython-input-15-39b09fa955b1>\u001b[0m in \u001b[0;36mdatetime2matlabdn\u001b[1;34m(dtm)\u001b[0m\n\u001b[0;32m      4\u001b[0m     \"\"\"\n\u001b[0;32m      5\u001b[0m     \u001b[0mmdn\u001b[0m \u001b[1;33m=\u001b[0m \u001b[0mdtm\u001b[0m \u001b[1;33m+\u001b[0m \u001b[0mdt\u001b[0m\u001b[1;33m.\u001b[0m\u001b[0mtimedelta\u001b[0m\u001b[1;33m(\u001b[0m\u001b[0mdays\u001b[0m \u001b[1;33m=\u001b[0m \u001b[1;36m366\u001b[0m\u001b[1;33m)\u001b[0m\u001b[1;33m\u001b[0m\u001b[0m\n\u001b[1;32m----> 6\u001b[1;33m     \u001b[0mfrac_seconds\u001b[0m \u001b[1;33m=\u001b[0m \u001b[1;33m(\u001b[0m\u001b[0mdtm\u001b[0m\u001b[1;33m-\u001b[0m\u001b[0mdt\u001b[0m\u001b[1;33m.\u001b[0m\u001b[0mdatetime\u001b[0m\u001b[1;33m(\u001b[0m\u001b[0mdtm\u001b[0m\u001b[1;33m.\u001b[0m\u001b[0myear\u001b[0m\u001b[1;33m,\u001b[0m\u001b[0mdtm\u001b[0m\u001b[1;33m.\u001b[0m\u001b[0mmonth\u001b[0m\u001b[1;33m,\u001b[0m\u001b[0mdtm\u001b[0m\u001b[1;33m.\u001b[0m\u001b[0mday\u001b[0m\u001b[1;33m,\u001b[0m\u001b[1;36m0\u001b[0m\u001b[1;33m,\u001b[0m\u001b[1;36m0\u001b[0m\u001b[1;33m,\u001b[0m\u001b[1;36m0\u001b[0m\u001b[1;33m)\u001b[0m\u001b[1;33m)\u001b[0m\u001b[1;33m.\u001b[0m\u001b[0mseconds\u001b[0m \u001b[1;33m/\u001b[0m \u001b[1;33m(\u001b[0m\u001b[1;36m24.0\u001b[0m \u001b[1;33m*\u001b[0m \u001b[1;36m60.0\u001b[0m \u001b[1;33m*\u001b[0m \u001b[1;36m60.0\u001b[0m\u001b[1;33m)\u001b[0m\u001b[1;33m\u001b[0m\u001b[0m\n\u001b[0m\u001b[0;32m      7\u001b[0m     \u001b[0mfrac_microseconds\u001b[0m \u001b[1;33m=\u001b[0m \u001b[0mdtm\u001b[0m\u001b[1;33m.\u001b[0m\u001b[0mmicrosecond\u001b[0m \u001b[1;33m/\u001b[0m \u001b[1;33m(\u001b[0m\u001b[1;36m24.0\u001b[0m \u001b[1;33m*\u001b[0m \u001b[1;36m60.0\u001b[0m \u001b[1;33m*\u001b[0m \u001b[1;36m60.0\u001b[0m \u001b[1;33m*\u001b[0m \u001b[1;36m1000000.0\u001b[0m\u001b[1;33m)\u001b[0m\u001b[1;33m\u001b[0m\u001b[0m\n\u001b[0;32m      8\u001b[0m     \u001b[1;32mreturn\u001b[0m \u001b[0mmdn\u001b[0m\u001b[1;33m.\u001b[0m\u001b[0mtoordinal\u001b[0m\u001b[1;33m(\u001b[0m\u001b[1;33m)\u001b[0m \u001b[1;33m+\u001b[0m \u001b[0mfrac_seconds\u001b[0m \u001b[1;33m+\u001b[0m \u001b[0mfrac_microseconds\u001b[0m\u001b[1;33m\u001b[0m\u001b[0m\n",
      "\u001b[1;31mAttributeError\u001b[0m: 'numpy.ndarray' object has no attribute 'year'"
     ]
    }
   ],
   "source": [
    "def datetime2matlabdn(dtm):\n",
    "    \"\"\"\n",
    "    https://stackoverflow.com/questions/8776414/python-datetime-to-matlab-datenum\n",
    "    \"\"\"\n",
    "    mdn = dtm + dt.timedelta(days = 366)\n",
    "    frac_seconds = (dtm-dt.datetime(dtm.year,dtm.month,dtm.day,0,0,0)).seconds / (24.0 * 60.0 * 60.0)\n",
    "    frac_microseconds = dtm.microsecond / (24.0 * 60.0 * 60.0 * 1000000.0)\n",
    "    return mdn.toordinal() + frac_seconds + frac_microseconds\n",
    "\n",
    "dn = datetime2matlabdn(dtime)\n",
    "print(dn[0])"
   ]
  },
  {
   "cell_type": "code",
   "execution_count": 16,
   "metadata": {
    "collapsed": false
   },
   "outputs": [
    {
     "name": "stdout",
     "output_type": "stream",
     "text": [
      "<class 'numpy.ndarray'>\n"
     ]
    }
   ],
   "source": [
    "print(type(dtime))"
   ]
  },
  {
   "cell_type": "code",
   "execution_count": null,
   "metadata": {
    "collapsed": false,
    "deletable": true,
    "editable": true
   },
   "outputs": [],
   "source": [
    "plt.plot(dtime,wl)"
   ]
  },
  {
   "cell_type": "code",
   "execution_count": null,
   "metadata": {
    "collapsed": true,
    "deletable": true,
    "editable": true
   },
   "outputs": [],
   "source": [
    "# interpolate"
   ]
  }
 ],
 "metadata": {
  "kernelspec": {
   "display_name": "Python [default]",
   "language": "python",
   "name": "python3"
  },
  "language_info": {
   "codemirror_mode": {
    "name": "ipython",
    "version": 3
   },
   "file_extension": ".py",
   "mimetype": "text/x-python",
   "name": "python",
   "nbconvert_exporter": "python",
   "pygments_lexer": "ipython3",
   "version": "3.6.0"
  }
 },
 "nbformat": 4,
 "nbformat_minor": 2
}
