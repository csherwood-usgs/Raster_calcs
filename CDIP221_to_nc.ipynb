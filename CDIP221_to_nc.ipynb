{
 "cells": [
  {
   "cell_type": "code",
   "execution_count": 1,
   "metadata": {},
   "outputs": [],
   "source": [
    "# load and concatenate waverider data\n",
    "import numpy as np\n",
    "import  json\n",
    "import datetime as dt\n",
    "import matplotlib.pyplot as plt\n",
    "import xarray as xr\n",
    "import netCDF4\n",
    "import os\n",
    "import pandas as pd\n",
    "import scipy.io\n",
    "from IPython.display import display, HTML\n",
    "#from scipy import interpolate, signal\n",
    "#from astropy.convolution import convolve, Gaussian1DKernel, Box1DKernel\n",
    "%matplotlib inline"
   ]
  },
  {
   "cell_type": "code",
   "execution_count": 28,
   "metadata": {},
   "outputs": [
    {
     "name": "stdout",
     "output_type": "stream",
     "text": [
      "D:\\crs\\proj\\2015_Sandwich\\data_proc\\waves_water_levels\\221p1_historic.nc\n",
      "<xarray.DataArray 'waveTime' (waveTime: 24145)>\n",
      "array([1463756865, 1463758665, 1463760465, ..., 1507214265, 1507216065,\n",
      "       1507217865])\n",
      "Coordinates:\n",
      "  * waveTime              (waveTime) int32 1463756865 1463758665 1463760465 ...\n",
      "    metaStationLatitude   float32 ...\n",
      "    metaStationLongitude  float32 ...\n",
      "Attributes:\n",
      "    long_name:      UTC sample start time\n",
      "    standard_name:  time\n",
      "    units:          seconds since 1970-01-01 00:00:00 UTC\n",
      "    calendar:       standard\n",
      "    axis:           T\n",
      "    bounds:         waveTimeBounds\n",
      "    comment:        Spectral processing performed on 1600-second samples spec...\n",
      "D:\\crs\\proj\\2015_Sandwich\\data_proc\\waves_water_levels\\221p1_rt.nc\n",
      "<xarray.DataArray 'waveTime' (waveTime: 18762)>\n",
      "array([1507233825, 1507235625, 1507237425, ..., 1541793825, 1541795625,\n",
      "       1541797425])\n",
      "Coordinates:\n",
      "  * waveTime             (waveTime) int32 1507233825 1507235625 1507237425 ...\n",
      "    metaDeployLatitude   float32 ...\n",
      "    metaDeployLongitude  float32 ...\n",
      "Attributes:\n",
      "    long_name:      UTC sample start time\n",
      "    standard_name:  time\n",
      "    units:          seconds since 1970-01-01 00:00:00 UTC\n",
      "    calendar:       standard\n",
      "    axis:           T\n",
      "    bounds:         waveTimeBounds\n",
      "    comment:        Spectral processing performed on 1600-second samples spec...\n"
     ]
    }
   ],
   "source": [
    "#dirname = r'D:'\n",
    "dirname = r\"D:\\crs\\proj\\2015_Sandwich\\data_proc\\waves_water_levels\"\n",
    "fname = '221p1_historic.nc'\n",
    "fname2 = '221p1_rt.nc'\n",
    "fpath = os.path.join(dirname,fname)\n",
    "print(fpath)\n",
    "ds = xr.open_dataset(fpath,decode_times=False)\n",
    "print(ds['waveTime'])\n",
    "fpath2 = os.path.join(dirname,fname2)\n",
    "print(fpath2)\n",
    "ds2 = xr.open_dataset(fpath2,decode_times=False)\n",
    "print(ds2['waveTime'])"
   ]
  },
  {
   "cell_type": "markdown",
   "metadata": {},
   "source": [
    "#read in times with decode...results in datetime64 objects\n",
    "#dirname = r'D:'\n",
    "dirname = r\"D:\\crs\\proj\\2015_Sandwich\\data_proc\\waves_water_levels\"\n",
    "fname = '221p1_historic.nc'\n",
    "fname2 = '221p1_rt.nc'\n",
    "fpath = os.path.join(dirname,fname)\n",
    "print(fpath)\n",
    "ds = xr.open_dataset(fpath,decode_times=True)\n",
    "print(ds['waveTime'])\n",
    "fpath2 = os.path.join(dirname,fname2)\n",
    "print(fpath2)\n",
    "ds2 = xr.open_dataset(fpath2,decode_times=True)\n",
    "print(ds2['waveTime'])\n"
   ]
  },
  {
   "cell_type": "code",
   "execution_count": 3,
   "metadata": {},
   "outputs": [],
   "source": [
    "# Rich's suggestion (generates error)\n",
    "#ds3 = xr.open_mfdataset([fpath, fpath2])"
   ]
  },
  {
   "cell_type": "code",
   "execution_count": 4,
   "metadata": {},
   "outputs": [
    {
     "name": "stdout",
     "output_type": "stream",
     "text": [
      "<xarray.Dataset>\n",
      "Dimensions:                     (dwrTime: 24146, gpsTime: 23709, metaBoundsCount: 2, sourceCount: 1, sstTime: 24146, waveFrequency: 64, waveTime: 24145)\n",
      "Coordinates:\n",
      "  * waveTime                    (waveTime) datetime64[ns] 2016-05-20T15:07:45 ...\n",
      "  * waveFrequency               (waveFrequency) float32 0.025 0.03 0.035 ...\n",
      "  * sstTime                     (sstTime) datetime64[ns] 2016-05-20T15:36:45 ...\n",
      "  * gpsTime                     (gpsTime) datetime64[ns] 2016-05-20T15:30:15 ...\n",
      "  * dwrTime                     (dwrTime) datetime64[ns] 2016-05-20T15:07:45 ...\n",
      "    metaStationLatitude         float32 ...\n",
      "    metaStationLongitude        float32 ...\n",
      "Dimensions without coordinates: metaBoundsCount, sourceCount\n",
      "Data variables:\n",
      "    sourceFilename              (sourceCount) object ...\n",
      "    waveTimeBounds              (waveTime, metaBoundsCount) datetime64[ns] ...\n",
      "    waveFlagPrimary             (waveTime) float32 ...\n",
      "    waveFlagSecondary           (waveTime) float32 ...\n",
      "    waveHs                      (waveTime) float32 ...\n",
      "    waveTp                      (waveTime) float32 ...\n",
      "    waveTa                      (waveTime) float32 ...\n",
      "    waveDp                      (waveTime) float32 ...\n",
      "    wavePeakPSD                 (waveTime) float32 ...\n",
      "    waveTz                      (waveTime) float32 ...\n",
      "    waveSourceIndex             (waveTime) float64 ...\n",
      "    waveFrequencyBounds         (waveFrequency, metaBoundsCount) float32 ...\n",
      "    waveFrequencyFlagPrimary    (waveFrequency) float32 ...\n",
      "    waveFrequencyFlagSecondary  (waveFrequency) float32 ...\n",
      "    waveBandwidth               (waveFrequency) float32 ...\n",
      "    waveEnergyDensity           (waveTime, waveFrequency) float32 ...\n",
      "    waveMeanDirection           (waveTime, waveFrequency) float32 ...\n",
      "    waveA1Value                 (waveTime, waveFrequency) float32 ...\n",
      "    waveB1Value                 (waveTime, waveFrequency) float32 ...\n",
      "    waveA2Value                 (waveTime, waveFrequency) float32 ...\n",
      "    waveB2Value                 (waveTime, waveFrequency) float32 ...\n",
      "    waveCheckFactor             (waveTime, waveFrequency) float32 ...\n",
      "    waveSpread                  (waveTime, waveFrequency) float32 ...\n",
      "    waveM2Value                 (waveTime, waveFrequency) float32 ...\n",
      "    waveN2Value                 (waveTime, waveFrequency) float32 ...\n",
      "    sstTimeBounds               (sstTime, metaBoundsCount) datetime64[ns] ...\n",
      "    sstFlagPrimary              (sstTime) float32 ...\n",
      "    sstFlagSecondary            (sstTime) float32 ...\n",
      "    sstSeaSurfaceTemperature    (sstTime) float32 ...\n",
      "    sstSourceIndex              (sstTime) float64 ...\n",
      "    sstReferenceTemp            (sstTime) float32 ...\n",
      "    gpsTimeBounds               (gpsTime, metaBoundsCount) datetime64[ns] ...\n",
      "    gpsStatusFlags              (gpsTime) float32 ...\n",
      "    gpsLatitude                 (gpsTime) float32 ...\n",
      "    gpsLongitude                (gpsTime) float32 ...\n",
      "    gpsSourceIndex              (gpsTime) float64 ...\n",
      "    dwrTimeBounds               (dwrTime, metaBoundsCount) datetime64[ns] ...\n",
      "    dwrSourceIndex              (dwrTime) float64 ...\n",
      "    dwrBatteryLevel             (dwrTime) float64 ...\n",
      "    dwrZAccelerometerOffset     (dwrTime) float32 ...\n",
      "    dwrXAccelerometerOffset     (dwrTime) float32 ...\n",
      "    dwrYAccelerometerOffset     (dwrTime) float32 ...\n",
      "    dwrOrientation              (dwrTime) float32 ...\n",
      "    dwrInclination              (dwrTime) float32 ...\n",
      "    dwrBatteryWeeksOfLife       (dwrTime) float64 ...\n",
      "    metaStationName             |S29 ...\n",
      "    metaPlatform                |S1 ...\n",
      "    metaInstrumentation         |S1 ...\n",
      "    metaDeployLatitude          float32 ...\n",
      "    metaDeployLongitude         float32 ...\n",
      "    metaWaterDepth              float32 ...\n",
      "    metaDeclination             float32 ...\n",
      "    metaGridMapping             |S1 ...\n",
      "Attributes:\n",
      "    naming_authority:                edu.ucsd.cdip\n",
      "    keywords_vocabulary:             Global Change Master Directory (GCMD) Ea...\n",
      "    date_created:                    2018-03-06T00:28:20Z\n",
      "    date_issued:                     2018-03-06T00:28:20Z\n",
      "    date_modified:                   2018-03-06T00:28:20Z\n",
      "    creator_name:                    Coastal Data Information Program, SIO/UCSD\n",
      "    creator_url:                     http://cdip.ucsd.edu\n",
      "    creator_email:                   www@cdip.ucsd.edu\n",
      "    publisher_name:                  Coastal Data Information Program, SIO/UCSD\n",
      "    publisher_url:                   http://cdip.ucsd.edu\n",
      "    publisher_email:                 www@cdip.ucsd.edu\n",
      "    institution:                     Scripps Institution of Oceanography, Uni...\n",
      "    project:                         Coastal Data Information Program (CDIP)\n",
      "    processing_level:                QA/QC information available at http://cd...\n",
      "    standard_name_vocabulary:        CF Standard Name Table (v29, 08 July 2015)\n",
      "    Conventions:                     ACDD-1.3, CF-1.6\n",
      "    license:                         These data may be redistributed and used...\n",
      "    cdm_data_type:                   Station\n",
      "    featureType:                     timeSeries\n",
      "    ncei_template_version:           NCEI_NetCDF_TimeSeries_Orthogonal_Templa...\n",
      "    references:                      http://cdip.ucsd.edu/documentation\n",
      "    uuid:                            0C3D2BE8-3FDF-4BF2-9A53-10A682B449F1\n",
      "    title:                           Wave measurements collected in situ by s...\n",
      "    summary:                         Wave measurements collected in situ by s...\n",
      "    keywords:                        EARTH SCIENCE, OCEANS, OCEAN WAVES, GRAV...\n",
      "    id:                              CDIP_221p1_20160520-20171005_historic\n",
      "    history:                         2018-03-06T00:28:20Z: dataset created; u...\n",
      "    comment:                         Multiple deployments may be included in ...\n",
      "    acknowledgment:                  CDIP is supported by the U.S. Army Corps...\n",
      "    metadata_link:                   http://cdip.ucsd.edu/metadata/221p1\n",
      "    contributor_name:                NERACOOS, USACE/NERACOOS, CDIP\n",
      "    contributor_role:                station operation, station funding, data...\n",
      "    geospatial_lat_min:              41.8384\n",
      "    geospatial_lat_max:              41.841\n",
      "    geospatial_lat_units:            degrees_north\n",
      "    geospatial_lat_resolution:       0.0001\n",
      "    geospatial_lon_min:              -70.3307\n",
      "    geospatial_lon_max:              -70.3272\n",
      "    geospatial_lon_units:            degrees_east\n",
      "    geospatial_lon_resolution:       0.0001\n",
      "    geospatial_vertical_min:         0.0\n",
      "    geospatial_vertical_max:         0.0\n",
      "    geospatial_vertical_units:       meters\n",
      "    geospatial_vertical_origin:      sea surface\n",
      "    geospatial_vertical_positive:    up\n",
      "    geospatial_vertical_resolution:  1.0\n",
      "    time_coverage_start:             2016-05-20T15:07:45Z\n",
      "    time_coverage_end:               2017-10-05T15:37:45Z\n",
      "    time_coverage_duration:          P503DT00H30M\n",
      "    time_coverage_resolution:        PT30M\n",
      "    source:                          insitu observations\n",
      "    platform:                        metaPlatform\n",
      "    instrument:                      metaInstrumentation\n",
      "<xarray.Dataset>\n",
      "Dimensions:                     (dwrTime: 18762, gpsTime: 18762, metaBoundsCount: 2, sourceCount: 18788, sstTime: 18762, waveFrequency: 64, waveTime: 18762)\n",
      "Coordinates:\n",
      "  * waveTime                    (waveTime) datetime64[ns] 2017-10-05T20:03:45 ...\n",
      "  * waveFrequency               (waveFrequency) float32 0.025 0.03 0.035 ...\n",
      "  * sstTime                     (sstTime) datetime64[ns] 2017-10-05T20:32:45 ...\n",
      "  * gpsTime                     (gpsTime) datetime64[ns] 2017-10-05T20:26:15 ...\n",
      "  * dwrTime                     (dwrTime) datetime64[ns] 2017-10-05T20:03:45 ...\n",
      "    metaDeployLatitude          float32 ...\n",
      "    metaDeployLongitude         float32 ...\n",
      "Dimensions without coordinates: metaBoundsCount, sourceCount\n",
      "Data variables:\n",
      "    sourceFilename              (sourceCount) object ...\n",
      "    waveTimeBounds              (waveTime, metaBoundsCount) datetime64[ns] ...\n",
      "    waveFlagPrimary             (waveTime) float32 ...\n",
      "    waveFlagSecondary           (waveTime) float32 ...\n",
      "    waveHs                      (waveTime) float32 ...\n",
      "    waveTp                      (waveTime) float32 ...\n",
      "    waveTa                      (waveTime) float32 ...\n",
      "    waveDp                      (waveTime) float32 ...\n",
      "    wavePeakPSD                 (waveTime) float32 ...\n",
      "    waveTz                      (waveTime) float32 ...\n",
      "    waveSourceIndex             (waveTime) float64 ...\n",
      "    waveFrequencyBounds         (waveFrequency, metaBoundsCount) float32 ...\n",
      "    waveFrequencyFlagPrimary    (waveFrequency) float32 ...\n",
      "    waveFrequencyFlagSecondary  (waveFrequency) float32 ...\n",
      "    waveBandwidth               (waveFrequency) float32 ...\n",
      "    waveEnergyDensity           (waveTime, waveFrequency) float32 ...\n",
      "    waveMeanDirection           (waveTime, waveFrequency) float32 ...\n",
      "    waveA1Value                 (waveTime, waveFrequency) float32 ...\n",
      "    waveB1Value                 (waveTime, waveFrequency) float32 ...\n",
      "    waveA2Value                 (waveTime, waveFrequency) float32 ...\n",
      "    waveB2Value                 (waveTime, waveFrequency) float32 ...\n",
      "    waveCheckFactor             (waveTime, waveFrequency) float32 ...\n",
      "    waveSpread                  (waveTime, waveFrequency) float32 ...\n",
      "    waveM2Value                 (waveTime, waveFrequency) float32 ...\n",
      "    waveN2Value                 (waveTime, waveFrequency) float32 ...\n",
      "    sstTimeBounds               (sstTime, metaBoundsCount) datetime64[ns] ...\n",
      "    sstFlagPrimary              (sstTime) float32 ...\n",
      "    sstFlagSecondary            (sstTime) float32 ...\n",
      "    sstSeaSurfaceTemperature    (sstTime) float32 ...\n",
      "    sstSourceIndex              (sstTime) float64 ...\n",
      "    sstReferenceTemp            (sstTime) float32 ...\n",
      "    gpsTimeBounds               (gpsTime, metaBoundsCount) datetime64[ns] ...\n",
      "    gpsStatusFlags              (gpsTime) float32 ...\n",
      "    gpsLatitude                 (gpsTime) float32 ...\n",
      "    gpsLongitude                (gpsTime) float32 ...\n",
      "    gpsSourceIndex              (gpsTime) float64 ...\n",
      "    dwrTimeBounds               (dwrTime, metaBoundsCount) datetime64[ns] ...\n",
      "    dwrSourceIndex              (dwrTime) float64 ...\n",
      "    dwrBatteryLevel             (dwrTime) float64 ...\n",
      "    dwrZAccelerometerOffset     (dwrTime) float32 ...\n",
      "    dwrXAccelerometerOffset     (dwrTime) float32 ...\n",
      "    dwrYAccelerometerOffset     (dwrTime) float32 ...\n",
      "    dwrOrientation              (dwrTime) float32 ...\n",
      "    dwrInclination              (dwrTime) float32 ...\n",
      "    dwrBatteryWeeksOfLife       (dwrTime) float64 ...\n",
      "    metaStationName             |S29 ...\n",
      "    metaPlatform                |S1 ...\n",
      "    metaInstrumentation         |S1 ...\n",
      "    metaWaterDepth              float32 ...\n",
      "    metaDeclination             float32 ...\n",
      "    metaGridMapping             |S1 ...\n",
      "Attributes:\n",
      "    naming_authority:                edu.ucsd.cdip\n",
      "    keywords_vocabulary:             Global Change Master Directory (GCMD) Ea...\n",
      "    date_created:                    2018-11-09T21:33:22Z\n",
      "    date_issued:                     2018-11-09T21:33:22Z\n",
      "    date_modified:                   2018-11-09T21:33:22Z\n",
      "    creator_name:                    Coastal Data Information Program, SIO/UCSD\n",
      "    creator_url:                     http://cdip.ucsd.edu\n",
      "    creator_email:                   www@cdip.ucsd.edu\n",
      "    publisher_name:                  Coastal Data Information Program, SIO/UCSD\n",
      "    publisher_url:                   http://cdip.ucsd.edu\n",
      "    publisher_email:                 www@cdip.ucsd.edu\n",
      "    institution:                     Scripps Institution of Oceanography, Uni...\n",
      "    project:                         Coastal Data Information Program (CDIP)\n",
      "    processing_level:                QA/QC information available at http://cd...\n",
      "    standard_name_vocabulary:        CF Standard Name Table (v29, 08 July 2015)\n",
      "    Conventions:                     ACDD-1.3, CF-1.6\n",
      "    license:                         These data may be redistributed and used...\n",
      "    cdm_data_type:                   Station\n",
      "    featureType:                     timeSeries\n",
      "    ncei_template_version:           NCEI_NetCDF_TimeSeries_Orthogonal_Templa...\n",
      "    references:                      http://cdip.ucsd.edu/documentation\n",
      "    uuid:                            1042DABB-9DFB-4BAF-94A8-7B91F87F98CA\n",
      "    title:                           Directional wave and sea surface tempera...\n",
      "    summary:                         Directional wave and sea surface tempera...\n",
      "    keywords:                        EARTH SCIENCE, OCEANS, OCEAN WAVES, GRAV...\n",
      "    cdip_station_id:                 221\n",
      "    wmo_id:                          44090\n",
      "    id:                              CDIP_221p1_20171005-20181109\n",
      "    history:                         2018-11-09T21:33:23Z: dataset created; m...\n",
      "    comment:                         This dataset contains data as acquired i...\n",
      "    acknowledgment:                  CDIP is primarily supported by the U.S. ...\n",
      "    metadata_link:                   http://cdip.ucsd.edu/metadata/221p1\n",
      "    contributor_name:                NERACOOS, NERACOOS/USACE, CDIP\n",
      "    contributor_role:                station operation, station funding, data...\n",
      "    geospatial_lat_min:              41.8388\n",
      "    geospatial_lat_max:              41.8414\n",
      "    geospatial_lat_units:            degrees_north\n",
      "    geospatial_lat_resolution:       0.0001\n",
      "    geospatial_lon_min:              -70.3305\n",
      "    geospatial_lon_max:              -70.3269\n",
      "    geospatial_lon_units:            degrees_east\n",
      "    geospatial_lon_resolution:       0.0001\n",
      "    geospatial_vertical_min:         0.0\n",
      "    geospatial_vertical_max:         0.0\n",
      "    geospatial_vertical_units:       meters\n",
      "    geospatial_vertical_origin:      sea surface\n",
      "    geospatial_vertical_positive:    up\n",
      "    geospatial_vertical_resolution:  1.0\n",
      "    time_coverage_start:             2017-10-05T20:03:45Z\n",
      "    time_coverage_end:               2018-11-09T21:30:25Z\n",
      "    time_coverage_duration:          P400DT01H27M\n",
      "    time_coverage_resolution:        PT30M\n",
      "    source:                          insitu observations\n",
      "    platform:                        metaPlatform\n",
      "    instrument:                      metaInstrumentation\n"
     ]
    }
   ],
   "source": [
    "print(ds)\n",
    "print(ds2)"
   ]
  },
  {
   "cell_type": "markdown",
   "metadata": {},
   "source": [
    "### Concatenate the two parts of the time series\n",
    "This is a manual way to do it, producing np arrays, and not taking advantage of dask."
   ]
  },
  {
   "cell_type": "code",
   "execution_count": 32,
   "metadata": {},
   "outputs": [],
   "source": [
    "# if imported with\n",
    "# dtm64 =  np.concatenate( (ds['waveTime'].values, ds2['waveTime'].values) )\n",
    "# if imported as seconds since 1970-01-01 00:00:00 UTC, add offset to convert to Matlab times \n",
    "dn = 719529.0 + 1./(24.*3600.) * np.concatenate( (ds['waveTime'].values, ds2['waveTime'].values) )\n",
    "Hs = np.concatenate( (ds['waveHs'].values,   ds2['waveHs'].values )  )\n",
    "Tp = np.concatenate( (ds['waveTp'].values,   ds2['waveTp'].values )  )\n",
    "Ta = np.concatenate( (ds['waveTa'].values,   ds2['waveTa'].values )  )\n",
    "Dp = np.concatenate( (ds['waveDp'].values,   ds2['waveDp'].values )  )"
   ]
  },
  {
   "cell_type": "code",
   "execution_count": 33,
   "metadata": {},
   "outputs": [
    {
     "data": {
      "text/plain": [
       "[<matplotlib.lines.Line2D at 0x266b10cd898>]"
      ]
     },
     "execution_count": 33,
     "metadata": {},
     "output_type": "execute_result"
    },
    {
     "data": {
      "image/png": "[encoded data removed]",
      "text/plain": [
       "<Figure size 432x288 with 1 Axes>"
      ]
     },
     "metadata": {},
     "output_type": "display_data"
    }
   ],
   "source": [
    "plt.plot(dn,Hs)"
   ]
  },
  {
   "cell_type": "markdown",
   "metadata": {},
   "source": [
    "### Functions to convert between Matlab datenum and Python datetime\n"
   ]
  },
  {
   "cell_type": "code",
   "execution_count": 7,
   "metadata": {},
   "outputs": [],
   "source": [
    "def matlabdn2datetime( dn ):\n",
    "    \"\"\"\n",
    "    Convert array of matlab datenum floats to list of python datetime objects\n",
    "    \n",
    "    Inverse of datetime2matlabdn\n",
    "    \n",
    "    Input:\n",
    "        dn - numpy array of matlab datenum floats   \n",
    "    Returns:\n",
    "        dtm - numpy array of datetime objects\n",
    "        \n",
    "    Requires:\n",
    "        import datetime as dt\n",
    "    \n",
    "    https://stackoverflow.com/questions/13965740/converting-matlabs-datenum-format-to-python/13965852#13965852\n",
    "    \"\"\"\n",
    "    # loop through and make a list of datetime objects\n",
    "    dtm = [dt.datetime.fromordinal(int(d)-366 ) + dt.timedelta(days=d%1) for d in dn]\n",
    "    \n",
    "    # convert to numpy array\n",
    "    return np.array(dtm)\n",
    "\n",
    "def datetime2matlabdn(dtm):\n",
    "    \"\"\"\n",
    "    Convert python datetime to matlab datenum \n",
    "    \n",
    "    Inverse of matlabdn2datetime\n",
    "    \n",
    "    Input:\n",
    "        dtm - numpy array of matlab datenums (floats)   \n",
    "    Returns:\n",
    "        dtm - numpy array of python datetime objects\n",
    "        \n",
    "    Requires:\n",
    "        import datetime as dt\n",
    " \n",
    "    https://stackoverflow.com/questions/8776414/python-datetime-to-matlab-datenum\n",
    "    \"\"\"\n",
    "    dn = []\n",
    "    for dtmi in dtm:\n",
    "        ord = dtmi.toordinal()\n",
    "        mdn = dtmi + dt.timedelta(days = 366)\n",
    "        frac = (dtmi-dt.datetime(dtmi.year,dtmi.month,dtmi.day,0,0,0)).seconds / (24.0 * 60.0 * 60.0)\n",
    "        dn.append( mdn.toordinal()+frac )\n",
    "        \n",
    "    # convert to numpy array\n",
    "    return np.array(dn)"
   ]
  },
  {
   "cell_type": "code",
   "execution_count": 37,
   "metadata": {},
   "outputs": [
    {
     "name": "stdout",
     "output_type": "stream",
     "text": [
      "First time:  05/20/2016 15:07:45\n",
      "Last time :  11/09/2018 21:03:44\n"
     ]
    },
    {
     "data": {
      "text/plain": [
       "[<matplotlib.lines.Line2D at 0x266b20c8fd0>]"
      ]
     },
     "execution_count": 37,
     "metadata": {},
     "output_type": "execute_result"
    },
    {
     "data": {
      "image/png": "[encoded data removed]",
      "text/plain": [
       "<Figure size 432x288 with 1 Axes>"
      ]
     },
     "metadata": {},
     "output_type": "display_data"
    }
   ],
   "source": [
    "dtm = matlabdn2datetime( dn )\n",
    "print(\"First time: \",'{:%m/%d/%Y %H:%M:%S}'.format(dtm[0]))\n",
    "print(\"Last time : \",'{:%m/%d/%Y %H:%M:%S}'.format(dtm[-1]))\n",
    "plt.plot(dtm,Hs)"
   ]
  },
  {
   "cell_type": "markdown",
   "metadata": {},
   "source": [
    "### Load the Matlab data file of Sandwich water level that Alfredo made"
   ]
  },
  {
   "cell_type": "code",
   "execution_count": 8,
   "metadata": {},
   "outputs": [
    {
     "name": "stdout",
     "output_type": "stream",
     "text": [
      "(113857,)\n",
      "Type and shape of T:  <class 'numpy.ndarray'> None\n"
     ]
    }
   ],
   "source": [
    "wl_fpath = r\"D:\\crs\\proj\\2015_Sandwich\\data_proc\\waves_water_levels\"\n",
    "#wl_fpath = r\"D:\"\n",
    "fpath3 = os.path.join(wl_fpath,'Sandwidch_WL_surgeplustide_lag.mat')\n",
    "\n",
    "wlevels = scipy.io.loadmat(fpath3)\n",
    "wl = np.squeeze(np.array(wlevels[\"sand_total\"]))\n",
    "T = np.squeeze(np.array(wlevels[\"T\"]))\n",
    "\n",
    "print(\"Type and shape of T: \",type(T),print(np.shape(T)))\n",
    "\n",
    "# This is how we would convert to datetime, but instead, we will interpolate using Matlab datetimes\n",
    "# dtime = matlabdn2datetime( T )\n",
    "# # Good info on datetime formatting:\n",
    "# # https://stackoverflow.com/questions/10624937/convert-datetime-object-to-a-string-of-date-only-in-python\n",
    "# print(\"First time: \",'{:%m/%d/%Y %H:%M:%S}'.format(dtime[0]))\n",
    "# print(\"Last time : \",'{:%m/%d/%Y %H:%M:%S}'.format(dtime[-1]))"
   ]
  },
  {
   "cell_type": "code",
   "execution_count": 41,
   "metadata": {},
   "outputs": [
    {
     "name": "stdout",
     "output_type": "stream",
     "text": [
      "(113857,) (113857,) (42907,)\n"
     ]
    }
   ],
   "source": [
    "# Now interpolate water level onto wave times\n",
    "print(np.shape(T),np.shape(wl),np.shape(dn))\n",
    "wli = np.interp( dn, T, wl )\n"
   ]
  },
  {
   "cell_type": "code",
   "execution_count": null,
   "metadata": {},
   "outputs": [],
   "source": []
  },
  {
   "cell_type": "code",
   "execution_count": 43,
   "metadata": {},
   "outputs": [
    {
     "data": {
      "text/plain": [
       "[<matplotlib.lines.Line2D at 0x266af27e198>]"
      ]
     },
     "execution_count": 43,
     "metadata": {},
     "output_type": "execute_result"
    },
    {
     "data": {
      "image/png": "[encoded data removed]",
      "text/plain": [
       "<Figure size 432x288 with 1 Axes>"
      ]
     },
     "metadata": {},
     "output_type": "display_data"
    }
   ],
   "source": [
    "plt.plot(dtm,wli)\n"
   ]
  },
  {
   "cell_type": "code",
   "execution_count": 70,
   "metadata": {},
   "outputs": [
    {
     "name": "stdout",
     "output_type": "stream",
     "text": [
      "[ 0.56580192  1.57190061  1.30134451 ...,  1.6981281   1.751302    1.82657683] [ 0.53342772  1.4819591   1.22688389 ...,  1.60096419  1.65109551\n",
      "  1.7220633 ]\n"
     ]
    }
   ],
   "source": [
    "def calcR2(H, T, tanalpha, igflag=0):\n",
    "    '''\n",
    "    %\n",
    "    % [R2,S,setup, Sinc, SIG, ir] = calcR2( H, T, tanalpha, igflag );\n",
    "    %\n",
    "    % Calculated 2% runup (R2), swash (S), setup (setup), incident swash (Sinc)\n",
    "    % and infragravity swash (SIG) elevations based on parameterizations from runup paper\n",
    "    % also Iribarren (ir)\n",
    "    % August 2010 - Included 15% runup (R16) statistic that, for a Guassian distribution, \n",
    "    % represents mean+sigma. It is calculated as R16 = setup + swash/4.  \n",
    "    % In a wave tank, Palmsten et al (2010) found this statistic represented initiation of dune erosion. \n",
    "    %\n",
    "    %\n",
    "    % H = significant wave height, reverse shoaled to deep water\n",
    "    % T = deep-water peak wave period\n",
    "    % tanalpha = rise/run [] of beach slope.  This is different than Hilary's original version\n",
    "    % igflag = 0 (default)use full equation for all data\n",
    "    %        = 1  use dissipative-specific calculations when dissipative conditions exist (Iribarren < 0.3)\n",
    "    %        = 2  use dissipative-specific (IG energy) calculation for all data\n",
    "    %\n",
    "    % based on:\n",
    "    %  Stockdon, H. F., R. A. Holman, P. A. Howd, and J. Sallenger A. H. (2006),\n",
    "    %    Empirical parameterization of setup, swash, and runup,\n",
    "    %    Coastal Engineering, 53, 573-588.\n",
    "    % author: hstockdon@usgs.gov\n",
    "    # from calcR2.m\n",
    "    # converted to Python by csherwood@usgs.gov\n",
    "    '''\n",
    "    N = len(H)\n",
    "    g = 9.81;\n",
    "\n",
    "    #  intialize output\n",
    "    R2    = np.NaN*np.ones_like(H);\n",
    "    R16   = R2.copy()\n",
    "    S     = R2.copy()\n",
    "    setup = R2.copy()\n",
    "    Sinc  = R2.copy()\n",
    "    SIG   = R2.copy()\n",
    "\n",
    "    # make slopes positive!\n",
    "    tanalpha = np.abs(tanalpha)\n",
    "    \n",
    "    if len(tanalpha) == 1:\n",
    "        tanalpha =np.ones(N,)\n",
    "    \n",
    "    # convert slopes from rise/run to radians\n",
    "    slope = np.arctan(tanalpha)\n",
    "\n",
    "    # compute wavelength and Iribarren number\n",
    "    L = (g*T**2) / (2*np.pi)\n",
    "    ir = slope / np.sqrt(H/L)\n",
    "    \n",
    "    for ii in range(N): # have to do in loop to check Iribarren number\n",
    "        if igflag == 2: # use dissipative equations (IG) for ALL data\n",
    "            R2[ii]    = 1.1*( 0.039 * np.sqrt(H[ii]*L[ii]))\n",
    "            S[ii]     = 0.046*np.sqrt(H[ii]*L[ii])\n",
    "            setup[ii] = 0.016*np.sqrt(H[ii]*L[ii])\n",
    "\n",
    "        elif igflag == 1 and ir(ii) < 0.3: # if dissipative site use diss equations\n",
    "            R2[ii]    = 1.1*( 0.039 * np.sqrt(H[ii]*L[ii]))\n",
    "            S[ii]     = 0.046*np.sqrt(H[ii]*L(ii))\n",
    "            setup[ii] = 0.016*np.sqrt(H[ii]*L[ii])\n",
    "\n",
    "        else: # if int/ref site, use full equations\n",
    "            #  Coded as written in paper (equation 19)\n",
    "            #         part1 = 0.35*slope(ii).*sqrt(H(ii).*L(ii));\n",
    "            #         part2 = sqrt(H(ii).*L(ii).*( (0.5625*slope(ii).^2)+0.0036))/2;\n",
    "            #         R2(ii) = 1.1*(part1+part2);\n",
    "            setup[ii] = 0.35*slope[ii]*np.sqrt(H[ii]*L[ii])\n",
    "            Sinc[ii]  = 0.75*slope[ii]*np.sqrt(H[ii]*L[ii])\n",
    "            SIG[ii]   = 0.06*np.sqrt(H[ii]*L[ii])\n",
    "            S[ii]     = np.sqrt(Sinc[ii]**2 + SIG[ii]**2)\n",
    "            R2[ii]    = 1.1*(setup[ii] + S[ii]/2)\n",
    "            R16[ii]   = 1.1*(setup[ii] + S[ii]/4)\n",
    "        #end\n",
    "#end\n",
    "    return R2, S, setup, Sinc, SIG, ir\n",
    "\n",
    "R2, S, setup, Sinc, SIG, ir = calcR2(Hs, Tp, np.array([0.005]), igflag=0)\n",
    "print(R2,S)"
   ]
  },
  {
   "cell_type": "code",
   "execution_count": null,
   "metadata": {},
   "outputs": [],
   "source": [
    "plot()"
   ]
  }
 ],
 "metadata": {
  "kernelspec": {
   "display_name": "Python 3",
   "language": "python",
   "name": "python3"
  },
  "language_info": {
   "codemirror_mode": {
    "name": "ipython",
    "version": 3
   },
   "file_extension": ".py",
   "mimetype": "text/x-python",
   "name": "python",
   "nbconvert_exporter": "python",
   "pygments_lexer": "ipython3",
   "version": "3.6.3"
  }
 },
 "nbformat": 4,
 "nbformat_minor": 2
}
