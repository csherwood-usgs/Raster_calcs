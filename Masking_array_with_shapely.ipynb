{
 "cells": [
  {
   "cell_type": "code",
   "execution_count": 31,
   "metadata": {},
   "outputs": [],
   "source": [
    "from shapely.geometry import Polygon, Point\n",
    "import json\n",
    "import fiona\n",
    "import numpy as np\n",
    "import rasterio # rasterio and OGR don't mix...see rasterio docs\n",
    "import matplotlib.pyplot as plt\n",
    "%matplotlib inline\n",
    "\n",
    "# read in a .tif file\n",
    "fdir = \"F:\\\\2017_Karen_Sandwich_maps\\\\\"\n",
    "fnames = (\"2016-01-22_SandwichTNB_PT_DEM_10cm_trimmed.tif\")\n",
    "# reopen and read band 1 (elevation...only band in these files) into specifed window\n",
    "with rasterio.open(fdir+fnames) as src:\n",
    "    # load into temporary 2d array\n",
    "    # note the x,y switch: syntax for window=((row_start, row_stop)(col_start, col_stop)\n",
    "    raster = src.read(1,)"
   ]
  },
  {
   "cell_type": "code",
   "execution_count": null,
   "metadata": {},
   "outputs": [],
   "source": [
    "https://gist.github.com/perrette/a78f99b76aed54b6babf3597e0b331f8\n",
    "https://snorfalorpagus.net/blog/2014/11/09/masking-rasterio-layers-with-vector-features/    "
   ]
  },
  {
   "cell_type": "markdown",
   "metadata": {},
   "source": [
    "### Read a polygon that was saved in geojson format and build a shapely polygon\n",
    "\n",
    "This seems harder than it should be. This version assumes that there is only one `features` in the .geojson file. If you have multiple `features`, you have to do something like this:\n",
    "\n",
    "```\n",
    "for feature in data['features']:\n",
    "    print(feature['geometry']['type'])\n",
    "    #print(feature['geometry']['coordinates'])\n",
    "    #print(feature['geometry'])\n",
    "```"
   ]
  },
  {
   "cell_type": "code",
   "execution_count": 28,
   "metadata": {},
   "outputs": [
    {
     "name": "stdout",
     "output_type": "stream",
     "text": [
      "(68, 2)\n",
      "area of polygon:  140291.0993559061\n"
     ]
    }
   ],
   "source": [
    "# load a polygon I drew in Global Mapper and saved in geojson format\n",
    "with open('std_crop_poly.geojson') as f:\n",
    "    data = json.load(f)\n",
    "\n",
    "# convert to array\n",
    "a=np.squeeze(data['features'][0]['geometry']['coordinates'])\n",
    "print(np.shape(a))\n",
    "# shapely.geometry.Polygon requires a sequence of coordinate tuples (not an array)\n",
    "# print(tuple(map(tuple,a)))\n",
    "poly = Polygon(tuple(map(tuple,a)))\n",
    "# print(poly.wkt)\n",
    "print(\"area of polygon: \",poly.area)"
   ]
  },
  {
   "cell_type": "code",
   "execution_count": null,
   "metadata": {},
   "outputs": [],
   "source": [
    "mask = rasterio.features.rasterize(\n",
    "    [(geometry, 0)],\n",
    "    out_shape=raster.shape,\n",
    "    transform=shifted_affine,\n",
    "    fill=1,\n",
    "    all_touched=True,\n",
    "    dtype=numpy.uint8)"
   ]
  },
  {
   "cell_type": "code",
   "execution_count": 3,
   "metadata": {},
   "outputs": [
    {
     "name": "stdout",
     "output_type": "stream",
     "text": [
      "Polygon\n"
     ]
    },
    {
     "ename": "ValueError",
     "evalue": "operands could not be broadcast together with shapes (100,2) (100,) ",
     "output_type": "error",
     "traceback": [
      "\u001b[1;31m---------------------------------------------------------------------------\u001b[0m",
      "\u001b[1;31mValueError\u001b[0m                                Traceback (most recent call last)",
      "\u001b[1;32m<ipython-input-3-54e8dd4f4110>\u001b[0m in \u001b[0;36m<module>\u001b[1;34m()\u001b[0m\n\u001b[0;32m     28\u001b[0m \u001b[0mmask\u001b[0m \u001b[1;33m=\u001b[0m \u001b[0mnp\u001b[0m\u001b[1;33m.\u001b[0m\u001b[0marray\u001b[0m\u001b[1;33m(\u001b[0m\u001b[1;33m[\u001b[0m\u001b[0mpoly\u001b[0m\u001b[1;33m.\u001b[0m\u001b[0mcontains\u001b[0m\u001b[1;33m(\u001b[0m\u001b[0mPoint\u001b[0m\u001b[1;33m(\u001b[0m\u001b[0mx\u001b[0m\u001b[1;33m,\u001b[0m \u001b[0my\u001b[0m\u001b[1;33m)\u001b[0m\u001b[1;33m)\u001b[0m \u001b[1;32mfor\u001b[0m \u001b[0mx\u001b[0m\u001b[1;33m,\u001b[0m \u001b[0my\u001b[0m \u001b[1;32min\u001b[0m \u001b[0mpoints\u001b[0m\u001b[1;33m]\u001b[0m\u001b[1;33m)\u001b[0m\u001b[1;33m\u001b[0m\u001b[0m\n\u001b[0;32m     29\u001b[0m \u001b[1;33m\u001b[0m\u001b[0m\n\u001b[1;32m---> 30\u001b[1;33m \u001b[0mprint\u001b[0m\u001b[1;33m(\u001b[0m\u001b[0mpoints\u001b[0m\u001b[1;33m*\u001b[0m\u001b[0mmask\u001b[0m\u001b[1;33m)\u001b[0m\u001b[1;33m\u001b[0m\u001b[0m\n\u001b[0m",
      "\u001b[1;31mValueError\u001b[0m: operands could not be broadcast together with shapes (100,2) (100,) "
     ]
    }
   ],
   "source": [
    "# read in a .tif file\n",
    "fdir = \"F:\\\\2017_Karen_Sandwich_maps\\\\\"\n",
    "fnames = (\"2016-01-22_SandwichTNB_PT_DEM_10cm_trimmed.tif\")\n",
    "# reopen and read band 1 (elevation...only band in these files) into specifed window\n",
    "with rasterio.open(fdir+fnames[0]) as src:\n",
    "    # load into temporary 2d array\n",
    "    # note the x,y switch: syntax for window=((row_start, row_stop)(col_start, col_stop)\n",
    "    raster = src.read(1,)\n",
    "\n",
    "#poly_data = [[0, 0], [0, 1], [1, 0], [0.2, 0.5]]\n",
    "#poly = Polygon(poly_data)\n",
    "\n",
    "#points = np.random.rand(100, 2)\n",
    "\n",
    "mask = np.array([poly.contains(Point(x, y)) for x, y in points])\n",
    "\n",
    "print(points*mask)"
   ]
  },
  {
   "cell_type": "code",
   "execution_count": null,
   "metadata": {},
   "outputs": [],
   "source": []
  }
 ],
 "metadata": {
  "kernelspec": {
   "display_name": "Python 3",
   "language": "python",
   "name": "python3"
  },
  "language_info": {
   "codemirror_mode": {
    "name": "ipython",
    "version": 3
   },
   "file_extension": ".py",
   "mimetype": "text/x-python",
   "name": "python",
   "nbconvert_exporter": "python",
   "pygments_lexer": "ipython3",
   "version": "3.6.3"
  }
 },
 "nbformat": 4,
 "nbformat_minor": 2
}
