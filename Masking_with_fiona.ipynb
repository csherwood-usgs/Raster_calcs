{
 "cells": [
  {
   "cell_type": "code",
   "execution_count": 1,
   "metadata": {},
   "outputs": [],
   "source": [
    "import json\n",
    "import fiona\n",
    "import rasterio\n",
    "import rasterio.mask\n",
    "import numpy as np\n",
    "import matplotlib.pyplot as plt\n",
    "%matplotlib inline"
   ]
  },
  {
   "cell_type": "markdown",
   "metadata": {},
   "source": [
    "#### Read in a polygon saved from Global Mapper as a .shp file"
   ]
  },
  {
   "cell_type": "code",
   "execution_count": 3,
   "metadata": {},
   "outputs": [],
   "source": [
    "#fn = 'test_shape.shp'  # broadly delimits study area\n",
    "fn = 'random_poly.shp' # smaller area\n",
    "with fiona.open(fn, \"r\") as shapefile:\n",
    "    features = [feature[\"geometry\"] for feature in shapefile]"
   ]
  },
  {
   "cell_type": "code",
   "execution_count": 4,
   "metadata": {},
   "outputs": [
    {
     "name": "stdout",
     "output_type": "stream",
     "text": [
      "[{'type': 'Polygon', 'coordinates': [[(376394.1489175722, 4625369.23452655), (376401.85702172574, 4625386.317351971), (376419.3565014257, 4625393.400474707), (376444.3557581398, 4625382.775790604), (376463.3135278147, 4625358.401515307), (376443.9391038612, 4625340.4853813285), (376422.8980627935, 4625331.52731434), (376406.44021879, 4625340.27705419), (376394.1489175722, 4625369.23452655)]]}]\n"
     ]
    }
   ],
   "source": [
    "print(features)"
   ]
  },
  {
   "cell_type": "markdown",
   "metadata": {},
   "source": [
    "#### Read in the same polygon saved from Global Mapper in geoJSON format"
   ]
  },
  {
   "cell_type": "code",
   "execution_count": 5,
   "metadata": {},
   "outputs": [
    {
     "name": "stdout",
     "output_type": "stream",
     "text": [
      "Polygon\n",
      "[[[376394.148918, 4625369.234527], [376401.857022, 4625386.317352], [376419.356501, 4625393.400475], [376444.355758, 4625382.775791], [376463.313528, 4625358.401515], [376443.939104, 4625340.485381], [376422.898063, 4625331.527314], [376406.440219, 4625340.277054], [376394.148918, 4625369.234527]]]\n",
      "{'type': 'Polygon', 'coordinates': [[[376394.148918, 4625369.234527], [376401.857022, 4625386.317352], [376419.356501, 4625393.400475], [376444.355758, 4625382.775791], [376463.313528, 4625358.401515], [376443.939104, 4625340.485381], [376422.898063, 4625331.527314], [376406.440219, 4625340.277054], [376394.148918, 4625369.234527]]]}\n",
      " \n",
      "{'type': 'Polygon', 'coordinates': [[[376394.148918, 4625369.234527], [376401.857022, 4625386.317352], [376419.356501, 4625393.400475], [376444.355758, 4625382.775791], [376463.313528, 4625358.401515], [376443.939104, 4625340.485381], [376422.898063, 4625331.527314], [376406.440219, 4625340.277054], [376394.148918, 4625369.234527]]]}\n"
     ]
    }
   ],
   "source": [
    "with open('random_poly.geojson') as f:\n",
    "    data = json.load(f)\n",
    "\n",
    "for feature in data['features']:\n",
    "    print(feature['geometry']['type'])\n",
    "    print(feature['geometry']['coordinates'])\n",
    "    print(feature['geometry'])\n",
    "\n",
    "print(\" \")\n",
    "jsonfeatures = data['features'][0]['geometry']\n",
    "print(jsonfeatures)"
   ]
  },
  {
   "cell_type": "markdown",
   "metadata": {},
   "source": [
    "#### Note the only difference is that the geojson version has no brackets around it.\n",
    "So, in the rasterio.mask.mask command below, both `features` and `[jsonfeatures]` work."
   ]
  },
  {
   "cell_type": "code",
   "execution_count": 6,
   "metadata": {},
   "outputs": [
    {
     "name": "stdout",
     "output_type": "stream",
     "text": [
      "(1, 6800, 8000)\n"
     ]
    }
   ],
   "source": [
    "# read in a raster and mask it\n",
    "# the nodata regions that are cropped out can be declared nans or assigned a value. Global Mapper uses -32767.\n",
    "with rasterio.open(\"zmean.tif\") as src:\n",
    "    out_image, out_transform = rasterio.mask.mask(src, [jsonfeatures],\n",
    "                                                        crop=False, nodata=float('nan'))\n",
    "    out_meta = src.meta.copy()\n",
    "    \n",
    "print(np.shape(out_image))"
   ]
  },
  {
   "cell_type": "code",
   "execution_count": 7,
   "metadata": {},
   "outputs": [
    {
     "data": {
      "image/png": "[encoded data removed]",
      "text/plain": [
       "<matplotlib.figure.Figure at 0x2d8570da198>"
      ]
     },
     "metadata": {},
     "output_type": "display_data"
    }
   ],
   "source": [
    "# Change palette to highlight missing values\n",
    "import copy\n",
    "\n",
    "# Change palette to highlight missing values\n",
    "tcm = copy.copy(plt.cm.terrain) # work on a copy to prevent munting the original\n",
    "tcm.norm_clip=False # need this to make next line work\n",
    "tcm.set_bad(color='magenta',alpha=None)\n",
    "tcm.set_under('red',alpha=None)\n",
    "\n",
    "fig, ax = plt.subplots(figsize=(12,6))\n",
    "plt.axis('off');\n",
    "im=plt.imshow(out_image[0][:][:],cmap=tcm,vmin=-2,vmax=8)\n",
    "\n",
    "cbar = fig.colorbar(im, extend='both', shrink=0.8, ax=ax)\n",
    "cbar.set_label('Elevation (m NAVD88)')\n",
    "for ticklabel in ax.xaxis.get_ticklabels():\n",
    "    ticklabel.set_visible(False)"
   ]
  },
  {
   "cell_type": "code",
   "execution_count": null,
   "metadata": {},
   "outputs": [],
   "source": []
  }
 ],
 "metadata": {
  "kernelspec": {
   "display_name": "Python 3",
   "language": "python",
   "name": "python3"
  },
  "language_info": {
   "codemirror_mode": {
    "name": "ipython",
    "version": 3
   },
   "file_extension": ".py",
   "mimetype": "text/x-python",
   "name": "python",
   "nbconvert_exporter": "python",
   "pygments_lexer": "ipython3",
   "version": "3.6.3"
  }
 },
 "nbformat": 4,
 "nbformat_minor": 2
}
