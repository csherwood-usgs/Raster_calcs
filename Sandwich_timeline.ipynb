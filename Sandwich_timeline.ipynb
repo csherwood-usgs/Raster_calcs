{
 "cells": [
  {
   "cell_type": "code",
   "execution_count": 1,
   "metadata": {},
   "outputs": [],
   "source": [
    "### Plot a timeline of Sandwich data\n",
    "\n",
    "import numpy as np\n",
    "import  json\n",
    "#from  shapely.geometry  import Polygon, Point\n",
    "#import shapely.ops as shops\n",
    "#from descartes.patch import PolygonPatch\n",
    "#import shapely.vectorized\n",
    "from datetime import datetime\n",
    "import matplotlib.pyplot as plt\n",
    "#import xarray as xr\n",
    "#import hvplot.xarray\n",
    "import pandas as pd\n",
    "from IPython.display import display, HTML\n",
    "#from scipy import interpolate, signal\n",
    "#from astropy.convolution import convolve, Gaussian1DKernel, Box1DKernel\n",
    "%matplotlib inline"
   ]
  },
  {
   "cell_type": "code",
   "execution_count": 17,
   "metadata": {},
   "outputs": [],
   "source": [
    "map_dates = ([\\\n",
    "         \"22-Jan-2016\",\\\n",
    "         \"25-Jan-2016\",\\\n",
    "         \"11-Feb-2016\",\\\n",
    "         \"30-Mar-2016\",\\\n",
    "         \"21-Sep-2016\",\\\n",
    "         \"09-Jan-2017\",\\\n",
    "         \"25-Jan-2017\",\\\n",
    "         \"14-Feb-2017\",\\\n",
    "         \"16-Mar-2017\",\\\n",
    "         \"28-Apr-2017\",\\\n",
    "         \"04-May-2017\",\\\n",
    "         \"18-Sep-2017\",\\\n",
    "         \"03-Jan-2017\",\\\n",
    "         \"10-Jan-2018\",\\\n",
    "         \"09-Mar-2018\"]\n",
    "         )\n",
    "map_dt = np.array([ datetime.strptime(map_dates[i], '%d-%b-%Y') for i in range (len(map_dates))])\n",
    "map_qual = np.array([2,1,1,2,1,1,1,1,1,1,1,1,0,1,1])\n",
    "\n",
    "# plot axist\n",
    "plt_dates = [\"1-Jan-2016\",\"31-Mar-2018\"]\n",
    "plt_dt = np.array([ datetime.strptime(plt_dates[i], '%d-%b-%Y') for i in range (len(plt_dates))])\n",
    "\n",
    "# beachcam\n",
    "bc_dates = [\"21-Dec-2015\",\"2-Mar-2018\"]\n",
    "bc_dt = np.array([ datetime.strptime(bc_dates[i], '%d-%b-%Y') for i in range (len(bc_dates))])\n",
    "\n",
    "# CDIP 221\n",
    "buoy_dates = [\"21-Dec-2015\",\"2-Mar-2018\"]\n",
    "buoy_dt = np.array([ datetime.strptime(buoy_dates[i], '%d-%b-%Y') for i in range (len(buoy_dates))])\n"
   ]
  },
  {
   "cell_type": "code",
   "execution_count": 18,
   "metadata": {},
   "outputs": [
    {
     "data": {
      "image/png": "[encoded data removed]",
      "text/plain": [
       "<matplotlib.figure.Figure at 0x1e4b2b7c9b0>"
      ]
     },
     "metadata": {},
     "output_type": "display_data"
    }
   ],
   "source": [
    "fig, ax = plt.subplots(figsize=(12,1))\n",
    "\n",
    "# maps\n",
    "ax.scatter(map_dt, [1]*len(map_dt), c=map_qual,\n",
    "           marker='s', s=100)\n",
    "\n",
    "# beach cam\n",
    "plt.plot(bc_dt,[2]*len(bc_dt))\n",
    "\n",
    "# buoy\n",
    "fig.autofmt_xdate()\n",
    "# everything after this is turning off stuff that's plotted by default\n",
    "\n",
    "ax.yaxis.set_visible(False)\n",
    "ax.spines['right'].set_visible(False)\n",
    "ax.spines['left'].set_visible(False)\n",
    "ax.spines['top'].set_visible(False)\n",
    "ax.xaxis.set_ticks_position('bottom')\n",
    "\n",
    "ax.get_yaxis().set_ticklabels([])\n",
    "day = pd.to_timedelta(\"1\", unit='D')\n",
    "#plt.xlim(map_dt[0] - day, map_dt[-1] + day)\n",
    "plt.xlim(plt_dt[0], plt_dt[-1])\n",
    "\n",
    "plt.show()"
   ]
  },
  {
   "cell_type": "code",
   "execution_count": null,
   "metadata": {},
   "outputs": [],
   "source": []
  }
 ],
 "metadata": {
  "kernelspec": {
   "display_name": "Python 3",
   "language": "python",
   "name": "python3"
  },
  "language_info": {
   "codemirror_mode": {
    "name": "ipython",
    "version": 3
   },
   "file_extension": ".py",
   "mimetype": "text/x-python",
   "name": "python",
   "nbconvert_exporter": "python",
   "pygments_lexer": "ipython3",
   "version": "3.6.3"
  }
 },
 "nbformat": 4,
 "nbformat_minor": 2
}
