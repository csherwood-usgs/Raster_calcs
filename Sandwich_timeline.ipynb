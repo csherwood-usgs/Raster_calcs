{
 "cells": [
  {
   "cell_type": "code",
   "execution_count": 17,
   "metadata": {},
   "outputs": [],
   "source": [
    "### Plot a timeline of Sandwich data\n",
    "\n",
    "import numpy as np\n",
    "import  json\n",
    "#from  shapely.geometry  import Polygon, Point\n",
    "#import shapely.ops as shops\n",
    "#from descartes.patch import PolygonPatch\n",
    "#import shapely.vectorized\n",
    "from datetime import datetime, timedelta\n",
    "import matplotlib.pyplot as plt\n",
    "#import xarray as xr\n",
    "#import hvplot.xarray\n",
    "import pandas as pd\n",
    "from IPython.display import display, HTML\n",
    "#from scipy import interpolate, signal\n",
    "#from astropy.convolution import convolve, Gaussian1DKernel, Box1DKernel\n",
    "%matplotlib inline"
   ]
  },
  {
   "cell_type": "code",
   "execution_count": 58,
   "metadata": {},
   "outputs": [],
   "source": [
    "map_dates = ([\\\n",
    "         \"22-Jan-2016\",\\\n",
    "         \"25-Jan-2016\",\\\n",
    "         \"11-Feb-2016\",\\\n",
    "         \"30-Mar-2016\",\\\n",
    "         \"21-Sep-2016\",\\\n",
    "         \"09-Jan-2017\",\\\n",
    "         \"25-Jan-2017\",\\\n",
    "         \"14-Feb-2017\",\\\n",
    "         \"16-Mar-2017\",\\\n",
    "         \"28-Apr-2017\",\\\n",
    "         \"04-May-2017\",\\\n",
    "         \"18-Sep-2017\",\\\n",
    "         \"03-Jan-2018\",\\\n",
    "         \"10-Jan-2018\",\\\n",
    "         \"09-Mar-2018\"]\n",
    "         )\n",
    "map_dt = np.array([ datetime.strptime(map_dates[i], '%d-%b-%Y') for i in range (len(map_dates))])\n",
    "map_qual = np.array([2,1,1,2,1,1,1,1,1,1,1,1,0,0,0])\n",
    "\n",
    "# plot axis\n",
    "plt_dates = [\"1-Jan-2016\",\"1-Apr-2018\"]\n",
    "plt_dt = np.array([ datetime.strptime(plt_dates[i], '%d-%b-%Y') for i in range (len(plt_dates))])\n",
    "\n",
    "# beachcam\n",
    "bc_dates = [\"21-Dec-2015\",\"2-Mar-2018\"]\n",
    "bc_dt = np.array([ datetime.strptime(bc_dates[i], '%d-%b-%Y') for i in range (len(bc_dates))])\n",
    "\n",
    "# CDIP 221\n",
    "buoy_dates = [\"20-May-2016\",\"31-Mar-2018\"]\n",
    "buoy_dt = np.array([ datetime.strptime(buoy_dates[i], '%d-%b-%Y') for i in range (len(buoy_dates))])\n",
    "\n",
    "# 2016 Nanopod\n",
    "npod_dates = ['2-Feb-2016','20-May-2016']\n",
    "npod_dt = np.array([ datetime.strptime(npod_dates[i], '%d-%b-%Y') for i in range (len(npod_dates))])\n",
    "              \n",
    "# 2017 Quadpod\n",
    "qpod_dates = ['17-Dec-2016','25-May-2017']\n",
    "qpod_dt = np.array([ datetime.strptime(qpod_dates[i], '%d-%b-%Y') for i in range (len(qpod_dates))])\n",
    "\n",
    "# Overwash measurements\n",
    "ow1_dates =['21-Jan-2016','24-Jan-2016']\n",
    "ow1_dt = np.array([ datetime.strptime(ow1_dates[i], '%d-%b-%Y') for i in range (len(ow1_dates))])\n",
    "              \n",
    "# Overwash measurements\n",
    "ow2_dates =['23-Jan-2017','26-Jan-2017']\n",
    "ow2_dt = np.array([ datetime.strptime(ow2_dates[i], '%d-%b-%Y') for i in range (len(ow2_dates))])\n",
    "              \n",
    "# Overwash measurements\n",
    "ow3_dates =['08-Feb-2017','10-Feb-2017']\n",
    "ow3_dt = np.array([ datetime.strptime(ow3_dates[i], '%d-%b-%Y') for i in range (len(ow3_dates))])\n",
    "              \n",
    "# Overwash measurements\n",
    "ow4_dates =['13-Feb-2017','14-Feb-2017']\n",
    "ow4_dt = np.array([ datetime.strptime(ow4_dates[i], '%d-%b-%Y') for i in range (len(ow4_dates))])\n",
    "              \n",
    "# Overwash measurements\n",
    "ow5_dates =['13-Mar-2017','15-Mar-2017']\n",
    "ow5_dt = np.array([ datetime.strptime(ow5_dates[i], '%d-%b-%Y') for i in range (len(ow5_dates))])\n",
    "\n",
    "# D|Wave measurements at groin\n",
    "dwave_dates = ['10-May-2017','16-Jun-2017']\n",
    "dwave_dt = np.array([ datetime.strptime(dwave_dates[i], '%d-%b-%Y') for i in range (len(dwave_dates))])\n",
    "\n",
    "# D|Wave measurements at groin\n",
    "dwave2_dates = ['21-Apr-2016','04-May-2016']\n",
    "dwave2_dt = np.array([ datetime.strptime(dwave2_dates[i], '%d-%b-%Y') for i in range (len(dwave2_dates))])"
   ]
  },
  {
   "cell_type": "code",
   "execution_count": 61,
   "metadata": {},
   "outputs": [
    {
     "data": {
      "image/png": "[encoded data removed]",
      "text/plain": [
       "<matplotlib.figure.Figure at 0x1ff91b6ac18>"
      ]
     },
     "metadata": {},
     "output_type": "display_data"
    }
   ],
   "source": [
    "day = timedelta(days=1)\n",
    "fig, ax = plt.subplots(figsize=(12,3))\n",
    "\n",
    "\n",
    "# buoy\n",
    "plt.plot(buoy_dt,[2.75]*len(dwave_dt), linewidth=6, color='gray')\n",
    "plt.text(plt_dt[-1]+20*day,2.75,'Waverider')\n",
    "\n",
    "# Nano, quadpod\n",
    "plt.plot(npod_dt,[2.25]*len(npod_dt), linewidth=6, color='gray')\n",
    "plt.plot(qpod_dt,[2.25]*len(qpod_dt), linewidth=6, color='gray')\n",
    "\n",
    "plt.text(plt_dt[-1]+20*day,2.25,'Nanopod, Quadpod')\n",
    "\n",
    "# Dwave\n",
    "plt.plot(dwave_dt,[1.75]*len(dwave_dt), linewidth=6, color='gray')\n",
    "plt.plot(dwave2_dt,[1.75]*len(dwave2_dt), linewidth=6, color='gray')\n",
    "\n",
    "plt.text(plt_dt[-1]+20*day,1.75,'Groin DWave')\n",
    "\n",
    "# Owash measurements\n",
    "plt.plot(ow1_dt,[1.25]*len(ow1_dt), linewidth=6, color='gray')\n",
    "plt.plot(ow2_dt,[1.25]*len(ow2_dt), linewidth=6, color='gray')\n",
    "plt.plot(ow3_dt,[1.25]*len(ow3_dt), linewidth=6, color='gray')\n",
    "plt.plot(ow4_dt,[1.25]*len(ow4_dt), linewidth=6, color='gray')\n",
    "plt.plot(ow5_dt,[1.25]*len(ow5_dt), linewidth=6, color='gray')\n",
    "plt.text(plt_dt[-1]+20*day,1.25,'Overwash RBR')\n",
    "\n",
    "# Overwash observations\n",
    "\n",
    "\n",
    "# beach cam\n",
    "plt.plot(bc_dt,[.75]*len(bc_dt), linewidth=6, color='gray')\n",
    "plt.text(plt_dt[-1]+20*day,.75,'Beachcam')\n",
    "\n",
    "# maps\n",
    "ax.scatter(map_dt, [.25]*len(map_dt), c=map_qual, cmap=plt.cm.jet,\n",
    "           marker='s', s=30)\n",
    "plt.text(plt_dt[-1]+20*day,.25,'UAS Maps')\n",
    "\n",
    "fig.autofmt_xdate()\n",
    "# everything after this is turning off stuff that's plotted by default\n",
    "\n",
    "ax.yaxis.set_visible(False)\n",
    "ax.spines['right'].set_visible(False)\n",
    "ax.spines['left'].set_visible(False)\n",
    "ax.spines['top'].set_visible(False)\n",
    "ax.xaxis.set_ticks_position('bottom')\n",
    "\n",
    "ax.get_yaxis().set_ticklabels([])\n",
    "\n",
    "#plt.xlim(map_dt[0] - day, map_dt[-1] + day)\n",
    "\n",
    "plt.xlim(plt_dt[0], plt_dt[-1])\n",
    "plt.ylim(0,2.85)\n",
    "plt.show()"
   ]
  },
  {
   "cell_type": "code",
   "execution_count": 60,
   "metadata": {},
   "outputs": [
    {
     "data": {
      "text/plain": [
       "datetime.timedelta(1)"
      ]
     },
     "execution_count": 60,
     "metadata": {},
     "output_type": "execute_result"
    }
   ],
   "source": [
    "day"
   ]
  },
  {
   "cell_type": "code",
   "execution_count": null,
   "metadata": {},
   "outputs": [],
   "source": []
  }
 ],
 "metadata": {
  "kernelspec": {
   "display_name": "Python 3",
   "language": "python",
   "name": "python3"
  },
  "language_info": {
   "codemirror_mode": {
    "name": "ipython",
    "version": 3
   },
   "file_extension": ".py",
   "mimetype": "text/x-python",
   "name": "python",
   "nbconvert_exporter": "python",
   "pygments_lexer": "ipython3",
   "version": "3.6.3"
  }
 },
 "nbformat": 4,
 "nbformat_minor": 2
}
